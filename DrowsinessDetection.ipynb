{
 "cells": [
  {
   "cell_type": "markdown",
   "metadata": {
    "tags": []
   },
   "source": [
    "# 1. Setup and Get Data"
   ]
  },
  {
   "cell_type": "markdown",
   "metadata": {
    "tags": []
   },
   "source": [
    "### 1.1 Install Dependencies and Setup"
   ]
  },
  {
   "cell_type": "code",
   "execution_count": null,
   "metadata": {
    "tags": []
   },
   "outputs": [],
   "source": [
    "# Import opencv\n",
    "import cv2 \n",
    "# Import uuid\n",
    "import uuid\n",
    "# Import Operating System\n",
    "import os\n",
    "# Import time\n",
    "import time"
   ]
  },
  {
   "cell_type": "markdown",
   "metadata": {
    "tags": []
   },
   "source": [
    "### 1.2 Define Images to Collect"
   ]
  },
  {
   "cell_type": "code",
   "execution_count": null,
   "metadata": {
    "tags": []
   },
   "outputs": [],
   "source": [
    "labels = ['awake', 'drowsy']\n",
    "number_imgs = 100"
   ]
  },
  {
   "cell_type": "markdown",
   "metadata": {
    "tags": []
   },
   "source": [
    "### 1.3 Setup Folders"
   ]
  },
  {
   "cell_type": "code",
   "execution_count": null,
   "metadata": {
    "tags": []
   },
   "outputs": [],
   "source": [
    "IMAGES_PATH = os.path.join('Tensorflow', 'workspace', 'images', 'collectedimages')"
   ]
  },
  {
   "cell_type": "code",
   "execution_count": null,
   "metadata": {
    "tags": []
   },
   "outputs": [],
   "source": [
    "if not os.path.exists(IMAGES_PATH):\n",
    "    if os.name == 'posix':\n",
    "        !mkdir -p {IMAGES_PATH}\n",
    "    if os.name == 'nt':\n",
    "         !mkdir {IMAGES_PATH}\n",
    "for label in labels:\n",
    "    path = os.path.join(IMAGES_PATH, label)\n",
    "    if not os.path.exists(path):\n",
    "        !mkdir {path}"
   ]
  },
  {
   "cell_type": "markdown",
   "metadata": {
    "tags": []
   },
   "source": [
    "### 1.4 Capture Images with OpenCV"
   ]
  },
  {
   "cell_type": "code",
   "execution_count": null,
   "metadata": {
    "tags": []
   },
   "outputs": [],
   "source": [
    "for label in labels:\n",
    "    cap = cv2.VideoCapture(0)\n",
    "    print('Collecting images for {}'.format(label))\n",
    "    time.sleep(5)\n",
    "    for imgnum in range(number_imgs):\n",
    "        print('Collecting image {}'.format(imgnum))\n",
    "        ret, frame = cap.read()\n",
    "        imgname = os.path.join(IMAGES_PATH,label,label+'.'+'{}.jpg'.format(str(uuid.uuid1())))\n",
    "        cv2.imwrite(imgname, frame)\n",
    "        cv2.imshow('frame', frame)\n",
    "        time.sleep(2)\n",
    "\n",
    "        if cv2.waitKey(1) & 0xFF == ord('q'):\n",
    "            break\n",
    "cap.release()\n",
    "cv2.destroyAllWindows()"
   ]
  },
  {
   "cell_type": "markdown",
   "metadata": {
    "tags": []
   },
   "source": [
    "### 1.5 Annotate Images with labelImg"
   ]
  },
  {
   "cell_type": "code",
   "execution_count": 19,
   "metadata": {
    "collapsed": true,
    "jupyter": {
     "outputs_hidden": true
    },
    "tags": []
   },
   "outputs": [
    {
     "name": "stdout",
     "output_type": "stream",
     "text": [
      "\n",
      "Image:D:\\DrowsinessDetection\\Tensorflow\\workspace\\images\\collectedimages\\labels\\drowsy_original_drowsy.fa28de98-d8d9-11ec-b627-086ac5628e63.jpg_b6a27077-642b-4025-8f81-785456872f97.jpg -> Annotation:D:/DrowsinessDetection/Tensorflow/workspace/images/collectedimages/labels\\drowsy_original_drowsy.fa28de98-d8d9-11ec-b627-086ac5628e63.jpg_b6a27077-642b-4025-8f81-785456872f97.xml\n",
      "Image:D:\\DrowsinessDetection\\Tensorflow\\workspace\\images\\collectedimages\\labels\\drowsy_original_drowsy.fa28de98-d8d9-11ec-b627-086ac5628e63.jpg_b6a27077-642b-4025-8f81-785456872f97.jpg -> Annotation:D:/DrowsinessDetection/Tensorflow/workspace/images/collectedimages/labels\\drowsy_original_drowsy.fa28de98-d8d9-11ec-b627-086ac5628e63.jpg_b6a27077-642b-4025-8f81-785456872f97.xml\n",
      "Image:D:\\DrowsinessDetection\\Tensorflow\\workspace\\images\\collectedimages\\labels\\drowsy_original_drowsy.fa28de98-d8d9-11ec-b627-086ac5628e63.jpg_b232f14e-4820-483d-b053-c0f629cc32d7.jpg -> Annotation:D:/DrowsinessDetection/Tensorflow/workspace/images/collectedimages/labels\\drowsy_original_drowsy.fa28de98-d8d9-11ec-b627-086ac5628e63.jpg_b232f14e-4820-483d-b053-c0f629cc32d7.xml\n",
      "Image:D:\\DrowsinessDetection\\Tensorflow\\workspace\\images\\collectedimages\\labels\\drowsy_original_drowsy.fa28de98-d8d9-11ec-b627-086ac5628e63.jpg_b232f14e-4820-483d-b053-c0f629cc32d7.jpg -> Annotation:D:/DrowsinessDetection/Tensorflow/workspace/images/collectedimages/labels\\drowsy_original_drowsy.fa28de98-d8d9-11ec-b627-086ac5628e63.jpg_b232f14e-4820-483d-b053-c0f629cc32d7.xml\n",
      "Image:D:\\DrowsinessDetection\\Tensorflow\\workspace\\images\\collectedimages\\labels\\drowsy_original_drowsy.fa28de98-d8d9-11ec-b627-086ac5628e63.jpg_b9182a81-09a7-4a84-b3ce-e1488d0e3518.jpg -> Annotation:D:/DrowsinessDetection/Tensorflow/workspace/images/collectedimages/labels\\drowsy_original_drowsy.fa28de98-d8d9-11ec-b627-086ac5628e63.jpg_b9182a81-09a7-4a84-b3ce-e1488d0e3518.xml\n",
      "Image:D:\\DrowsinessDetection\\Tensorflow\\workspace\\images\\collectedimages\\labels\\drowsy_original_drowsy.fa28de98-d8d9-11ec-b627-086ac5628e63.jpg_b9182a81-09a7-4a84-b3ce-e1488d0e3518.jpg -> Annotation:D:/DrowsinessDetection/Tensorflow/workspace/images/collectedimages/labels\\drowsy_original_drowsy.fa28de98-d8d9-11ec-b627-086ac5628e63.jpg_b9182a81-09a7-4a84-b3ce-e1488d0e3518.xml\n",
      "Image:D:\\DrowsinessDetection\\Tensorflow\\workspace\\images\\collectedimages\\labels\\drowsy_original_drowsy.fa28de98-d8d9-11ec-b627-086ac5628e63.jpg_bb0cee45-9711-42e4-aa60-81ec7470b9e4.jpg -> Annotation:D:/DrowsinessDetection/Tensorflow/workspace/images/collectedimages/labels\\drowsy_original_drowsy.fa28de98-d8d9-11ec-b627-086ac5628e63.jpg_bb0cee45-9711-42e4-aa60-81ec7470b9e4.xml\n",
      "Image:D:\\DrowsinessDetection\\Tensorflow\\workspace\\images\\collectedimages\\labels\\drowsy_original_drowsy.fa28de98-d8d9-11ec-b627-086ac5628e63.jpg_bb0cee45-9711-42e4-aa60-81ec7470b9e4.jpg -> Annotation:D:/DrowsinessDetection/Tensorflow/workspace/images/collectedimages/labels\\drowsy_original_drowsy.fa28de98-d8d9-11ec-b627-086ac5628e63.jpg_bb0cee45-9711-42e4-aa60-81ec7470b9e4.xml\n",
      "Image:D:\\DrowsinessDetection\\Tensorflow\\workspace\\images\\collectedimages\\labels\\drowsy_original_drowsy.fa28de98-d8d9-11ec-b627-086ac5628e63.jpg_c4a1d295-e9c7-4c78-928b-7068b1be11b2.jpg -> Annotation:D:/DrowsinessDetection/Tensorflow/workspace/images/collectedimages/labels\\drowsy_original_drowsy.fa28de98-d8d9-11ec-b627-086ac5628e63.jpg_c4a1d295-e9c7-4c78-928b-7068b1be11b2.xml\n",
      "Image:D:\\DrowsinessDetection\\Tensorflow\\workspace\\images\\collectedimages\\labels\\drowsy_original_drowsy.fa28de98-d8d9-11ec-b627-086ac5628e63.jpg_c4a1d295-e9c7-4c78-928b-7068b1be11b2.jpg -> Annotation:D:/DrowsinessDetection/Tensorflow/workspace/images/collectedimages/labels\\drowsy_original_drowsy.fa28de98-d8d9-11ec-b627-086ac5628e63.jpg_c4a1d295-e9c7-4c78-928b-7068b1be11b2.xml\n",
      "Image:D:\\DrowsinessDetection\\Tensorflow\\workspace\\images\\collectedimages\\labels\\drowsy_original_drowsy.fa28de98-d8d9-11ec-b627-086ac5628e63.jpg_c59b8958-bc37-4b27-b765-3bca2b7ff504.jpg -> Annotation:D:/DrowsinessDetection/Tensorflow/workspace/images/collectedimages/labels\\drowsy_original_drowsy.fa28de98-d8d9-11ec-b627-086ac5628e63.jpg_c59b8958-bc37-4b27-b765-3bca2b7ff504.xml\n",
      "Image:D:\\DrowsinessDetection\\Tensorflow\\workspace\\images\\collectedimages\\labels\\drowsy_original_drowsy.fa28de98-d8d9-11ec-b627-086ac5628e63.jpg_c4637e9f-8a7f-4327-bcc3-a2d3914fa0e8.jpg -> Annotation:D:/DrowsinessDetection/Tensorflow/workspace/images/collectedimages/labels\\drowsy_original_drowsy.fa28de98-d8d9-11ec-b627-086ac5628e63.jpg_c4637e9f-8a7f-4327-bcc3-a2d3914fa0e8.xml\n",
      "Image:D:\\DrowsinessDetection\\Tensorflow\\workspace\\images\\collectedimages\\labels\\drowsy_original_drowsy.fa28de98-d8d9-11ec-b627-086ac5628e63.jpg_c4637e9f-8a7f-4327-bcc3-a2d3914fa0e8.jpg -> Annotation:D:/DrowsinessDetection/Tensorflow/workspace/images/collectedimages/labels\\drowsy_original_drowsy.fa28de98-d8d9-11ec-b627-086ac5628e63.jpg_c4637e9f-8a7f-4327-bcc3-a2d3914fa0e8.xml\n",
      "Image:D:\\DrowsinessDetection\\Tensorflow\\workspace\\images\\collectedimages\\labels\\drowsy_original_drowsy.fa28de98-d8d9-11ec-b627-086ac5628e63.jpg_c31297e7-f431-4bfa-8555-03a479155fdc.jpg -> Annotation:D:/DrowsinessDetection/Tensorflow/workspace/images/collectedimages/labels\\drowsy_original_drowsy.fa28de98-d8d9-11ec-b627-086ac5628e63.jpg_c31297e7-f431-4bfa-8555-03a479155fdc.xml\n",
      "Image:D:\\DrowsinessDetection\\Tensorflow\\workspace\\images\\collectedimages\\labels\\drowsy_original_drowsy.fa28de98-d8d9-11ec-b627-086ac5628e63.jpg_c31297e7-f431-4bfa-8555-03a479155fdc.jpg -> Annotation:D:/DrowsinessDetection/Tensorflow/workspace/images/collectedimages/labels\\drowsy_original_drowsy.fa28de98-d8d9-11ec-b627-086ac5628e63.jpg_c31297e7-f431-4bfa-8555-03a479155fdc.xml\n",
      "Image:D:\\DrowsinessDetection\\Tensorflow\\workspace\\images\\collectedimages\\labels\\drowsy_original_drowsy.fa28de98-d8d9-11ec-b627-086ac5628e63.jpg_d4f72ad7-9c3d-4768-8306-ec8385c5eed7.jpg -> Annotation:D:/DrowsinessDetection/Tensorflow/workspace/images/collectedimages/labels\\drowsy_original_drowsy.fa28de98-d8d9-11ec-b627-086ac5628e63.jpg_d4f72ad7-9c3d-4768-8306-ec8385c5eed7.xml\n",
      "Image:D:\\DrowsinessDetection\\Tensorflow\\workspace\\images\\collectedimages\\labels\\drowsy_original_drowsy.fa28de98-d8d9-11ec-b627-086ac5628e63.jpg_d7cefa62-99e6-4400-924a-7b4c2a48757e.jpg -> Annotation:D:/DrowsinessDetection/Tensorflow/workspace/images/collectedimages/labels\\drowsy_original_drowsy.fa28de98-d8d9-11ec-b627-086ac5628e63.jpg_d7cefa62-99e6-4400-924a-7b4c2a48757e.xml\n",
      "Image:D:\\DrowsinessDetection\\Tensorflow\\workspace\\images\\collectedimages\\labels\\drowsy_original_drowsy.fa28de98-d8d9-11ec-b627-086ac5628e63.jpg_d45f31f8-24ce-4015-86c0-d0f677601d60.jpg -> Annotation:D:/DrowsinessDetection/Tensorflow/workspace/images/collectedimages/labels\\drowsy_original_drowsy.fa28de98-d8d9-11ec-b627-086ac5628e63.jpg_d45f31f8-24ce-4015-86c0-d0f677601d60.xml\n",
      "Image:D:\\DrowsinessDetection\\Tensorflow\\workspace\\images\\collectedimages\\labels\\drowsy_original_drowsy.fa28de98-d8d9-11ec-b627-086ac5628e63.jpg_d84c85b4-b8ea-408e-bcfc-d392b9bacadb.jpg -> Annotation:D:/DrowsinessDetection/Tensorflow/workspace/images/collectedimages/labels\\drowsy_original_drowsy.fa28de98-d8d9-11ec-b627-086ac5628e63.jpg_d84c85b4-b8ea-408e-bcfc-d392b9bacadb.xml\n",
      "Image:D:\\DrowsinessDetection\\Tensorflow\\workspace\\images\\collectedimages\\labels\\drowsy_original_drowsy.fa28de98-d8d9-11ec-b627-086ac5628e63.jpg_d84c85b4-b8ea-408e-bcfc-d392b9bacadb.jpg -> Annotation:D:/DrowsinessDetection/Tensorflow/workspace/images/collectedimages/labels\\drowsy_original_drowsy.fa28de98-d8d9-11ec-b627-086ac5628e63.jpg_d84c85b4-b8ea-408e-bcfc-d392b9bacadb.xml\n",
      "Image:D:\\DrowsinessDetection\\Tensorflow\\workspace\\images\\collectedimages\\labels\\drowsy_original_drowsy.fa28de98-d8d9-11ec-b627-086ac5628e63.jpg_d796521f-8837-436f-a803-c938c3f4aee0.jpg -> Annotation:D:/DrowsinessDetection/Tensorflow/workspace/images/collectedimages/labels\\drowsy_original_drowsy.fa28de98-d8d9-11ec-b627-086ac5628e63.jpg_d796521f-8837-436f-a803-c938c3f4aee0.xml\n",
      "Image:D:\\DrowsinessDetection\\Tensorflow\\workspace\\images\\collectedimages\\labels\\drowsy_original_drowsy.fa28de98-d8d9-11ec-b627-086ac5628e63.jpg_d796521f-8837-436f-a803-c938c3f4aee0.jpg -> Annotation:D:/DrowsinessDetection/Tensorflow/workspace/images/collectedimages/labels\\drowsy_original_drowsy.fa28de98-d8d9-11ec-b627-086ac5628e63.jpg_d796521f-8837-436f-a803-c938c3f4aee0.xml\n",
      "Image:D:\\DrowsinessDetection\\Tensorflow\\workspace\\images\\collectedimages\\labels\\drowsy_original_drowsy.fa28de98-d8d9-11ec-b627-086ac5628e63.jpg_d7982631-d4f3-48dd-83a9-e9dbad172553.jpg -> Annotation:D:/DrowsinessDetection/Tensorflow/workspace/images/collectedimages/labels\\drowsy_original_drowsy.fa28de98-d8d9-11ec-b627-086ac5628e63.jpg_d7982631-d4f3-48dd-83a9-e9dbad172553.xml\n",
      "Image:D:\\DrowsinessDetection\\Tensorflow\\workspace\\images\\collectedimages\\labels\\drowsy_original_drowsy.fa28de98-d8d9-11ec-b627-086ac5628e63.jpg_daea4be2-8c07-45c0-ba19-6365e7810f5b.jpg -> Annotation:D:/DrowsinessDetection/Tensorflow/workspace/images/collectedimages/labels\\drowsy_original_drowsy.fa28de98-d8d9-11ec-b627-086ac5628e63.jpg_daea4be2-8c07-45c0-ba19-6365e7810f5b.xml\n",
      "Image:D:\\DrowsinessDetection\\Tensorflow\\workspace\\images\\collectedimages\\labels\\drowsy_original_drowsy.fa28de98-d8d9-11ec-b627-086ac5628e63.jpg_ddcf8790-6784-44e2-a9d2-bda1fb8f59c5.jpg -> Annotation:D:/DrowsinessDetection/Tensorflow/workspace/images/collectedimages/labels\\drowsy_original_drowsy.fa28de98-d8d9-11ec-b627-086ac5628e63.jpg_ddcf8790-6784-44e2-a9d2-bda1fb8f59c5.xml\n",
      "Image:D:\\DrowsinessDetection\\Tensorflow\\workspace\\images\\collectedimages\\labels\\drowsy_original_drowsy.fa28de98-d8d9-11ec-b627-086ac5628e63.jpg_ddcf8790-6784-44e2-a9d2-bda1fb8f59c5.jpg -> Annotation:D:/DrowsinessDetection/Tensorflow/workspace/images/collectedimages/labels\\drowsy_original_drowsy.fa28de98-d8d9-11ec-b627-086ac5628e63.jpg_ddcf8790-6784-44e2-a9d2-bda1fb8f59c5.xml\n",
      "Image:D:\\DrowsinessDetection\\Tensorflow\\workspace\\images\\collectedimages\\labels\\drowsy_original_drowsy.fa28de98-d8d9-11ec-b627-086ac5628e63.jpg_e037f0fe-0a9c-4638-b6c8-bf3ccaef4bec.jpg -> Annotation:D:/DrowsinessDetection/Tensorflow/workspace/images/collectedimages/labels\\drowsy_original_drowsy.fa28de98-d8d9-11ec-b627-086ac5628e63.jpg_e037f0fe-0a9c-4638-b6c8-bf3ccaef4bec.xml\n",
      "Image:D:\\DrowsinessDetection\\Tensorflow\\workspace\\images\\collectedimages\\labels\\drowsy_original_drowsy.fa28de98-d8d9-11ec-b627-086ac5628e63.jpg_e037f0fe-0a9c-4638-b6c8-bf3ccaef4bec.jpg -> Annotation:D:/DrowsinessDetection/Tensorflow/workspace/images/collectedimages/labels\\drowsy_original_drowsy.fa28de98-d8d9-11ec-b627-086ac5628e63.jpg_e037f0fe-0a9c-4638-b6c8-bf3ccaef4bec.xml\n",
      "Image:D:\\DrowsinessDetection\\Tensorflow\\workspace\\images\\collectedimages\\labels\\drowsy_original_drowsy.fa28de98-d8d9-11ec-b627-086ac5628e63.jpg_e38ef4ce-0ddb-44f9-9206-9825e5f450e8.jpg -> Annotation:D:/DrowsinessDetection/Tensorflow/workspace/images/collectedimages/labels\\drowsy_original_drowsy.fa28de98-d8d9-11ec-b627-086ac5628e63.jpg_e38ef4ce-0ddb-44f9-9206-9825e5f450e8.xml\n",
      "Image:D:\\DrowsinessDetection\\Tensorflow\\workspace\\images\\collectedimages\\labels\\drowsy_original_drowsy.fa28de98-d8d9-11ec-b627-086ac5628e63.jpg_e81d8b15-d3ca-414c-8c4d-995fa767b0a9.jpg -> Annotation:D:/DrowsinessDetection/Tensorflow/workspace/images/collectedimages/labels\\drowsy_original_drowsy.fa28de98-d8d9-11ec-b627-086ac5628e63.jpg_e81d8b15-d3ca-414c-8c4d-995fa767b0a9.xml\n",
      "Image:D:\\DrowsinessDetection\\Tensorflow\\workspace\\images\\collectedimages\\labels\\drowsy_original_drowsy.fa28de98-d8d9-11ec-b627-086ac5628e63.jpg_e82d3575-0537-4a8f-8c18-9307844d755e.jpg -> Annotation:D:/DrowsinessDetection/Tensorflow/workspace/images/collectedimages/labels\\drowsy_original_drowsy.fa28de98-d8d9-11ec-b627-086ac5628e63.jpg_e82d3575-0537-4a8f-8c18-9307844d755e.xml\n",
      "Image:D:\\DrowsinessDetection\\Tensorflow\\workspace\\images\\collectedimages\\labels\\drowsy_original_drowsy.fa28de98-d8d9-11ec-b627-086ac5628e63.jpg_e82d3575-0537-4a8f-8c18-9307844d755e.jpg -> Annotation:D:/DrowsinessDetection/Tensorflow/workspace/images/collectedimages/labels\\drowsy_original_drowsy.fa28de98-d8d9-11ec-b627-086ac5628e63.jpg_e82d3575-0537-4a8f-8c18-9307844d755e.xml\n",
      "Image:D:\\DrowsinessDetection\\Tensorflow\\workspace\\images\\collectedimages\\labels\\drowsy_original_drowsy.fa28de98-d8d9-11ec-b627-086ac5628e63.jpg_ef3774d4-38b4-4441-9186-b78fb576342a.jpg -> Annotation:D:/DrowsinessDetection/Tensorflow/workspace/images/collectedimages/labels\\drowsy_original_drowsy.fa28de98-d8d9-11ec-b627-086ac5628e63.jpg_ef3774d4-38b4-4441-9186-b78fb576342a.xml\n",
      "Image:D:\\DrowsinessDetection\\Tensorflow\\workspace\\images\\collectedimages\\labels\\drowsy_original_drowsy.fa28de98-d8d9-11ec-b627-086ac5628e63.jpg_ef3774d4-38b4-4441-9186-b78fb576342a.jpg -> Annotation:D:/DrowsinessDetection/Tensorflow/workspace/images/collectedimages/labels\\drowsy_original_drowsy.fa28de98-d8d9-11ec-b627-086ac5628e63.jpg_ef3774d4-38b4-4441-9186-b78fb576342a.xml\n",
      "Image:D:\\DrowsinessDetection\\Tensorflow\\workspace\\images\\collectedimages\\labels\\drowsy_original_drowsy.fa28de98-d8d9-11ec-b627-086ac5628e63.jpg_f9b18d4a-61a6-4551-bc20-22a24244dc09.jpg -> Annotation:D:/DrowsinessDetection/Tensorflow/workspace/images/collectedimages/labels\\drowsy_original_drowsy.fa28de98-d8d9-11ec-b627-086ac5628e63.jpg_f9b18d4a-61a6-4551-bc20-22a24244dc09.xml\n",
      "Image:D:\\DrowsinessDetection\\Tensorflow\\workspace\\images\\collectedimages\\labels\\drowsy_original_drowsy.fa28de98-d8d9-11ec-b627-086ac5628e63.jpg_f9b18d4a-61a6-4551-bc20-22a24244dc09.jpg -> Annotation:D:/DrowsinessDetection/Tensorflow/workspace/images/collectedimages/labels\\drowsy_original_drowsy.fa28de98-d8d9-11ec-b627-086ac5628e63.jpg_f9b18d4a-61a6-4551-bc20-22a24244dc09.xml\n",
      "Image:D:\\DrowsinessDetection\\Tensorflow\\workspace\\images\\collectedimages\\labels\\drowsy_original_drowsy.fa28de98-d8d9-11ec-b627-086ac5628e63.jpg_f4246343-e15c-44ee-9013-e3c9ff5324ce.jpg -> Annotation:D:/DrowsinessDetection/Tensorflow/workspace/images/collectedimages/labels\\drowsy_original_drowsy.fa28de98-d8d9-11ec-b627-086ac5628e63.jpg_f4246343-e15c-44ee-9013-e3c9ff5324ce.xml\n",
      "Image:D:\\DrowsinessDetection\\Tensorflow\\workspace\\images\\collectedimages\\labels\\drowsy_original_drowsy.fa28de98-d8d9-11ec-b627-086ac5628e63.jpg_fb70f25a-ff1d-421c-8f67-867d6f91cc4e.jpg -> Annotation:D:/DrowsinessDetection/Tensorflow/workspace/images/collectedimages/labels\\drowsy_original_drowsy.fa28de98-d8d9-11ec-b627-086ac5628e63.jpg_fb70f25a-ff1d-421c-8f67-867d6f91cc4e.xml\n",
      "Image:D:\\DrowsinessDetection\\Tensorflow\\workspace\\images\\collectedimages\\labels\\drowsy_original_drowsy.fa28de98-d8d9-11ec-b627-086ac5628e63.jpg_fbda3f9f-7db5-4c65-aec7-3376f7994681.jpg -> Annotation:D:/DrowsinessDetection/Tensorflow/workspace/images/collectedimages/labels\\drowsy_original_drowsy.fa28de98-d8d9-11ec-b627-086ac5628e63.jpg_fbda3f9f-7db5-4c65-aec7-3376f7994681.xml\n",
      "Image:D:\\DrowsinessDetection\\Tensorflow\\workspace\\images\\collectedimages\\labels\\drowsy_original_drowsy.fa28de98-d8d9-11ec-b627-086ac5628e63.jpg_fe001596-6f51-47b9-8e61-59decb3670d3.jpg -> Annotation:D:/DrowsinessDetection/Tensorflow/workspace/images/collectedimages/labels\\drowsy_original_drowsy.fa28de98-d8d9-11ec-b627-086ac5628e63.jpg_fe001596-6f51-47b9-8e61-59decb3670d3.xml\n",
      "Image:D:\\DrowsinessDetection\\Tensorflow\\workspace\\images\\collectedimages\\labels\\drowsy_original_drowsy.fa28de98-d8d9-11ec-b627-086ac5628e63.jpg_fe001596-6f51-47b9-8e61-59decb3670d3.jpg -> Annotation:D:/DrowsinessDetection/Tensorflow/workspace/images/collectedimages/labels\\drowsy_original_drowsy.fa28de98-d8d9-11ec-b627-086ac5628e63.jpg_fe001596-6f51-47b9-8e61-59decb3670d3.xml\n",
      "Image:D:\\DrowsinessDetection\\Tensorflow\\workspace\\images\\collectedimages\\labels\\drowsy_original_drowsy.fa28de98-d8d9-11ec-b627-086ac5628e63.jpg_ffd779b3-24e7-471e-a931-d0a9008fd476.jpg -> Annotation:D:/DrowsinessDetection/Tensorflow/workspace/images/collectedimages/labels\\drowsy_original_drowsy.fa28de98-d8d9-11ec-b627-086ac5628e63.jpg_ffd779b3-24e7-471e-a931-d0a9008fd476.xml\n",
      "Image:D:\\DrowsinessDetection\\Tensorflow\\workspace\\images\\collectedimages\\labels\\drowsy_original_drowsy.fb5fd950-d8d9-11ec-ae6b-086ac5628e63.jpg_0f745f5c-87bf-4643-9ec7-77210d71d1c8.jpg -> Annotation:D:/DrowsinessDetection/Tensorflow/workspace/images/collectedimages/labels\\drowsy_original_drowsy.fb5fd950-d8d9-11ec-ae6b-086ac5628e63.jpg_0f745f5c-87bf-4643-9ec7-77210d71d1c8.xml\n",
      "Image:D:\\DrowsinessDetection\\Tensorflow\\workspace\\images\\collectedimages\\labels\\drowsy_original_drowsy.fb5fd950-d8d9-11ec-ae6b-086ac5628e63.jpg_1c7bf623-e65b-46ea-8f4c-3af9d62a6717.jpg -> Annotation:D:/DrowsinessDetection/Tensorflow/workspace/images/collectedimages/labels\\drowsy_original_drowsy.fb5fd950-d8d9-11ec-ae6b-086ac5628e63.jpg_1c7bf623-e65b-46ea-8f4c-3af9d62a6717.xml\n",
      "Image:D:\\DrowsinessDetection\\Tensorflow\\workspace\\images\\collectedimages\\labels\\drowsy_original_drowsy.fb5fd950-d8d9-11ec-ae6b-086ac5628e63.jpg_1c7bf623-e65b-46ea-8f4c-3af9d62a6717.jpg -> Annotation:D:/DrowsinessDetection/Tensorflow/workspace/images/collectedimages/labels\\drowsy_original_drowsy.fb5fd950-d8d9-11ec-ae6b-086ac5628e63.jpg_1c7bf623-e65b-46ea-8f4c-3af9d62a6717.xml\n",
      "Image:D:\\DrowsinessDetection\\Tensorflow\\workspace\\images\\collectedimages\\labels\\drowsy_original_drowsy.fb5fd950-d8d9-11ec-ae6b-086ac5628e63.jpg_1c2966b0-06d8-46ae-850b-d140bdeb1345.jpg -> Annotation:D:/DrowsinessDetection/Tensorflow/workspace/images/collectedimages/labels\\drowsy_original_drowsy.fb5fd950-d8d9-11ec-ae6b-086ac5628e63.jpg_1c2966b0-06d8-46ae-850b-d140bdeb1345.xml\n",
      "Image:D:\\DrowsinessDetection\\Tensorflow\\workspace\\images\\collectedimages\\labels\\drowsy_original_drowsy.fb5fd950-d8d9-11ec-ae6b-086ac5628e63.jpg_1c2966b0-06d8-46ae-850b-d140bdeb1345.jpg -> Annotation:D:/DrowsinessDetection/Tensorflow/workspace/images/collectedimages/labels\\drowsy_original_drowsy.fb5fd950-d8d9-11ec-ae6b-086ac5628e63.jpg_1c2966b0-06d8-46ae-850b-d140bdeb1345.xml\n",
      "Image:D:\\DrowsinessDetection\\Tensorflow\\workspace\\images\\collectedimages\\labels\\drowsy_original_drowsy.fb5fd950-d8d9-11ec-ae6b-086ac5628e63.jpg_0f745f5c-87bf-4643-9ec7-77210d71d1c8.jpg -> Annotation:D:/DrowsinessDetection/Tensorflow/workspace/images/collectedimages/labels\\drowsy_original_drowsy.fb5fd950-d8d9-11ec-ae6b-086ac5628e63.jpg_0f745f5c-87bf-4643-9ec7-77210d71d1c8.xml\n",
      "Image:D:\\DrowsinessDetection\\Tensorflow\\workspace\\images\\collectedimages\\labels\\drowsy_original_drowsy.fb5fd950-d8d9-11ec-ae6b-086ac5628e63.jpg_1d18f464-ab42-4b32-a8f6-374f3c6ddf86.jpg -> Annotation:D:/DrowsinessDetection/Tensorflow/workspace/images/collectedimages/labels\\drowsy_original_drowsy.fb5fd950-d8d9-11ec-ae6b-086ac5628e63.jpg_1d18f464-ab42-4b32-a8f6-374f3c6ddf86.xml\n",
      "Image:D:\\DrowsinessDetection\\Tensorflow\\workspace\\images\\collectedimages\\labels\\drowsy_original_drowsy.fb5fd950-d8d9-11ec-ae6b-086ac5628e63.jpg_1d18f464-ab42-4b32-a8f6-374f3c6ddf86.jpg -> Annotation:D:/DrowsinessDetection/Tensorflow/workspace/images/collectedimages/labels\\drowsy_original_drowsy.fb5fd950-d8d9-11ec-ae6b-086ac5628e63.jpg_1d18f464-ab42-4b32-a8f6-374f3c6ddf86.xml\n",
      "Image:D:\\DrowsinessDetection\\Tensorflow\\workspace\\images\\collectedimages\\labels\\drowsy_original_drowsy.fb5fd950-d8d9-11ec-ae6b-086ac5628e63.jpg_2b050cfa-8289-4922-8aec-a08af89c2045.jpg -> Annotation:D:/DrowsinessDetection/Tensorflow/workspace/images/collectedimages/labels\\drowsy_original_drowsy.fb5fd950-d8d9-11ec-ae6b-086ac5628e63.jpg_2b050cfa-8289-4922-8aec-a08af89c2045.xml\n",
      "Image:D:\\DrowsinessDetection\\Tensorflow\\workspace\\images\\collectedimages\\labels\\drowsy_original_drowsy.fb5fd950-d8d9-11ec-ae6b-086ac5628e63.jpg_2fb6135c-1c47-4a9b-86d6-25b92130ed6c.jpg -> Annotation:D:/DrowsinessDetection/Tensorflow/workspace/images/collectedimages/labels\\drowsy_original_drowsy.fb5fd950-d8d9-11ec-ae6b-086ac5628e63.jpg_2fb6135c-1c47-4a9b-86d6-25b92130ed6c.xml\n",
      "Image:D:\\DrowsinessDetection\\Tensorflow\\workspace\\images\\collectedimages\\labels\\drowsy_original_drowsy.fb5fd950-d8d9-11ec-ae6b-086ac5628e63.jpg_2fb6135c-1c47-4a9b-86d6-25b92130ed6c.jpg -> Annotation:D:/DrowsinessDetection/Tensorflow/workspace/images/collectedimages/labels\\drowsy_original_drowsy.fb5fd950-d8d9-11ec-ae6b-086ac5628e63.jpg_2fb6135c-1c47-4a9b-86d6-25b92130ed6c.xml\n",
      "Image:D:\\DrowsinessDetection\\Tensorflow\\workspace\\images\\collectedimages\\labels\\drowsy_original_drowsy.fb5fd950-d8d9-11ec-ae6b-086ac5628e63.jpg_3b08163b-120b-4c02-bb16-5907c5518dba.jpg -> Annotation:D:/DrowsinessDetection/Tensorflow/workspace/images/collectedimages/labels\\drowsy_original_drowsy.fb5fd950-d8d9-11ec-ae6b-086ac5628e63.jpg_3b08163b-120b-4c02-bb16-5907c5518dba.xml\n",
      "Image:D:\\DrowsinessDetection\\Tensorflow\\workspace\\images\\collectedimages\\labels\\drowsy_original_drowsy.fb5fd950-d8d9-11ec-ae6b-086ac5628e63.jpg_3b08163b-120b-4c02-bb16-5907c5518dba.jpg -> Annotation:D:/DrowsinessDetection/Tensorflow/workspace/images/collectedimages/labels\\drowsy_original_drowsy.fb5fd950-d8d9-11ec-ae6b-086ac5628e63.jpg_3b08163b-120b-4c02-bb16-5907c5518dba.xml\n",
      "Image:D:\\DrowsinessDetection\\Tensorflow\\workspace\\images\\collectedimages\\labels\\drowsy_original_drowsy.fb5fd950-d8d9-11ec-ae6b-086ac5628e63.jpg_3ba56708-a822-47e9-a888-7b9d96ad8b43.jpg -> Annotation:D:/DrowsinessDetection/Tensorflow/workspace/images/collectedimages/labels\\drowsy_original_drowsy.fb5fd950-d8d9-11ec-ae6b-086ac5628e63.jpg_3ba56708-a822-47e9-a888-7b9d96ad8b43.xml\n",
      "Image:D:\\DrowsinessDetection\\Tensorflow\\workspace\\images\\collectedimages\\labels\\drowsy_original_drowsy.fb5fd950-d8d9-11ec-ae6b-086ac5628e63.jpg_3c165ada-daeb-4e17-82eb-11f13a889465.jpg -> Annotation:D:/DrowsinessDetection/Tensorflow/workspace/images/collectedimages/labels\\drowsy_original_drowsy.fb5fd950-d8d9-11ec-ae6b-086ac5628e63.jpg_3c165ada-daeb-4e17-82eb-11f13a889465.xml\n",
      "Image:D:\\DrowsinessDetection\\Tensorflow\\workspace\\images\\collectedimages\\labels\\drowsy_original_drowsy.fb5fd950-d8d9-11ec-ae6b-086ac5628e63.jpg_4d888e2c-c19d-4bb1-9c04-60cf95c55776.jpg -> Annotation:D:/DrowsinessDetection/Tensorflow/workspace/images/collectedimages/labels\\drowsy_original_drowsy.fb5fd950-d8d9-11ec-ae6b-086ac5628e63.jpg_4d888e2c-c19d-4bb1-9c04-60cf95c55776.xml\n",
      "Image:D:\\DrowsinessDetection\\Tensorflow\\workspace\\images\\collectedimages\\labels\\drowsy_original_drowsy.fb5fd950-d8d9-11ec-ae6b-086ac5628e63.jpg_4d888e2c-c19d-4bb1-9c04-60cf95c55776.jpg -> Annotation:D:/DrowsinessDetection/Tensorflow/workspace/images/collectedimages/labels\\drowsy_original_drowsy.fb5fd950-d8d9-11ec-ae6b-086ac5628e63.jpg_4d888e2c-c19d-4bb1-9c04-60cf95c55776.xml\n",
      "Image:D:\\DrowsinessDetection\\Tensorflow\\workspace\\images\\collectedimages\\labels\\drowsy_original_drowsy.fb5fd950-d8d9-11ec-ae6b-086ac5628e63.jpg_5eb9cb62-0f20-4bfc-85a8-6153f31d2338.jpg -> Annotation:D:/DrowsinessDetection/Tensorflow/workspace/images/collectedimages/labels\\drowsy_original_drowsy.fb5fd950-d8d9-11ec-ae6b-086ac5628e63.jpg_5eb9cb62-0f20-4bfc-85a8-6153f31d2338.xml\n",
      "Image:D:\\DrowsinessDetection\\Tensorflow\\workspace\\images\\collectedimages\\labels\\drowsy_original_drowsy.fb5fd950-d8d9-11ec-ae6b-086ac5628e63.jpg_5eb9cb62-0f20-4bfc-85a8-6153f31d2338.jpg -> Annotation:D:/DrowsinessDetection/Tensorflow/workspace/images/collectedimages/labels\\drowsy_original_drowsy.fb5fd950-d8d9-11ec-ae6b-086ac5628e63.jpg_5eb9cb62-0f20-4bfc-85a8-6153f31d2338.xml\n",
      "Image:D:\\DrowsinessDetection\\Tensorflow\\workspace\\images\\collectedimages\\labels\\drowsy_original_drowsy.fb5fd950-d8d9-11ec-ae6b-086ac5628e63.jpg_5eccf42e-0cc5-454f-be3e-784c68407cb7.jpg -> Annotation:D:/DrowsinessDetection/Tensorflow/workspace/images/collectedimages/labels\\drowsy_original_drowsy.fb5fd950-d8d9-11ec-ae6b-086ac5628e63.jpg_5eccf42e-0cc5-454f-be3e-784c68407cb7.xml\n",
      "Image:D:\\DrowsinessDetection\\Tensorflow\\workspace\\images\\collectedimages\\labels\\drowsy_original_drowsy.fb5fd950-d8d9-11ec-ae6b-086ac5628e63.jpg_6aa32d45-a858-40cd-9052-d9946056256e.jpg -> Annotation:D:/DrowsinessDetection/Tensorflow/workspace/images/collectedimages/labels\\drowsy_original_drowsy.fb5fd950-d8d9-11ec-ae6b-086ac5628e63.jpg_6aa32d45-a858-40cd-9052-d9946056256e.xml\n",
      "Image:D:\\DrowsinessDetection\\Tensorflow\\workspace\\images\\collectedimages\\labels\\drowsy_original_drowsy.fb5fd950-d8d9-11ec-ae6b-086ac5628e63.jpg_7bd4c737-8ae2-4923-908d-b2c3b64d7941.jpg -> Annotation:D:/DrowsinessDetection/Tensorflow/workspace/images/collectedimages/labels\\drowsy_original_drowsy.fb5fd950-d8d9-11ec-ae6b-086ac5628e63.jpg_7bd4c737-8ae2-4923-908d-b2c3b64d7941.xml\n",
      "Image:D:\\DrowsinessDetection\\Tensorflow\\workspace\\images\\collectedimages\\labels\\drowsy_original_drowsy.fb5fd950-d8d9-11ec-ae6b-086ac5628e63.jpg_8ac90f52-6435-485d-86bb-0471395e5de6.jpg -> Annotation:D:/DrowsinessDetection/Tensorflow/workspace/images/collectedimages/labels\\drowsy_original_drowsy.fb5fd950-d8d9-11ec-ae6b-086ac5628e63.jpg_8ac90f52-6435-485d-86bb-0471395e5de6.xml\n",
      "Image:D:\\DrowsinessDetection\\Tensorflow\\workspace\\images\\collectedimages\\labels\\drowsy_original_drowsy.fb5fd950-d8d9-11ec-ae6b-086ac5628e63.jpg_8dfcace0-b24e-407d-a05e-97b54a5e00b4.jpg -> Annotation:D:/DrowsinessDetection/Tensorflow/workspace/images/collectedimages/labels\\drowsy_original_drowsy.fb5fd950-d8d9-11ec-ae6b-086ac5628e63.jpg_8dfcace0-b24e-407d-a05e-97b54a5e00b4.xml\n",
      "Image:D:\\DrowsinessDetection\\Tensorflow\\workspace\\images\\collectedimages\\labels\\drowsy_original_drowsy.fb5fd950-d8d9-11ec-ae6b-086ac5628e63.jpg_8dfcace0-b24e-407d-a05e-97b54a5e00b4.jpg -> Annotation:D:/DrowsinessDetection/Tensorflow/workspace/images/collectedimages/labels\\drowsy_original_drowsy.fb5fd950-d8d9-11ec-ae6b-086ac5628e63.jpg_8dfcace0-b24e-407d-a05e-97b54a5e00b4.xml\n",
      "Image:D:\\DrowsinessDetection\\Tensorflow\\workspace\\images\\collectedimages\\labels\\drowsy_original_drowsy.fb5fd950-d8d9-11ec-ae6b-086ac5628e63.jpg_8e132dc6-c570-42d6-8170-a041170572b4.jpg -> Annotation:D:/DrowsinessDetection/Tensorflow/workspace/images/collectedimages/labels\\drowsy_original_drowsy.fb5fd950-d8d9-11ec-ae6b-086ac5628e63.jpg_8e132dc6-c570-42d6-8170-a041170572b4.xml\n",
      "Image:D:\\DrowsinessDetection\\Tensorflow\\workspace\\images\\collectedimages\\labels\\drowsy_original_drowsy.fb5fd950-d8d9-11ec-ae6b-086ac5628e63.jpg_8e132dc6-c570-42d6-8170-a041170572b4.jpg -> Annotation:D:/DrowsinessDetection/Tensorflow/workspace/images/collectedimages/labels\\drowsy_original_drowsy.fb5fd950-d8d9-11ec-ae6b-086ac5628e63.jpg_8e132dc6-c570-42d6-8170-a041170572b4.xml\n",
      "Image:D:\\DrowsinessDetection\\Tensorflow\\workspace\\images\\collectedimages\\labels\\drowsy_original_drowsy.fb5fd950-d8d9-11ec-ae6b-086ac5628e63.jpg_9bc86553-8634-4c43-98d1-0e994199b438.jpg -> Annotation:D:/DrowsinessDetection/Tensorflow/workspace/images/collectedimages/labels\\drowsy_original_drowsy.fb5fd950-d8d9-11ec-ae6b-086ac5628e63.jpg_9bc86553-8634-4c43-98d1-0e994199b438.xml\n",
      "Image:D:\\DrowsinessDetection\\Tensorflow\\workspace\\images\\collectedimages\\labels\\drowsy_original_drowsy.fb5fd950-d8d9-11ec-ae6b-086ac5628e63.jpg_9c99a9db-f0fd-4c74-8f4b-b46809dd2f9b.jpg -> Annotation:D:/DrowsinessDetection/Tensorflow/workspace/images/collectedimages/labels\\drowsy_original_drowsy.fb5fd950-d8d9-11ec-ae6b-086ac5628e63.jpg_9c99a9db-f0fd-4c74-8f4b-b46809dd2f9b.xml\n",
      "Image:D:\\DrowsinessDetection\\Tensorflow\\workspace\\images\\collectedimages\\labels\\drowsy_original_drowsy.fb5fd950-d8d9-11ec-ae6b-086ac5628e63.jpg_25b4b9c1-86ab-4f66-a569-991276d54fff.jpg -> Annotation:D:/DrowsinessDetection/Tensorflow/workspace/images/collectedimages/labels\\drowsy_original_drowsy.fb5fd950-d8d9-11ec-ae6b-086ac5628e63.jpg_25b4b9c1-86ab-4f66-a569-991276d54fff.xml\n",
      "Image:D:\\DrowsinessDetection\\Tensorflow\\workspace\\images\\collectedimages\\labels\\drowsy_original_drowsy.fb5fd950-d8d9-11ec-ae6b-086ac5628e63.jpg_25b4b9c1-86ab-4f66-a569-991276d54fff.jpg -> Annotation:D:/DrowsinessDetection/Tensorflow/workspace/images/collectedimages/labels\\drowsy_original_drowsy.fb5fd950-d8d9-11ec-ae6b-086ac5628e63.jpg_25b4b9c1-86ab-4f66-a569-991276d54fff.xml\n",
      "Image:D:\\DrowsinessDetection\\Tensorflow\\workspace\\images\\collectedimages\\labels\\drowsy_original_drowsy.fb5fd950-d8d9-11ec-ae6b-086ac5628e63.jpg_43c1daa2-9f5c-4a04-a28e-272af831cf11.jpg -> Annotation:D:/DrowsinessDetection/Tensorflow/workspace/images/collectedimages/labels\\drowsy_original_drowsy.fb5fd950-d8d9-11ec-ae6b-086ac5628e63.jpg_43c1daa2-9f5c-4a04-a28e-272af831cf11.xml\n",
      "Image:D:\\DrowsinessDetection\\Tensorflow\\workspace\\images\\collectedimages\\labels\\drowsy_original_drowsy.fb5fd950-d8d9-11ec-ae6b-086ac5628e63.jpg_44ee4104-ab55-4b47-81f8-c2b4f677715a.jpg -> Annotation:D:/DrowsinessDetection/Tensorflow/workspace/images/collectedimages/labels\\drowsy_original_drowsy.fb5fd950-d8d9-11ec-ae6b-086ac5628e63.jpg_44ee4104-ab55-4b47-81f8-c2b4f677715a.xml\n",
      "Image:D:\\DrowsinessDetection\\Tensorflow\\workspace\\images\\collectedimages\\labels\\drowsy_original_drowsy.fb5fd950-d8d9-11ec-ae6b-086ac5628e63.jpg_53d4304e-f788-4ed8-b04c-0a8565e444ef.jpg -> Annotation:D:/DrowsinessDetection/Tensorflow/workspace/images/collectedimages/labels\\drowsy_original_drowsy.fb5fd950-d8d9-11ec-ae6b-086ac5628e63.jpg_53d4304e-f788-4ed8-b04c-0a8565e444ef.xml\n",
      "Image:D:\\DrowsinessDetection\\Tensorflow\\workspace\\images\\collectedimages\\labels\\drowsy_original_drowsy.fb5fd950-d8d9-11ec-ae6b-086ac5628e63.jpg_53d4304e-f788-4ed8-b04c-0a8565e444ef.jpg -> Annotation:D:/DrowsinessDetection/Tensorflow/workspace/images/collectedimages/labels\\drowsy_original_drowsy.fb5fd950-d8d9-11ec-ae6b-086ac5628e63.jpg_53d4304e-f788-4ed8-b04c-0a8565e444ef.xml\n",
      "Image:D:\\DrowsinessDetection\\Tensorflow\\workspace\\images\\collectedimages\\labels\\drowsy_original_drowsy.fb5fd950-d8d9-11ec-ae6b-086ac5628e63.jpg_56ee466f-e71c-40e2-a6a7-370a6f54e082.jpg -> Annotation:D:/DrowsinessDetection/Tensorflow/workspace/images/collectedimages/labels\\drowsy_original_drowsy.fb5fd950-d8d9-11ec-ae6b-086ac5628e63.jpg_56ee466f-e71c-40e2-a6a7-370a6f54e082.xml\n",
      "Image:D:\\DrowsinessDetection\\Tensorflow\\workspace\\images\\collectedimages\\labels\\drowsy_original_drowsy.fb5fd950-d8d9-11ec-ae6b-086ac5628e63.jpg_61fd972a-fb4c-47c6-85ca-4fbba259743f.jpg -> Annotation:D:/DrowsinessDetection/Tensorflow/workspace/images/collectedimages/labels\\drowsy_original_drowsy.fb5fd950-d8d9-11ec-ae6b-086ac5628e63.jpg_61fd972a-fb4c-47c6-85ca-4fbba259743f.xml\n",
      "Image:D:\\DrowsinessDetection\\Tensorflow\\workspace\\images\\collectedimages\\labels\\drowsy_original_drowsy.fb5fd950-d8d9-11ec-ae6b-086ac5628e63.jpg_82c67a75-09cf-4132-8630-291b00848fe2.jpg -> Annotation:D:/DrowsinessDetection/Tensorflow/workspace/images/collectedimages/labels\\drowsy_original_drowsy.fb5fd950-d8d9-11ec-ae6b-086ac5628e63.jpg_82c67a75-09cf-4132-8630-291b00848fe2.xml\n",
      "Image:D:\\DrowsinessDetection\\Tensorflow\\workspace\\images\\collectedimages\\labels\\drowsy_original_drowsy.fb5fd950-d8d9-11ec-ae6b-086ac5628e63.jpg_82c67a75-09cf-4132-8630-291b00848fe2.jpg -> Annotation:D:/DrowsinessDetection/Tensorflow/workspace/images/collectedimages/labels\\drowsy_original_drowsy.fb5fd950-d8d9-11ec-ae6b-086ac5628e63.jpg_82c67a75-09cf-4132-8630-291b00848fe2.xml\n",
      "Image:D:\\DrowsinessDetection\\Tensorflow\\workspace\\images\\collectedimages\\labels\\drowsy_original_drowsy.fb5fd950-d8d9-11ec-ae6b-086ac5628e63.jpg_210d1a23-d2c5-4a90-9bc6-7d8fd49be79a.jpg -> Annotation:D:/DrowsinessDetection/Tensorflow/workspace/images/collectedimages/labels\\drowsy_original_drowsy.fb5fd950-d8d9-11ec-ae6b-086ac5628e63.jpg_210d1a23-d2c5-4a90-9bc6-7d8fd49be79a.xml\n",
      "Image:D:\\DrowsinessDetection\\Tensorflow\\workspace\\images\\collectedimages\\labels\\drowsy_original_drowsy.fb5fd950-d8d9-11ec-ae6b-086ac5628e63.jpg_210d1a23-d2c5-4a90-9bc6-7d8fd49be79a.jpg -> Annotation:D:/DrowsinessDetection/Tensorflow/workspace/images/collectedimages/labels\\drowsy_original_drowsy.fb5fd950-d8d9-11ec-ae6b-086ac5628e63.jpg_210d1a23-d2c5-4a90-9bc6-7d8fd49be79a.xml\n",
      "Image:D:\\DrowsinessDetection\\Tensorflow\\workspace\\images\\collectedimages\\labels\\drowsy_original_drowsy.fb5fd950-d8d9-11ec-ae6b-086ac5628e63.jpg_283e1f3a-d9b0-4462-90e7-dbc31768a510.jpg -> Annotation:D:/DrowsinessDetection/Tensorflow/workspace/images/collectedimages/labels\\drowsy_original_drowsy.fb5fd950-d8d9-11ec-ae6b-086ac5628e63.jpg_283e1f3a-d9b0-4462-90e7-dbc31768a510.xml\n",
      "Image:D:\\DrowsinessDetection\\Tensorflow\\workspace\\images\\collectedimages\\labels\\drowsy_original_drowsy.fb5fd950-d8d9-11ec-ae6b-086ac5628e63.jpg_283e1f3a-d9b0-4462-90e7-dbc31768a510.jpg -> Annotation:D:/DrowsinessDetection/Tensorflow/workspace/images/collectedimages/labels\\drowsy_original_drowsy.fb5fd950-d8d9-11ec-ae6b-086ac5628e63.jpg_283e1f3a-d9b0-4462-90e7-dbc31768a510.xml\n",
      "Image:D:\\DrowsinessDetection\\Tensorflow\\workspace\\images\\collectedimages\\labels\\drowsy_original_drowsy.fb5fd950-d8d9-11ec-ae6b-086ac5628e63.jpg_608d27d8-72fe-44b2-ad14-e7b2ffadd1ef.jpg -> Annotation:D:/DrowsinessDetection/Tensorflow/workspace/images/collectedimages/labels\\drowsy_original_drowsy.fb5fd950-d8d9-11ec-ae6b-086ac5628e63.jpg_608d27d8-72fe-44b2-ad14-e7b2ffadd1ef.xml\n",
      "Image:D:\\DrowsinessDetection\\Tensorflow\\workspace\\images\\collectedimages\\labels\\drowsy_original_drowsy.fb5fd950-d8d9-11ec-ae6b-086ac5628e63.jpg_747a61fe-1cfa-48f3-9161-6373d84d35bb.jpg -> Annotation:D:/DrowsinessDetection/Tensorflow/workspace/images/collectedimages/labels\\drowsy_original_drowsy.fb5fd950-d8d9-11ec-ae6b-086ac5628e63.jpg_747a61fe-1cfa-48f3-9161-6373d84d35bb.xml\n",
      "Image:D:\\DrowsinessDetection\\Tensorflow\\workspace\\images\\collectedimages\\labels\\drowsy_original_drowsy.fb5fd950-d8d9-11ec-ae6b-086ac5628e63.jpg_747a61fe-1cfa-48f3-9161-6373d84d35bb.jpg -> Annotation:D:/DrowsinessDetection/Tensorflow/workspace/images/collectedimages/labels\\drowsy_original_drowsy.fb5fd950-d8d9-11ec-ae6b-086ac5628e63.jpg_747a61fe-1cfa-48f3-9161-6373d84d35bb.xml\n",
      "Image:D:\\DrowsinessDetection\\Tensorflow\\workspace\\images\\collectedimages\\labels\\drowsy_original_drowsy.fb5fd950-d8d9-11ec-ae6b-086ac5628e63.jpg_886b5d71-e18a-46be-9cf5-44bf0d9d57c9.jpg -> Annotation:D:/DrowsinessDetection/Tensorflow/workspace/images/collectedimages/labels\\drowsy_original_drowsy.fb5fd950-d8d9-11ec-ae6b-086ac5628e63.jpg_886b5d71-e18a-46be-9cf5-44bf0d9d57c9.xml\n",
      "Image:D:\\DrowsinessDetection\\Tensorflow\\workspace\\images\\collectedimages\\labels\\drowsy_original_drowsy.fb5fd950-d8d9-11ec-ae6b-086ac5628e63.jpg_886b5d71-e18a-46be-9cf5-44bf0d9d57c9.jpg -> Annotation:D:/DrowsinessDetection/Tensorflow/workspace/images/collectedimages/labels\\drowsy_original_drowsy.fb5fd950-d8d9-11ec-ae6b-086ac5628e63.jpg_886b5d71-e18a-46be-9cf5-44bf0d9d57c9.xml\n",
      "Image:D:\\DrowsinessDetection\\Tensorflow\\workspace\\images\\collectedimages\\labels\\drowsy_original_drowsy.fb5fd950-d8d9-11ec-ae6b-086ac5628e63.jpg_1277c0df-44b5-4248-9b68-3794512562c6.jpg -> Annotation:D:/DrowsinessDetection/Tensorflow/workspace/images/collectedimages/labels\\drowsy_original_drowsy.fb5fd950-d8d9-11ec-ae6b-086ac5628e63.jpg_1277c0df-44b5-4248-9b68-3794512562c6.xml\n",
      "Image:D:\\DrowsinessDetection\\Tensorflow\\workspace\\images\\collectedimages\\labels\\drowsy_original_drowsy.fb5fd950-d8d9-11ec-ae6b-086ac5628e63.jpg_1277c0df-44b5-4248-9b68-3794512562c6.jpg -> Annotation:D:/DrowsinessDetection/Tensorflow/workspace/images/collectedimages/labels\\drowsy_original_drowsy.fb5fd950-d8d9-11ec-ae6b-086ac5628e63.jpg_1277c0df-44b5-4248-9b68-3794512562c6.xml\n",
      "Image:D:\\DrowsinessDetection\\Tensorflow\\workspace\\images\\collectedimages\\labels\\drowsy_original_drowsy.fb5fd950-d8d9-11ec-ae6b-086ac5628e63.jpg_1517fc2f-9791-4754-913c-e99849ea5b99.jpg -> Annotation:D:/DrowsinessDetection/Tensorflow/workspace/images/collectedimages/labels\\drowsy_original_drowsy.fb5fd950-d8d9-11ec-ae6b-086ac5628e63.jpg_1517fc2f-9791-4754-913c-e99849ea5b99.xml\n",
      "Image:D:\\DrowsinessDetection\\Tensorflow\\workspace\\images\\collectedimages\\labels\\drowsy_original_drowsy.fb5fd950-d8d9-11ec-ae6b-086ac5628e63.jpg_1517fc2f-9791-4754-913c-e99849ea5b99.jpg -> Annotation:D:/DrowsinessDetection/Tensorflow/workspace/images/collectedimages/labels\\drowsy_original_drowsy.fb5fd950-d8d9-11ec-ae6b-086ac5628e63.jpg_1517fc2f-9791-4754-913c-e99849ea5b99.xml\n",
      "Image:D:\\DrowsinessDetection\\Tensorflow\\workspace\\images\\collectedimages\\labels\\drowsy_original_drowsy.fb5fd950-d8d9-11ec-ae6b-086ac5628e63.jpg_5432de01-efed-4453-9750-3a559b6486dc.jpg -> Annotation:D:/DrowsinessDetection/Tensorflow/workspace/images/collectedimages/labels\\drowsy_original_drowsy.fb5fd950-d8d9-11ec-ae6b-086ac5628e63.jpg_5432de01-efed-4453-9750-3a559b6486dc.xml\n",
      "Image:D:\\DrowsinessDetection\\Tensorflow\\workspace\\images\\collectedimages\\labels\\drowsy_original_drowsy.fb5fd950-d8d9-11ec-ae6b-086ac5628e63.jpg_6832c3b3-487e-44bd-a790-3f5b4987ca29.jpg -> Annotation:D:/DrowsinessDetection/Tensorflow/workspace/images/collectedimages/labels\\drowsy_original_drowsy.fb5fd950-d8d9-11ec-ae6b-086ac5628e63.jpg_6832c3b3-487e-44bd-a790-3f5b4987ca29.xml\n",
      "Image:D:\\DrowsinessDetection\\Tensorflow\\workspace\\images\\collectedimages\\labels\\drowsy_original_drowsy.fb5fd950-d8d9-11ec-ae6b-086ac5628e63.jpg_9189b8d0-718c-4e52-bec9-fa091b097aae.jpg -> Annotation:D:/DrowsinessDetection/Tensorflow/workspace/images/collectedimages/labels\\drowsy_original_drowsy.fb5fd950-d8d9-11ec-ae6b-086ac5628e63.jpg_9189b8d0-718c-4e52-bec9-fa091b097aae.xml\n",
      "Image:D:\\DrowsinessDetection\\Tensorflow\\workspace\\images\\collectedimages\\labels\\drowsy_original_drowsy.fb5fd950-d8d9-11ec-ae6b-086ac5628e63.jpg_9189b8d0-718c-4e52-bec9-fa091b097aae.jpg -> Annotation:D:/DrowsinessDetection/Tensorflow/workspace/images/collectedimages/labels\\drowsy_original_drowsy.fb5fd950-d8d9-11ec-ae6b-086ac5628e63.jpg_9189b8d0-718c-4e52-bec9-fa091b097aae.xml\n",
      "Image:D:\\DrowsinessDetection\\Tensorflow\\workspace\\images\\collectedimages\\labels\\drowsy_original_drowsy.fb5fd950-d8d9-11ec-ae6b-086ac5628e63.jpg_9319b389-bfdc-4f5c-bc45-4f3df15c2498.jpg -> Annotation:D:/DrowsinessDetection/Tensorflow/workspace/images/collectedimages/labels\\drowsy_original_drowsy.fb5fd950-d8d9-11ec-ae6b-086ac5628e63.jpg_9319b389-bfdc-4f5c-bc45-4f3df15c2498.xml\n",
      "Image:D:\\DrowsinessDetection\\Tensorflow\\workspace\\images\\collectedimages\\labels\\drowsy_original_drowsy.fb5fd950-d8d9-11ec-ae6b-086ac5628e63.jpg_9319b389-bfdc-4f5c-bc45-4f3df15c2498.jpg -> Annotation:D:/DrowsinessDetection/Tensorflow/workspace/images/collectedimages/labels\\drowsy_original_drowsy.fb5fd950-d8d9-11ec-ae6b-086ac5628e63.jpg_9319b389-bfdc-4f5c-bc45-4f3df15c2498.xml\n",
      "Image:D:\\DrowsinessDetection\\Tensorflow\\workspace\\images\\collectedimages\\labels\\drowsy_original_drowsy.fb5fd950-d8d9-11ec-ae6b-086ac5628e63.jpg_24231eae-72ec-46c6-ac66-469560190ca2.jpg -> Annotation:D:/DrowsinessDetection/Tensorflow/workspace/images/collectedimages/labels\\drowsy_original_drowsy.fb5fd950-d8d9-11ec-ae6b-086ac5628e63.jpg_24231eae-72ec-46c6-ac66-469560190ca2.xml\n",
      "Image:D:\\DrowsinessDetection\\Tensorflow\\workspace\\images\\collectedimages\\labels\\drowsy_original_drowsy.fb5fd950-d8d9-11ec-ae6b-086ac5628e63.jpg_24231eae-72ec-46c6-ac66-469560190ca2.jpg -> Annotation:D:/DrowsinessDetection/Tensorflow/workspace/images/collectedimages/labels\\drowsy_original_drowsy.fb5fd950-d8d9-11ec-ae6b-086ac5628e63.jpg_24231eae-72ec-46c6-ac66-469560190ca2.xml\n",
      "Image:D:\\DrowsinessDetection\\Tensorflow\\workspace\\images\\collectedimages\\labels\\drowsy_original_drowsy.fb5fd950-d8d9-11ec-ae6b-086ac5628e63.jpg_44873e35-7e99-4721-8340-511b35bdd79a.jpg -> Annotation:D:/DrowsinessDetection/Tensorflow/workspace/images/collectedimages/labels\\drowsy_original_drowsy.fb5fd950-d8d9-11ec-ae6b-086ac5628e63.jpg_44873e35-7e99-4721-8340-511b35bdd79a.xml\n",
      "Image:D:\\DrowsinessDetection\\Tensorflow\\workspace\\images\\collectedimages\\labels\\drowsy_original_drowsy.fb5fd950-d8d9-11ec-ae6b-086ac5628e63.jpg_84726bd9-e4b0-4618-9379-0b2bbe31623d.jpg -> Annotation:D:/DrowsinessDetection/Tensorflow/workspace/images/collectedimages/labels\\drowsy_original_drowsy.fb5fd950-d8d9-11ec-ae6b-086ac5628e63.jpg_84726bd9-e4b0-4618-9379-0b2bbe31623d.xml\n",
      "Image:D:\\DrowsinessDetection\\Tensorflow\\workspace\\images\\collectedimages\\labels\\drowsy_original_drowsy.fb5fd950-d8d9-11ec-ae6b-086ac5628e63.jpg_84726bd9-e4b0-4618-9379-0b2bbe31623d.jpg -> Annotation:D:/DrowsinessDetection/Tensorflow/workspace/images/collectedimages/labels\\drowsy_original_drowsy.fb5fd950-d8d9-11ec-ae6b-086ac5628e63.jpg_84726bd9-e4b0-4618-9379-0b2bbe31623d.xml\n",
      "Image:D:\\DrowsinessDetection\\Tensorflow\\workspace\\images\\collectedimages\\labels\\drowsy_original_drowsy.fb5fd950-d8d9-11ec-ae6b-086ac5628e63.jpg_139576d5-3b50-4afa-b132-03d95856b375.jpg -> Annotation:D:/DrowsinessDetection/Tensorflow/workspace/images/collectedimages/labels\\drowsy_original_drowsy.fb5fd950-d8d9-11ec-ae6b-086ac5628e63.jpg_139576d5-3b50-4afa-b132-03d95856b375.xml\n",
      "Image:D:\\DrowsinessDetection\\Tensorflow\\workspace\\images\\collectedimages\\labels\\drowsy_original_drowsy.fb5fd950-d8d9-11ec-ae6b-086ac5628e63.jpg_139576d5-3b50-4afa-b132-03d95856b375.jpg -> Annotation:D:/DrowsinessDetection/Tensorflow/workspace/images/collectedimages/labels\\drowsy_original_drowsy.fb5fd950-d8d9-11ec-ae6b-086ac5628e63.jpg_139576d5-3b50-4afa-b132-03d95856b375.xml\n",
      "Image:D:\\DrowsinessDetection\\Tensorflow\\workspace\\images\\collectedimages\\labels\\drowsy_original_drowsy.fb5fd950-d8d9-11ec-ae6b-086ac5628e63.jpg_641388f2-2484-4650-bf4e-705bae599a27.jpg -> Annotation:D:/DrowsinessDetection/Tensorflow/workspace/images/collectedimages/labels\\drowsy_original_drowsy.fb5fd950-d8d9-11ec-ae6b-086ac5628e63.jpg_641388f2-2484-4650-bf4e-705bae599a27.xml\n",
      "Image:D:\\DrowsinessDetection\\Tensorflow\\workspace\\images\\collectedimages\\labels\\drowsy_original_drowsy.fb5fd950-d8d9-11ec-ae6b-086ac5628e63.jpg_641388f2-2484-4650-bf4e-705bae599a27.jpg -> Annotation:D:/DrowsinessDetection/Tensorflow/workspace/images/collectedimages/labels\\drowsy_original_drowsy.fb5fd950-d8d9-11ec-ae6b-086ac5628e63.jpg_641388f2-2484-4650-bf4e-705bae599a27.xml\n",
      "Image:D:\\DrowsinessDetection\\Tensorflow\\workspace\\images\\collectedimages\\labels\\drowsy_original_drowsy.fb5fd950-d8d9-11ec-ae6b-086ac5628e63.jpg_15378980-8ae4-42b0-95d9-250d25a20ca5.jpg -> Annotation:D:/DrowsinessDetection/Tensorflow/workspace/images/collectedimages/labels\\drowsy_original_drowsy.fb5fd950-d8d9-11ec-ae6b-086ac5628e63.jpg_15378980-8ae4-42b0-95d9-250d25a20ca5.xml\n",
      "Image:D:\\DrowsinessDetection\\Tensorflow\\workspace\\images\\collectedimages\\labels\\drowsy_original_drowsy.fb5fd950-d8d9-11ec-ae6b-086ac5628e63.jpg_15378980-8ae4-42b0-95d9-250d25a20ca5.jpg -> Annotation:D:/DrowsinessDetection/Tensorflow/workspace/images/collectedimages/labels\\drowsy_original_drowsy.fb5fd950-d8d9-11ec-ae6b-086ac5628e63.jpg_15378980-8ae4-42b0-95d9-250d25a20ca5.xml\n",
      "Image:D:\\DrowsinessDetection\\Tensorflow\\workspace\\images\\collectedimages\\labels\\drowsy_original_drowsy.fb5fd950-d8d9-11ec-ae6b-086ac5628e63.jpg_a1a79a9a-9f69-437f-87b5-a85743936e8a.jpg -> Annotation:D:/DrowsinessDetection/Tensorflow/workspace/images/collectedimages/labels\\drowsy_original_drowsy.fb5fd950-d8d9-11ec-ae6b-086ac5628e63.jpg_a1a79a9a-9f69-437f-87b5-a85743936e8a.xml\n",
      "Image:D:\\DrowsinessDetection\\Tensorflow\\workspace\\images\\collectedimages\\labels\\drowsy_original_drowsy.fb5fd950-d8d9-11ec-ae6b-086ac5628e63.jpg_a1a79a9a-9f69-437f-87b5-a85743936e8a.jpg -> Annotation:D:/DrowsinessDetection/Tensorflow/workspace/images/collectedimages/labels\\drowsy_original_drowsy.fb5fd950-d8d9-11ec-ae6b-086ac5628e63.jpg_a1a79a9a-9f69-437f-87b5-a85743936e8a.xml\n",
      "Image:D:\\DrowsinessDetection\\Tensorflow\\workspace\\images\\collectedimages\\labels\\drowsy_original_drowsy.fb5fd950-d8d9-11ec-ae6b-086ac5628e63.jpg_a60d4938-66d4-4c52-a0bb-f5da74fd4490.jpg -> Annotation:D:/DrowsinessDetection/Tensorflow/workspace/images/collectedimages/labels\\drowsy_original_drowsy.fb5fd950-d8d9-11ec-ae6b-086ac5628e63.jpg_a60d4938-66d4-4c52-a0bb-f5da74fd4490.xml\n",
      "Image:D:\\DrowsinessDetection\\Tensorflow\\workspace\\images\\collectedimages\\labels\\drowsy_original_drowsy.fb5fd950-d8d9-11ec-ae6b-086ac5628e63.jpg_a60d4938-66d4-4c52-a0bb-f5da74fd4490.jpg -> Annotation:D:/DrowsinessDetection/Tensorflow/workspace/images/collectedimages/labels\\drowsy_original_drowsy.fb5fd950-d8d9-11ec-ae6b-086ac5628e63.jpg_a60d4938-66d4-4c52-a0bb-f5da74fd4490.xml\n",
      "Image:D:\\DrowsinessDetection\\Tensorflow\\workspace\\images\\collectedimages\\labels\\drowsy_original_drowsy.fb5fd950-d8d9-11ec-ae6b-086ac5628e63.jpg_aceb3648-106a-47ec-a648-e27bd66cc27a.jpg -> Annotation:D:/DrowsinessDetection/Tensorflow/workspace/images/collectedimages/labels\\drowsy_original_drowsy.fb5fd950-d8d9-11ec-ae6b-086ac5628e63.jpg_aceb3648-106a-47ec-a648-e27bd66cc27a.xml\n",
      "Image:D:\\DrowsinessDetection\\Tensorflow\\workspace\\images\\collectedimages\\labels\\drowsy_original_drowsy.fb5fd950-d8d9-11ec-ae6b-086ac5628e63.jpg_ada87423-1b38-4f99-a77b-f5bcca6b132f.jpg -> Annotation:D:/DrowsinessDetection/Tensorflow/workspace/images/collectedimages/labels\\drowsy_original_drowsy.fb5fd950-d8d9-11ec-ae6b-086ac5628e63.jpg_ada87423-1b38-4f99-a77b-f5bcca6b132f.xml\n",
      "Image:D:\\DrowsinessDetection\\Tensorflow\\workspace\\images\\collectedimages\\labels\\drowsy_original_drowsy.fb5fd950-d8d9-11ec-ae6b-086ac5628e63.jpg_b1266b35-22cc-443f-b107-d7e446a84195.jpg -> Annotation:D:/DrowsinessDetection/Tensorflow/workspace/images/collectedimages/labels\\drowsy_original_drowsy.fb5fd950-d8d9-11ec-ae6b-086ac5628e63.jpg_b1266b35-22cc-443f-b107-d7e446a84195.xml\n",
      "Image:D:\\DrowsinessDetection\\Tensorflow\\workspace\\images\\collectedimages\\labels\\drowsy_original_drowsy.fb5fd950-d8d9-11ec-ae6b-086ac5628e63.jpg_b1266b35-22cc-443f-b107-d7e446a84195.jpg -> Annotation:D:/DrowsinessDetection/Tensorflow/workspace/images/collectedimages/labels\\drowsy_original_drowsy.fb5fd950-d8d9-11ec-ae6b-086ac5628e63.jpg_b1266b35-22cc-443f-b107-d7e446a84195.xml\n",
      "Image:D:\\DrowsinessDetection\\Tensorflow\\workspace\\images\\collectedimages\\labels\\drowsy_original_drowsy.fb5fd950-d8d9-11ec-ae6b-086ac5628e63.jpg_b694794e-a4de-4b30-9ebf-dcda41f84ee7.jpg -> Annotation:D:/DrowsinessDetection/Tensorflow/workspace/images/collectedimages/labels\\drowsy_original_drowsy.fb5fd950-d8d9-11ec-ae6b-086ac5628e63.jpg_b694794e-a4de-4b30-9ebf-dcda41f84ee7.xml\n",
      "Image:D:\\DrowsinessDetection\\Tensorflow\\workspace\\images\\collectedimages\\labels\\drowsy_original_drowsy.fb5fd950-d8d9-11ec-ae6b-086ac5628e63.jpg_bfbd9df0-e024-4492-8898-dfcb43a2847a.jpg -> Annotation:D:/DrowsinessDetection/Tensorflow/workspace/images/collectedimages/labels\\drowsy_original_drowsy.fb5fd950-d8d9-11ec-ae6b-086ac5628e63.jpg_bfbd9df0-e024-4492-8898-dfcb43a2847a.xml\n",
      "Image:D:\\DrowsinessDetection\\Tensorflow\\workspace\\images\\collectedimages\\labels\\drowsy_original_drowsy.fb5fd950-d8d9-11ec-ae6b-086ac5628e63.jpg_c5b9dba9-3c23-4a6c-be96-7cdbae36435c.jpg -> Annotation:D:/DrowsinessDetection/Tensorflow/workspace/images/collectedimages/labels\\drowsy_original_drowsy.fb5fd950-d8d9-11ec-ae6b-086ac5628e63.jpg_c5b9dba9-3c23-4a6c-be96-7cdbae36435c.xml\n",
      "Image:D:\\DrowsinessDetection\\Tensorflow\\workspace\\images\\collectedimages\\labels\\drowsy_original_drowsy.fb5fd950-d8d9-11ec-ae6b-086ac5628e63.jpg_c38dde06-b003-40f1-9013-d2b1844c4fea.jpg -> Annotation:D:/DrowsinessDetection/Tensorflow/workspace/images/collectedimages/labels\\drowsy_original_drowsy.fb5fd950-d8d9-11ec-ae6b-086ac5628e63.jpg_c38dde06-b003-40f1-9013-d2b1844c4fea.xml\n",
      "Image:D:\\DrowsinessDetection\\Tensorflow\\workspace\\images\\collectedimages\\labels\\drowsy_original_drowsy.fb5fd950-d8d9-11ec-ae6b-086ac5628e63.jpg_c38dde06-b003-40f1-9013-d2b1844c4fea.jpg -> Annotation:D:/DrowsinessDetection/Tensorflow/workspace/images/collectedimages/labels\\drowsy_original_drowsy.fb5fd950-d8d9-11ec-ae6b-086ac5628e63.jpg_c38dde06-b003-40f1-9013-d2b1844c4fea.xml\n",
      "Image:D:\\DrowsinessDetection\\Tensorflow\\workspace\\images\\collectedimages\\labels\\drowsy_original_drowsy.fb5fd950-d8d9-11ec-ae6b-086ac5628e63.jpg_c69edc27-623a-44d0-a0f4-cf411559f628.jpg -> Annotation:D:/DrowsinessDetection/Tensorflow/workspace/images/collectedimages/labels\\drowsy_original_drowsy.fb5fd950-d8d9-11ec-ae6b-086ac5628e63.jpg_c69edc27-623a-44d0-a0f4-cf411559f628.xml\n",
      "Image:D:\\DrowsinessDetection\\Tensorflow\\workspace\\images\\collectedimages\\labels\\drowsy_original_drowsy.fb5fd950-d8d9-11ec-ae6b-086ac5628e63.jpg_c69edc27-623a-44d0-a0f4-cf411559f628.jpg -> Annotation:D:/DrowsinessDetection/Tensorflow/workspace/images/collectedimages/labels\\drowsy_original_drowsy.fb5fd950-d8d9-11ec-ae6b-086ac5628e63.jpg_c69edc27-623a-44d0-a0f4-cf411559f628.xml\n",
      "Image:D:\\DrowsinessDetection\\Tensorflow\\workspace\\images\\collectedimages\\labels\\drowsy_original_drowsy.fb5fd950-d8d9-11ec-ae6b-086ac5628e63.jpg_d8dbc97a-efbd-43ed-8edf-74f58af45c00.jpg -> Annotation:D:/DrowsinessDetection/Tensorflow/workspace/images/collectedimages/labels\\drowsy_original_drowsy.fb5fd950-d8d9-11ec-ae6b-086ac5628e63.jpg_d8dbc97a-efbd-43ed-8edf-74f58af45c00.xml\n",
      "Image:D:\\DrowsinessDetection\\Tensorflow\\workspace\\images\\collectedimages\\labels\\drowsy_original_drowsy.fb5fd950-d8d9-11ec-ae6b-086ac5628e63.jpg_d8dbc97a-efbd-43ed-8edf-74f58af45c00.jpg -> Annotation:D:/DrowsinessDetection/Tensorflow/workspace/images/collectedimages/labels\\drowsy_original_drowsy.fb5fd950-d8d9-11ec-ae6b-086ac5628e63.jpg_d8dbc97a-efbd-43ed-8edf-74f58af45c00.xml\n",
      "Image:D:\\DrowsinessDetection\\Tensorflow\\workspace\\images\\collectedimages\\labels\\drowsy_original_drowsy.fb5fd950-d8d9-11ec-ae6b-086ac5628e63.jpg_da14cb04-d8e0-430c-b1fe-dda8692a2f04.jpg -> Annotation:D:/DrowsinessDetection/Tensorflow/workspace/images/collectedimages/labels\\drowsy_original_drowsy.fb5fd950-d8d9-11ec-ae6b-086ac5628e63.jpg_da14cb04-d8e0-430c-b1fe-dda8692a2f04.xml\n",
      "Image:D:\\DrowsinessDetection\\Tensorflow\\workspace\\images\\collectedimages\\labels\\drowsy_original_drowsy.fb5fd950-d8d9-11ec-ae6b-086ac5628e63.jpg_da14cb04-d8e0-430c-b1fe-dda8692a2f04.jpg -> Annotation:D:/DrowsinessDetection/Tensorflow/workspace/images/collectedimages/labels\\drowsy_original_drowsy.fb5fd950-d8d9-11ec-ae6b-086ac5628e63.jpg_da14cb04-d8e0-430c-b1fe-dda8692a2f04.xml\n",
      "Image:D:\\DrowsinessDetection\\Tensorflow\\workspace\\images\\collectedimages\\labels\\drowsy_original_drowsy.fb5fd950-d8d9-11ec-ae6b-086ac5628e63.jpg_db3787e4-5843-4e24-9223-c5766bf10707.jpg -> Annotation:D:/DrowsinessDetection/Tensorflow/workspace/images/collectedimages/labels\\drowsy_original_drowsy.fb5fd950-d8d9-11ec-ae6b-086ac5628e63.jpg_db3787e4-5843-4e24-9223-c5766bf10707.xml\n",
      "Image:D:\\DrowsinessDetection\\Tensorflow\\workspace\\images\\collectedimages\\labels\\drowsy_original_drowsy.fb5fd950-d8d9-11ec-ae6b-086ac5628e63.jpg_e4a78c8a-dbf5-48d5-b5b7-4aa537e2340d.jpg -> Annotation:D:/DrowsinessDetection/Tensorflow/workspace/images/collectedimages/labels\\drowsy_original_drowsy.fb5fd950-d8d9-11ec-ae6b-086ac5628e63.jpg_e4a78c8a-dbf5-48d5-b5b7-4aa537e2340d.xml\n",
      "Image:D:\\DrowsinessDetection\\Tensorflow\\workspace\\images\\collectedimages\\labels\\drowsy_original_drowsy.fb5fd950-d8d9-11ec-ae6b-086ac5628e63.jpg_e843a689-7ba4-4827-93fb-adb4b9a8c607.jpg -> Annotation:D:/DrowsinessDetection/Tensorflow/workspace/images/collectedimages/labels\\drowsy_original_drowsy.fb5fd950-d8d9-11ec-ae6b-086ac5628e63.jpg_e843a689-7ba4-4827-93fb-adb4b9a8c607.xml\n",
      "Image:D:\\DrowsinessDetection\\Tensorflow\\workspace\\images\\collectedimages\\labels\\drowsy_original_drowsy.fb5fd950-d8d9-11ec-ae6b-086ac5628e63.jpg_e843a689-7ba4-4827-93fb-adb4b9a8c607.jpg -> Annotation:D:/DrowsinessDetection/Tensorflow/workspace/images/collectedimages/labels\\drowsy_original_drowsy.fb5fd950-d8d9-11ec-ae6b-086ac5628e63.jpg_e843a689-7ba4-4827-93fb-adb4b9a8c607.xml\n",
      "Image:D:\\DrowsinessDetection\\Tensorflow\\workspace\\images\\collectedimages\\labels\\drowsy_original_drowsy.fb5fd950-d8d9-11ec-ae6b-086ac5628e63.jpg_e8049d77-4bdd-4f2c-b653-d2b4096ec83a.jpg -> Annotation:D:/DrowsinessDetection/Tensorflow/workspace/images/collectedimages/labels\\drowsy_original_drowsy.fb5fd950-d8d9-11ec-ae6b-086ac5628e63.jpg_e8049d77-4bdd-4f2c-b653-d2b4096ec83a.xml\n",
      "Image:D:\\DrowsinessDetection\\Tensorflow\\workspace\\images\\collectedimages\\labels\\drowsy_original_drowsy.fb5fd950-d8d9-11ec-ae6b-086ac5628e63.jpg_e347977a-1351-4383-99bf-9531ba94e2ba.jpg -> Annotation:D:/DrowsinessDetection/Tensorflow/workspace/images/collectedimages/labels\\drowsy_original_drowsy.fb5fd950-d8d9-11ec-ae6b-086ac5628e63.jpg_e347977a-1351-4383-99bf-9531ba94e2ba.xml\n",
      "Image:D:\\DrowsinessDetection\\Tensorflow\\workspace\\images\\collectedimages\\labels\\drowsy_original_drowsy.fb5fd950-d8d9-11ec-ae6b-086ac5628e63.jpg_e347977a-1351-4383-99bf-9531ba94e2ba.jpg -> Annotation:D:/DrowsinessDetection/Tensorflow/workspace/images/collectedimages/labels\\drowsy_original_drowsy.fb5fd950-d8d9-11ec-ae6b-086ac5628e63.jpg_e347977a-1351-4383-99bf-9531ba94e2ba.xml\n",
      "Image:D:\\DrowsinessDetection\\Tensorflow\\workspace\\images\\collectedimages\\labels\\drowsy_original_drowsy.fb5fd950-d8d9-11ec-ae6b-086ac5628e63.jpg_eadfc261-d052-47b2-987a-79d0382899b0.jpg -> Annotation:D:/DrowsinessDetection/Tensorflow/workspace/images/collectedimages/labels\\drowsy_original_drowsy.fb5fd950-d8d9-11ec-ae6b-086ac5628e63.jpg_eadfc261-d052-47b2-987a-79d0382899b0.xml\n",
      "Image:D:\\DrowsinessDetection\\Tensorflow\\workspace\\images\\collectedimages\\labels\\drowsy_original_drowsy.fb5fd950-d8d9-11ec-ae6b-086ac5628e63.jpg_eadfc261-d052-47b2-987a-79d0382899b0.jpg -> Annotation:D:/DrowsinessDetection/Tensorflow/workspace/images/collectedimages/labels\\drowsy_original_drowsy.fb5fd950-d8d9-11ec-ae6b-086ac5628e63.jpg_eadfc261-d052-47b2-987a-79d0382899b0.xml\n",
      "Image:D:\\DrowsinessDetection\\Tensorflow\\workspace\\images\\collectedimages\\labels\\drowsy_original_drowsy.fb5fd950-d8d9-11ec-ae6b-086ac5628e63.jpg_eb77676c-162f-41f5-9245-d408fdf6dd1d.jpg -> Annotation:D:/DrowsinessDetection/Tensorflow/workspace/images/collectedimages/labels\\drowsy_original_drowsy.fb5fd950-d8d9-11ec-ae6b-086ac5628e63.jpg_eb77676c-162f-41f5-9245-d408fdf6dd1d.xml\n",
      "Image:D:\\DrowsinessDetection\\Tensorflow\\workspace\\images\\collectedimages\\labels\\drowsy_original_drowsy.fb5fd950-d8d9-11ec-ae6b-086ac5628e63.jpg_eb77676c-162f-41f5-9245-d408fdf6dd1d.jpg -> Annotation:D:/DrowsinessDetection/Tensorflow/workspace/images/collectedimages/labels\\drowsy_original_drowsy.fb5fd950-d8d9-11ec-ae6b-086ac5628e63.jpg_eb77676c-162f-41f5-9245-d408fdf6dd1d.xml\n",
      "Image:D:\\DrowsinessDetection\\Tensorflow\\workspace\\images\\collectedimages\\labels\\drowsy_original_drowsy.fb5fd950-d8d9-11ec-ae6b-086ac5628e63.jpg_ecfe8d12-9049-4200-a026-be63cc7ed1c9.jpg -> Annotation:D:/DrowsinessDetection/Tensorflow/workspace/images/collectedimages/labels\\drowsy_original_drowsy.fb5fd950-d8d9-11ec-ae6b-086ac5628e63.jpg_ecfe8d12-9049-4200-a026-be63cc7ed1c9.xml\n",
      "Image:D:\\DrowsinessDetection\\Tensorflow\\workspace\\images\\collectedimages\\labels\\drowsy_original_drowsy.fb5fd950-d8d9-11ec-ae6b-086ac5628e63.jpg_ecfe8d12-9049-4200-a026-be63cc7ed1c9.jpg -> Annotation:D:/DrowsinessDetection/Tensorflow/workspace/images/collectedimages/labels\\drowsy_original_drowsy.fb5fd950-d8d9-11ec-ae6b-086ac5628e63.jpg_ecfe8d12-9049-4200-a026-be63cc7ed1c9.xml\n",
      "Image:D:\\DrowsinessDetection\\Tensorflow\\workspace\\images\\collectedimages\\labels\\drowsy_original_drowsy.fb5fd950-d8d9-11ec-ae6b-086ac5628e63.jpg_ff264cbe-cbe3-4036-ab18-2eeba7182afe.jpg -> Annotation:D:/DrowsinessDetection/Tensorflow/workspace/images/collectedimages/labels\\drowsy_original_drowsy.fb5fd950-d8d9-11ec-ae6b-086ac5628e63.jpg_ff264cbe-cbe3-4036-ab18-2eeba7182afe.xml\n",
      "Image:D:\\DrowsinessDetection\\Tensorflow\\workspace\\images\\collectedimages\\labels\\drowsy_original_drowsy.fb5fd950-d8d9-11ec-ae6b-086ac5628e63.jpg_ff264cbe-cbe3-4036-ab18-2eeba7182afe.jpg -> Annotation:D:/DrowsinessDetection/Tensorflow/workspace/images/collectedimages/labels\\drowsy_original_drowsy.fb5fd950-d8d9-11ec-ae6b-086ac5628e63.jpg_ff264cbe-cbe3-4036-ab18-2eeba7182afe.xml\n",
      "Image:D:\\DrowsinessDetection\\Tensorflow\\workspace\\images\\collectedimages\\labels\\drowsy_original_drowsy.fc970ab3-d8d9-11ec-8404-086ac5628e63.jpg_0adc7d0e-6a74-4fe3-a204-a9aa54f6732f.jpg -> Annotation:D:/DrowsinessDetection/Tensorflow/workspace/images/collectedimages/labels\\drowsy_original_drowsy.fc970ab3-d8d9-11ec-8404-086ac5628e63.jpg_0adc7d0e-6a74-4fe3-a204-a9aa54f6732f.xml\n",
      "Image:D:\\DrowsinessDetection\\Tensorflow\\workspace\\images\\collectedimages\\labels\\drowsy_original_drowsy.fc970ab3-d8d9-11ec-8404-086ac5628e63.jpg_0adc7d0e-6a74-4fe3-a204-a9aa54f6732f.jpg -> Annotation:D:/DrowsinessDetection/Tensorflow/workspace/images/collectedimages/labels\\drowsy_original_drowsy.fc970ab3-d8d9-11ec-8404-086ac5628e63.jpg_0adc7d0e-6a74-4fe3-a204-a9aa54f6732f.xml\n",
      "Image:D:\\DrowsinessDetection\\Tensorflow\\workspace\\images\\collectedimages\\labels\\drowsy_original_drowsy.fc970ab3-d8d9-11ec-8404-086ac5628e63.jpg_0b698fa8-a7b4-4617-b2c3-f9bbf958a61c.jpg -> Annotation:D:/DrowsinessDetection/Tensorflow/workspace/images/collectedimages/labels\\drowsy_original_drowsy.fc970ab3-d8d9-11ec-8404-086ac5628e63.jpg_0b698fa8-a7b4-4617-b2c3-f9bbf958a61c.xml\n",
      "Image:D:\\DrowsinessDetection\\Tensorflow\\workspace\\images\\collectedimages\\labels\\drowsy_original_drowsy.fc970ab3-d8d9-11ec-8404-086ac5628e63.jpg_0d063768-2fe7-424f-b56f-b4d54e1140d2.jpg -> Annotation:D:/DrowsinessDetection/Tensorflow/workspace/images/collectedimages/labels\\drowsy_original_drowsy.fc970ab3-d8d9-11ec-8404-086ac5628e63.jpg_0d063768-2fe7-424f-b56f-b4d54e1140d2.xml\n",
      "Image:D:\\DrowsinessDetection\\Tensorflow\\workspace\\images\\collectedimages\\labels\\drowsy_original_drowsy.fc970ab3-d8d9-11ec-8404-086ac5628e63.jpg_3ea96098-db3f-4019-ab1f-e6a3c8630bd9.jpg -> Annotation:D:/DrowsinessDetection/Tensorflow/workspace/images/collectedimages/labels\\drowsy_original_drowsy.fc970ab3-d8d9-11ec-8404-086ac5628e63.jpg_3ea96098-db3f-4019-ab1f-e6a3c8630bd9.xml\n",
      "Image:D:\\DrowsinessDetection\\Tensorflow\\workspace\\images\\collectedimages\\labels\\drowsy_original_drowsy.fc970ab3-d8d9-11ec-8404-086ac5628e63.jpg_3f44c439-e1df-463f-bc58-db3b98985f85.jpg -> Annotation:D:/DrowsinessDetection/Tensorflow/workspace/images/collectedimages/labels\\drowsy_original_drowsy.fc970ab3-d8d9-11ec-8404-086ac5628e63.jpg_3f44c439-e1df-463f-bc58-db3b98985f85.xml\n",
      "Image:D:\\DrowsinessDetection\\Tensorflow\\workspace\\images\\collectedimages\\labels\\drowsy_original_drowsy.fc970ab3-d8d9-11ec-8404-086ac5628e63.jpg_3f44c439-e1df-463f-bc58-db3b98985f85.jpg -> Annotation:D:/DrowsinessDetection/Tensorflow/workspace/images/collectedimages/labels\\drowsy_original_drowsy.fc970ab3-d8d9-11ec-8404-086ac5628e63.jpg_3f44c439-e1df-463f-bc58-db3b98985f85.xml\n",
      "Image:D:\\DrowsinessDetection\\Tensorflow\\workspace\\images\\collectedimages\\labels\\drowsy_original_drowsy.fc970ab3-d8d9-11ec-8404-086ac5628e63.jpg_4d683e73-3c0b-4c50-a87b-bb86878707b9.jpg -> Annotation:D:/DrowsinessDetection/Tensorflow/workspace/images/collectedimages/labels\\drowsy_original_drowsy.fc970ab3-d8d9-11ec-8404-086ac5628e63.jpg_4d683e73-3c0b-4c50-a87b-bb86878707b9.xml\n",
      "Image:D:\\DrowsinessDetection\\Tensorflow\\workspace\\images\\collectedimages\\labels\\drowsy_original_drowsy.fc970ab3-d8d9-11ec-8404-086ac5628e63.jpg_4d683e73-3c0b-4c50-a87b-bb86878707b9.jpg -> Annotation:D:/DrowsinessDetection/Tensorflow/workspace/images/collectedimages/labels\\drowsy_original_drowsy.fc970ab3-d8d9-11ec-8404-086ac5628e63.jpg_4d683e73-3c0b-4c50-a87b-bb86878707b9.xml\n",
      "Image:D:\\DrowsinessDetection\\Tensorflow\\workspace\\images\\collectedimages\\labels\\drowsy_original_drowsy.fc970ab3-d8d9-11ec-8404-086ac5628e63.jpg_5fc37542-2f93-4329-9348-1b7de7c2f6d9.jpg -> Annotation:D:/DrowsinessDetection/Tensorflow/workspace/images/collectedimages/labels\\drowsy_original_drowsy.fc970ab3-d8d9-11ec-8404-086ac5628e63.jpg_5fc37542-2f93-4329-9348-1b7de7c2f6d9.xml\n",
      "Image:D:\\DrowsinessDetection\\Tensorflow\\workspace\\images\\collectedimages\\labels\\drowsy_original_drowsy.fc970ab3-d8d9-11ec-8404-086ac5628e63.jpg_5fc37542-2f93-4329-9348-1b7de7c2f6d9.jpg -> Annotation:D:/DrowsinessDetection/Tensorflow/workspace/images/collectedimages/labels\\drowsy_original_drowsy.fc970ab3-d8d9-11ec-8404-086ac5628e63.jpg_5fc37542-2f93-4329-9348-1b7de7c2f6d9.xml\n",
      "Image:D:\\DrowsinessDetection\\Tensorflow\\workspace\\images\\collectedimages\\labels\\drowsy_original_drowsy.fc970ab3-d8d9-11ec-8404-086ac5628e63.jpg_06b78cb6-18ba-4d89-a5ce-fb80f3e1b5d2.jpg -> Annotation:D:/DrowsinessDetection/Tensorflow/workspace/images/collectedimages/labels\\drowsy_original_drowsy.fc970ab3-d8d9-11ec-8404-086ac5628e63.jpg_06b78cb6-18ba-4d89-a5ce-fb80f3e1b5d2.xml\n",
      "Image:D:\\DrowsinessDetection\\Tensorflow\\workspace\\images\\collectedimages\\labels\\drowsy_original_drowsy.fc970ab3-d8d9-11ec-8404-086ac5628e63.jpg_07acfbce-0f6c-4d8c-bb1f-6aea48ff540e.jpg -> Annotation:D:/DrowsinessDetection/Tensorflow/workspace/images/collectedimages/labels\\drowsy_original_drowsy.fc970ab3-d8d9-11ec-8404-086ac5628e63.jpg_07acfbce-0f6c-4d8c-bb1f-6aea48ff540e.xml\n",
      "Image:D:\\DrowsinessDetection\\Tensorflow\\workspace\\images\\collectedimages\\labels\\drowsy_original_drowsy.fc970ab3-d8d9-11ec-8404-086ac5628e63.jpg_7d04591c-4816-4d2e-8500-2ddfec2484fc.jpg -> Annotation:D:/DrowsinessDetection/Tensorflow/workspace/images/collectedimages/labels\\drowsy_original_drowsy.fc970ab3-d8d9-11ec-8404-086ac5628e63.jpg_7d04591c-4816-4d2e-8500-2ddfec2484fc.xml\n",
      "Image:D:\\DrowsinessDetection\\Tensorflow\\workspace\\images\\collectedimages\\labels\\drowsy_original_drowsy.fc970ab3-d8d9-11ec-8404-086ac5628e63.jpg_7df58e40-71a9-4f04-a4c0-d77f026fed48.jpg -> Annotation:D:/DrowsinessDetection/Tensorflow/workspace/images/collectedimages/labels\\drowsy_original_drowsy.fc970ab3-d8d9-11ec-8404-086ac5628e63.jpg_7df58e40-71a9-4f04-a4c0-d77f026fed48.xml\n",
      "Image:D:\\DrowsinessDetection\\Tensorflow\\workspace\\images\\collectedimages\\labels\\drowsy_original_drowsy.fc970ab3-d8d9-11ec-8404-086ac5628e63.jpg_7df58e40-71a9-4f04-a4c0-d77f026fed48.jpg -> Annotation:D:/DrowsinessDetection/Tensorflow/workspace/images/collectedimages/labels\\drowsy_original_drowsy.fc970ab3-d8d9-11ec-8404-086ac5628e63.jpg_7df58e40-71a9-4f04-a4c0-d77f026fed48.xml\n",
      "Image:D:\\DrowsinessDetection\\Tensorflow\\workspace\\images\\collectedimages\\labels\\drowsy_original_drowsy.fc970ab3-d8d9-11ec-8404-086ac5628e63.jpg_19e7ee56-389a-47ad-ab11-1f283eac5275.jpg -> Annotation:D:/DrowsinessDetection/Tensorflow/workspace/images/collectedimages/labels\\drowsy_original_drowsy.fc970ab3-d8d9-11ec-8404-086ac5628e63.jpg_19e7ee56-389a-47ad-ab11-1f283eac5275.xml\n",
      "Image:D:\\DrowsinessDetection\\Tensorflow\\workspace\\images\\collectedimages\\labels\\drowsy_original_drowsy.fc970ab3-d8d9-11ec-8404-086ac5628e63.jpg_19e7ee56-389a-47ad-ab11-1f283eac5275.jpg -> Annotation:D:/DrowsinessDetection/Tensorflow/workspace/images/collectedimages/labels\\drowsy_original_drowsy.fc970ab3-d8d9-11ec-8404-086ac5628e63.jpg_19e7ee56-389a-47ad-ab11-1f283eac5275.xml\n",
      "Image:D:\\DrowsinessDetection\\Tensorflow\\workspace\\images\\collectedimages\\labels\\drowsy_original_drowsy.fc970ab3-d8d9-11ec-8404-086ac5628e63.jpg_33d3bdfd-6e53-4c39-a0fd-6bd52c10cf3b.jpg -> Annotation:D:/DrowsinessDetection/Tensorflow/workspace/images/collectedimages/labels\\drowsy_original_drowsy.fc970ab3-d8d9-11ec-8404-086ac5628e63.jpg_33d3bdfd-6e53-4c39-a0fd-6bd52c10cf3b.xml\n",
      "Image:D:\\DrowsinessDetection\\Tensorflow\\workspace\\images\\collectedimages\\labels\\drowsy_original_drowsy.fc970ab3-d8d9-11ec-8404-086ac5628e63.jpg_33d3bdfd-6e53-4c39-a0fd-6bd52c10cf3b.jpg -> Annotation:D:/DrowsinessDetection/Tensorflow/workspace/images/collectedimages/labels\\drowsy_original_drowsy.fc970ab3-d8d9-11ec-8404-086ac5628e63.jpg_33d3bdfd-6e53-4c39-a0fd-6bd52c10cf3b.xml\n",
      "Image:D:\\DrowsinessDetection\\Tensorflow\\workspace\\images\\collectedimages\\labels\\drowsy_original_drowsy.fc970ab3-d8d9-11ec-8404-086ac5628e63.jpg_54ea6367-b0d6-42ae-b97d-cd262ca44c89.jpg -> Annotation:D:/DrowsinessDetection/Tensorflow/workspace/images/collectedimages/labels\\drowsy_original_drowsy.fc970ab3-d8d9-11ec-8404-086ac5628e63.jpg_54ea6367-b0d6-42ae-b97d-cd262ca44c89.xml\n",
      "Image:D:\\DrowsinessDetection\\Tensorflow\\workspace\\images\\collectedimages\\labels\\drowsy_original_drowsy.fc970ab3-d8d9-11ec-8404-086ac5628e63.jpg_55b1241b-6b90-4b00-aa89-1fdb3d1df3f1.jpg -> Annotation:D:/DrowsinessDetection/Tensorflow/workspace/images/collectedimages/labels\\drowsy_original_drowsy.fc970ab3-d8d9-11ec-8404-086ac5628e63.jpg_55b1241b-6b90-4b00-aa89-1fdb3d1df3f1.xml\n",
      "Image:D:\\DrowsinessDetection\\Tensorflow\\workspace\\images\\collectedimages\\labels\\drowsy_original_drowsy.fc970ab3-d8d9-11ec-8404-086ac5628e63.jpg_59cd2f2d-bd2b-4e2d-836a-1ea78b4fb0f4.jpg -> Annotation:D:/DrowsinessDetection/Tensorflow/workspace/images/collectedimages/labels\\drowsy_original_drowsy.fc970ab3-d8d9-11ec-8404-086ac5628e63.jpg_59cd2f2d-bd2b-4e2d-836a-1ea78b4fb0f4.xml\n",
      "Image:D:\\DrowsinessDetection\\Tensorflow\\workspace\\images\\collectedimages\\labels\\drowsy_original_drowsy.fc970ab3-d8d9-11ec-8404-086ac5628e63.jpg_82bb7ad8-49a3-41ed-92d7-1f480f05199c.jpg -> Annotation:D:/DrowsinessDetection/Tensorflow/workspace/images/collectedimages/labels\\drowsy_original_drowsy.fc970ab3-d8d9-11ec-8404-086ac5628e63.jpg_82bb7ad8-49a3-41ed-92d7-1f480f05199c.xml\n",
      "Image:D:\\DrowsinessDetection\\Tensorflow\\workspace\\images\\collectedimages\\labels\\drowsy_original_drowsy.fc970ab3-d8d9-11ec-8404-086ac5628e63.jpg_82cba3ba-5746-4ed5-b417-e4554eb2e4ea.jpg -> Annotation:D:/DrowsinessDetection/Tensorflow/workspace/images/collectedimages/labels\\drowsy_original_drowsy.fc970ab3-d8d9-11ec-8404-086ac5628e63.jpg_82cba3ba-5746-4ed5-b417-e4554eb2e4ea.xml\n",
      "Image:D:\\DrowsinessDetection\\Tensorflow\\workspace\\images\\collectedimages\\labels\\drowsy_original_drowsy.fc970ab3-d8d9-11ec-8404-086ac5628e63.jpg_82cba3ba-5746-4ed5-b417-e4554eb2e4ea.jpg -> Annotation:D:/DrowsinessDetection/Tensorflow/workspace/images/collectedimages/labels\\drowsy_original_drowsy.fc970ab3-d8d9-11ec-8404-086ac5628e63.jpg_82cba3ba-5746-4ed5-b417-e4554eb2e4ea.xml\n",
      "Image:D:\\DrowsinessDetection\\Tensorflow\\workspace\\images\\collectedimages\\labels\\drowsy_original_drowsy.fc970ab3-d8d9-11ec-8404-086ac5628e63.jpg_82e11c23-34bd-43e0-950e-41279db923b0.jpg -> Annotation:D:/DrowsinessDetection/Tensorflow/workspace/images/collectedimages/labels\\drowsy_original_drowsy.fc970ab3-d8d9-11ec-8404-086ac5628e63.jpg_82e11c23-34bd-43e0-950e-41279db923b0.xml\n",
      "Image:D:\\DrowsinessDetection\\Tensorflow\\workspace\\images\\collectedimages\\labels\\drowsy_original_drowsy.fc970ab3-d8d9-11ec-8404-086ac5628e63.jpg_82e11c23-34bd-43e0-950e-41279db923b0.jpg -> Annotation:D:/DrowsinessDetection/Tensorflow/workspace/images/collectedimages/labels\\drowsy_original_drowsy.fc970ab3-d8d9-11ec-8404-086ac5628e63.jpg_82e11c23-34bd-43e0-950e-41279db923b0.xml\n",
      "Image:D:\\DrowsinessDetection\\Tensorflow\\workspace\\images\\collectedimages\\labels\\drowsy_original_drowsy.fc970ab3-d8d9-11ec-8404-086ac5628e63.jpg_84c75d71-fd5b-4ef7-83fc-30a4e0881936.jpg -> Annotation:D:/DrowsinessDetection/Tensorflow/workspace/images/collectedimages/labels\\drowsy_original_drowsy.fc970ab3-d8d9-11ec-8404-086ac5628e63.jpg_84c75d71-fd5b-4ef7-83fc-30a4e0881936.xml\n",
      "Image:D:\\DrowsinessDetection\\Tensorflow\\workspace\\images\\collectedimages\\labels\\drowsy_original_drowsy.fc970ab3-d8d9-11ec-8404-086ac5628e63.jpg_84c75d71-fd5b-4ef7-83fc-30a4e0881936.jpg -> Annotation:D:/DrowsinessDetection/Tensorflow/workspace/images/collectedimages/labels\\drowsy_original_drowsy.fc970ab3-d8d9-11ec-8404-086ac5628e63.jpg_84c75d71-fd5b-4ef7-83fc-30a4e0881936.xml\n",
      "Image:D:\\DrowsinessDetection\\Tensorflow\\workspace\\images\\collectedimages\\labels\\drowsy_original_drowsy.fc970ab3-d8d9-11ec-8404-086ac5628e63.jpg_89cf56fe-cd1b-46c8-ae3e-a4e29871912b.jpg -> Annotation:D:/DrowsinessDetection/Tensorflow/workspace/images/collectedimages/labels\\drowsy_original_drowsy.fc970ab3-d8d9-11ec-8404-086ac5628e63.jpg_89cf56fe-cd1b-46c8-ae3e-a4e29871912b.xml\n",
      "Image:D:\\DrowsinessDetection\\Tensorflow\\workspace\\images\\collectedimages\\labels\\drowsy_original_drowsy.fc970ab3-d8d9-11ec-8404-086ac5628e63.jpg_352f60ab-ec97-4872-9ed6-009abfb22241.jpg -> Annotation:D:/DrowsinessDetection/Tensorflow/workspace/images/collectedimages/labels\\drowsy_original_drowsy.fc970ab3-d8d9-11ec-8404-086ac5628e63.jpg_352f60ab-ec97-4872-9ed6-009abfb22241.xml\n",
      "Image:D:\\DrowsinessDetection\\Tensorflow\\workspace\\images\\collectedimages\\labels\\drowsy_original_drowsy.fc970ab3-d8d9-11ec-8404-086ac5628e63.jpg_352f60ab-ec97-4872-9ed6-009abfb22241.jpg -> Annotation:D:/DrowsinessDetection/Tensorflow/workspace/images/collectedimages/labels\\drowsy_original_drowsy.fc970ab3-d8d9-11ec-8404-086ac5628e63.jpg_352f60ab-ec97-4872-9ed6-009abfb22241.xml\n",
      "Image:D:\\DrowsinessDetection\\Tensorflow\\workspace\\images\\collectedimages\\labels\\drowsy_original_drowsy.fc970ab3-d8d9-11ec-8404-086ac5628e63.jpg_549f0864-3601-4ec1-8994-3eb3bd5d608b.jpg -> Annotation:D:/DrowsinessDetection/Tensorflow/workspace/images/collectedimages/labels\\drowsy_original_drowsy.fc970ab3-d8d9-11ec-8404-086ac5628e63.jpg_549f0864-3601-4ec1-8994-3eb3bd5d608b.xml\n",
      "Image:D:\\DrowsinessDetection\\Tensorflow\\workspace\\images\\collectedimages\\labels\\drowsy_original_drowsy.fc970ab3-d8d9-11ec-8404-086ac5628e63.jpg_617e2e99-4ee8-446a-90e6-c8704f248dc5.jpg -> Annotation:D:/DrowsinessDetection/Tensorflow/workspace/images/collectedimages/labels\\drowsy_original_drowsy.fc970ab3-d8d9-11ec-8404-086ac5628e63.jpg_617e2e99-4ee8-446a-90e6-c8704f248dc5.xml\n",
      "Image:D:\\DrowsinessDetection\\Tensorflow\\workspace\\images\\collectedimages\\labels\\drowsy_original_drowsy.fc970ab3-d8d9-11ec-8404-086ac5628e63.jpg_617e2e99-4ee8-446a-90e6-c8704f248dc5.jpg -> Annotation:D:/DrowsinessDetection/Tensorflow/workspace/images/collectedimages/labels\\drowsy_original_drowsy.fc970ab3-d8d9-11ec-8404-086ac5628e63.jpg_617e2e99-4ee8-446a-90e6-c8704f248dc5.xml\n",
      "Image:D:\\DrowsinessDetection\\Tensorflow\\workspace\\images\\collectedimages\\labels\\drowsy_original_drowsy.fc970ab3-d8d9-11ec-8404-086ac5628e63.jpg_749f7b55-0e2a-4ce0-ba2e-be63e43a495c.jpg -> Annotation:D:/DrowsinessDetection/Tensorflow/workspace/images/collectedimages/labels\\drowsy_original_drowsy.fc970ab3-d8d9-11ec-8404-086ac5628e63.jpg_749f7b55-0e2a-4ce0-ba2e-be63e43a495c.xml\n",
      "Image:D:\\DrowsinessDetection\\Tensorflow\\workspace\\images\\collectedimages\\labels\\drowsy_original_drowsy.fc970ab3-d8d9-11ec-8404-086ac5628e63.jpg_815d7446-af46-4a85-a232-e3ffcd0f34a9.jpg -> Annotation:D:/DrowsinessDetection/Tensorflow/workspace/images/collectedimages/labels\\drowsy_original_drowsy.fc970ab3-d8d9-11ec-8404-086ac5628e63.jpg_815d7446-af46-4a85-a232-e3ffcd0f34a9.xml\n",
      "Image:D:\\DrowsinessDetection\\Tensorflow\\workspace\\images\\collectedimages\\labels\\drowsy_original_drowsy.fc970ab3-d8d9-11ec-8404-086ac5628e63.jpg_913e7c1b-b33d-4931-9ab8-6b2d1bfb438f.jpg -> Annotation:D:/DrowsinessDetection/Tensorflow/workspace/images/collectedimages/labels\\drowsy_original_drowsy.fc970ab3-d8d9-11ec-8404-086ac5628e63.jpg_913e7c1b-b33d-4931-9ab8-6b2d1bfb438f.xml\n",
      "Image:D:\\DrowsinessDetection\\Tensorflow\\workspace\\images\\collectedimages\\labels\\drowsy_original_drowsy.fc970ab3-d8d9-11ec-8404-086ac5628e63.jpg_980c7251-5419-46fd-bb7b-750637126dfc.jpg -> Annotation:D:/DrowsinessDetection/Tensorflow/workspace/images/collectedimages/labels\\drowsy_original_drowsy.fc970ab3-d8d9-11ec-8404-086ac5628e63.jpg_980c7251-5419-46fd-bb7b-750637126dfc.xml\n",
      "Image:D:\\DrowsinessDetection\\Tensorflow\\workspace\\images\\collectedimages\\labels\\drowsy_original_drowsy.fc970ab3-d8d9-11ec-8404-086ac5628e63.jpg_3488edd0-0fe9-48c2-9f1f-f83d66cadf95.jpg -> Annotation:D:/DrowsinessDetection/Tensorflow/workspace/images/collectedimages/labels\\drowsy_original_drowsy.fc970ab3-d8d9-11ec-8404-086ac5628e63.jpg_3488edd0-0fe9-48c2-9f1f-f83d66cadf95.xml\n",
      "Image:D:\\DrowsinessDetection\\Tensorflow\\workspace\\images\\collectedimages\\labels\\drowsy_original_drowsy.fc970ab3-d8d9-11ec-8404-086ac5628e63.jpg_3488edd0-0fe9-48c2-9f1f-f83d66cadf95.jpg -> Annotation:D:/DrowsinessDetection/Tensorflow/workspace/images/collectedimages/labels\\drowsy_original_drowsy.fc970ab3-d8d9-11ec-8404-086ac5628e63.jpg_3488edd0-0fe9-48c2-9f1f-f83d66cadf95.xml\n",
      "Image:D:\\DrowsinessDetection\\Tensorflow\\workspace\\images\\collectedimages\\labels\\drowsy_original_drowsy.fc970ab3-d8d9-11ec-8404-086ac5628e63.jpg_4181c38b-c9a1-4e85-af98-0127aee928b1.jpg -> Annotation:D:/DrowsinessDetection/Tensorflow/workspace/images/collectedimages/labels\\drowsy_original_drowsy.fc970ab3-d8d9-11ec-8404-086ac5628e63.jpg_4181c38b-c9a1-4e85-af98-0127aee928b1.xml\n",
      "Image:D:\\DrowsinessDetection\\Tensorflow\\workspace\\images\\collectedimages\\labels\\drowsy_original_drowsy.fc970ab3-d8d9-11ec-8404-086ac5628e63.jpg_4181c38b-c9a1-4e85-af98-0127aee928b1.jpg -> Annotation:D:/DrowsinessDetection/Tensorflow/workspace/images/collectedimages/labels\\drowsy_original_drowsy.fc970ab3-d8d9-11ec-8404-086ac5628e63.jpg_4181c38b-c9a1-4e85-af98-0127aee928b1.xml\n",
      "Image:D:\\DrowsinessDetection\\Tensorflow\\workspace\\images\\collectedimages\\labels\\drowsy_original_drowsy.fc970ab3-d8d9-11ec-8404-086ac5628e63.jpg_5774cd47-025c-407c-a196-2a100c5df3bd.jpg -> Annotation:D:/DrowsinessDetection/Tensorflow/workspace/images/collectedimages/labels\\drowsy_original_drowsy.fc970ab3-d8d9-11ec-8404-086ac5628e63.jpg_5774cd47-025c-407c-a196-2a100c5df3bd.xml\n",
      "Image:D:\\DrowsinessDetection\\Tensorflow\\workspace\\images\\collectedimages\\labels\\drowsy_original_drowsy.fc970ab3-d8d9-11ec-8404-086ac5628e63.jpg_5774cd47-025c-407c-a196-2a100c5df3bd.jpg -> Annotation:D:/DrowsinessDetection/Tensorflow/workspace/images/collectedimages/labels\\drowsy_original_drowsy.fc970ab3-d8d9-11ec-8404-086ac5628e63.jpg_5774cd47-025c-407c-a196-2a100c5df3bd.xml\n",
      "Image:D:\\DrowsinessDetection\\Tensorflow\\workspace\\images\\collectedimages\\labels\\drowsy_original_drowsy.fc970ab3-d8d9-11ec-8404-086ac5628e63.jpg_7393d282-b44a-4a9f-b389-da671346f96e.jpg -> Annotation:D:/DrowsinessDetection/Tensorflow/workspace/images/collectedimages/labels\\drowsy_original_drowsy.fc970ab3-d8d9-11ec-8404-086ac5628e63.jpg_7393d282-b44a-4a9f-b389-da671346f96e.xml\n",
      "Image:D:\\DrowsinessDetection\\Tensorflow\\workspace\\images\\collectedimages\\labels\\drowsy_original_drowsy.fc970ab3-d8d9-11ec-8404-086ac5628e63.jpg_7393d282-b44a-4a9f-b389-da671346f96e.jpg -> Annotation:D:/DrowsinessDetection/Tensorflow/workspace/images/collectedimages/labels\\drowsy_original_drowsy.fc970ab3-d8d9-11ec-8404-086ac5628e63.jpg_7393d282-b44a-4a9f-b389-da671346f96e.xml\n",
      "Image:D:\\DrowsinessDetection\\Tensorflow\\workspace\\images\\collectedimages\\labels\\drowsy_original_drowsy.fc970ab3-d8d9-11ec-8404-086ac5628e63.jpg_40120edc-9981-452a-8771-e18aa6ad1090.jpg -> Annotation:D:/DrowsinessDetection/Tensorflow/workspace/images/collectedimages/labels\\drowsy_original_drowsy.fc970ab3-d8d9-11ec-8404-086ac5628e63.jpg_40120edc-9981-452a-8771-e18aa6ad1090.xml\n",
      "Image:D:\\DrowsinessDetection\\Tensorflow\\workspace\\images\\collectedimages\\labels\\drowsy_original_drowsy.fc970ab3-d8d9-11ec-8404-086ac5628e63.jpg_40120edc-9981-452a-8771-e18aa6ad1090.jpg -> Annotation:D:/DrowsinessDetection/Tensorflow/workspace/images/collectedimages/labels\\drowsy_original_drowsy.fc970ab3-d8d9-11ec-8404-086ac5628e63.jpg_40120edc-9981-452a-8771-e18aa6ad1090.xml\n",
      "Image:D:\\DrowsinessDetection\\Tensorflow\\workspace\\images\\collectedimages\\labels\\drowsy_original_drowsy.fc970ab3-d8d9-11ec-8404-086ac5628e63.jpg_162764c4-7ee6-4569-a70b-0d9daaa6926b.jpg -> Annotation:D:/DrowsinessDetection/Tensorflow/workspace/images/collectedimages/labels\\drowsy_original_drowsy.fc970ab3-d8d9-11ec-8404-086ac5628e63.jpg_162764c4-7ee6-4569-a70b-0d9daaa6926b.xml\n",
      "Image:D:\\DrowsinessDetection\\Tensorflow\\workspace\\images\\collectedimages\\labels\\drowsy_original_drowsy.fc970ab3-d8d9-11ec-8404-086ac5628e63.jpg_162764c4-7ee6-4569-a70b-0d9daaa6926b.jpg -> Annotation:D:/DrowsinessDetection/Tensorflow/workspace/images/collectedimages/labels\\drowsy_original_drowsy.fc970ab3-d8d9-11ec-8404-086ac5628e63.jpg_162764c4-7ee6-4569-a70b-0d9daaa6926b.xml\n",
      "Image:D:\\DrowsinessDetection\\Tensorflow\\workspace\\images\\collectedimages\\labels\\drowsy_original_drowsy.fc970ab3-d8d9-11ec-8404-086ac5628e63.jpg_547995ed-75da-4c3d-a666-23f642d364f4.jpg -> Annotation:D:/DrowsinessDetection/Tensorflow/workspace/images/collectedimages/labels\\drowsy_original_drowsy.fc970ab3-d8d9-11ec-8404-086ac5628e63.jpg_547995ed-75da-4c3d-a666-23f642d364f4.xml\n",
      "Image:D:\\DrowsinessDetection\\Tensorflow\\workspace\\images\\collectedimages\\labels\\drowsy_original_drowsy.fc970ab3-d8d9-11ec-8404-086ac5628e63.jpg_590456c0-f8f2-4478-bcff-5b3aa99ea382.jpg -> Annotation:D:/DrowsinessDetection/Tensorflow/workspace/images/collectedimages/labels\\drowsy_original_drowsy.fc970ab3-d8d9-11ec-8404-086ac5628e63.jpg_590456c0-f8f2-4478-bcff-5b3aa99ea382.xml\n",
      "Image:D:\\DrowsinessDetection\\Tensorflow\\workspace\\images\\collectedimages\\labels\\drowsy_original_drowsy.fc970ab3-d8d9-11ec-8404-086ac5628e63.jpg_4108417c-7280-4a3d-a13c-d9721547ed8f.jpg -> Annotation:D:/DrowsinessDetection/Tensorflow/workspace/images/collectedimages/labels\\drowsy_original_drowsy.fc970ab3-d8d9-11ec-8404-086ac5628e63.jpg_4108417c-7280-4a3d-a13c-d9721547ed8f.xml\n",
      "Image:D:\\DrowsinessDetection\\Tensorflow\\workspace\\images\\collectedimages\\labels\\drowsy_original_drowsy.fc970ab3-d8d9-11ec-8404-086ac5628e63.jpg_4108417c-7280-4a3d-a13c-d9721547ed8f.jpg -> Annotation:D:/DrowsinessDetection/Tensorflow/workspace/images/collectedimages/labels\\drowsy_original_drowsy.fc970ab3-d8d9-11ec-8404-086ac5628e63.jpg_4108417c-7280-4a3d-a13c-d9721547ed8f.xml\n",
      "Image:D:\\DrowsinessDetection\\Tensorflow\\workspace\\images\\collectedimages\\labels\\drowsy_original_drowsy.fc970ab3-d8d9-11ec-8404-086ac5628e63.jpg_9954300d-cd88-4fcb-81cc-d6ed9179318f.jpg -> Annotation:D:/DrowsinessDetection/Tensorflow/workspace/images/collectedimages/labels\\drowsy_original_drowsy.fc970ab3-d8d9-11ec-8404-086ac5628e63.jpg_9954300d-cd88-4fcb-81cc-d6ed9179318f.xml\n",
      "Image:D:\\DrowsinessDetection\\Tensorflow\\workspace\\images\\collectedimages\\labels\\drowsy_original_drowsy.fc970ab3-d8d9-11ec-8404-086ac5628e63.jpg_27214947-a7cf-4fa6-87e5-692e6fa858ed.jpg -> Annotation:D:/DrowsinessDetection/Tensorflow/workspace/images/collectedimages/labels\\drowsy_original_drowsy.fc970ab3-d8d9-11ec-8404-086ac5628e63.jpg_27214947-a7cf-4fa6-87e5-692e6fa858ed.xml\n",
      "Image:D:\\DrowsinessDetection\\Tensorflow\\workspace\\images\\collectedimages\\labels\\drowsy_original_drowsy.fc970ab3-d8d9-11ec-8404-086ac5628e63.jpg_a2be53c5-d78b-4ea4-be80-415603623211.jpg -> Annotation:D:/DrowsinessDetection/Tensorflow/workspace/images/collectedimages/labels\\drowsy_original_drowsy.fc970ab3-d8d9-11ec-8404-086ac5628e63.jpg_a2be53c5-d78b-4ea4-be80-415603623211.xml\n",
      "Image:D:\\DrowsinessDetection\\Tensorflow\\workspace\\images\\collectedimages\\labels\\drowsy_original_drowsy.fc970ab3-d8d9-11ec-8404-086ac5628e63.jpg_a93dc1b6-b17b-4619-9d36-8633f678b536.jpg -> Annotation:D:/DrowsinessDetection/Tensorflow/workspace/images/collectedimages/labels\\drowsy_original_drowsy.fc970ab3-d8d9-11ec-8404-086ac5628e63.jpg_a93dc1b6-b17b-4619-9d36-8633f678b536.xml\n",
      "Image:D:\\DrowsinessDetection\\Tensorflow\\workspace\\images\\collectedimages\\labels\\drowsy_original_drowsy.fc970ab3-d8d9-11ec-8404-086ac5628e63.jpg_a93dc1b6-b17b-4619-9d36-8633f678b536.jpg -> Annotation:D:/DrowsinessDetection/Tensorflow/workspace/images/collectedimages/labels\\drowsy_original_drowsy.fc970ab3-d8d9-11ec-8404-086ac5628e63.jpg_a93dc1b6-b17b-4619-9d36-8633f678b536.xml\n",
      "Image:D:\\DrowsinessDetection\\Tensorflow\\workspace\\images\\collectedimages\\labels\\drowsy_original_drowsy.fc970ab3-d8d9-11ec-8404-086ac5628e63.jpg_a943be30-32f0-4168-b4d5-e8f84039b0dd.jpg -> Annotation:D:/DrowsinessDetection/Tensorflow/workspace/images/collectedimages/labels\\drowsy_original_drowsy.fc970ab3-d8d9-11ec-8404-086ac5628e63.jpg_a943be30-32f0-4168-b4d5-e8f84039b0dd.xml\n",
      "Image:D:\\DrowsinessDetection\\Tensorflow\\workspace\\images\\collectedimages\\labels\\drowsy_original_drowsy.fc970ab3-d8d9-11ec-8404-086ac5628e63.jpg_a8350c9b-7854-4e15-856d-ea622f3153f2.jpg -> Annotation:D:/DrowsinessDetection/Tensorflow/workspace/images/collectedimages/labels\\drowsy_original_drowsy.fc970ab3-d8d9-11ec-8404-086ac5628e63.jpg_a8350c9b-7854-4e15-856d-ea622f3153f2.xml\n",
      "Image:D:\\DrowsinessDetection\\Tensorflow\\workspace\\images\\collectedimages\\labels\\drowsy_original_drowsy.fc970ab3-d8d9-11ec-8404-086ac5628e63.jpg_a8350c9b-7854-4e15-856d-ea622f3153f2.jpg -> Annotation:D:/DrowsinessDetection/Tensorflow/workspace/images/collectedimages/labels\\drowsy_original_drowsy.fc970ab3-d8d9-11ec-8404-086ac5628e63.jpg_a8350c9b-7854-4e15-856d-ea622f3153f2.xml\n",
      "Image:D:\\DrowsinessDetection\\Tensorflow\\workspace\\images\\collectedimages\\labels\\drowsy_original_drowsy.fc970ab3-d8d9-11ec-8404-086ac5628e63.jpg_aa8d6fa8-1b5f-4128-bb48-e81556f8fb03.jpg -> Annotation:D:/DrowsinessDetection/Tensorflow/workspace/images/collectedimages/labels\\drowsy_original_drowsy.fc970ab3-d8d9-11ec-8404-086ac5628e63.jpg_aa8d6fa8-1b5f-4128-bb48-e81556f8fb03.xml\n",
      "Image:D:\\DrowsinessDetection\\Tensorflow\\workspace\\images\\collectedimages\\labels\\drowsy_original_drowsy.fc970ab3-d8d9-11ec-8404-086ac5628e63.jpg_acb7990d-6c91-4b55-bac6-62bfd2ecf1de.jpg -> Annotation:D:/DrowsinessDetection/Tensorflow/workspace/images/collectedimages/labels\\drowsy_original_drowsy.fc970ab3-d8d9-11ec-8404-086ac5628e63.jpg_acb7990d-6c91-4b55-bac6-62bfd2ecf1de.xml\n",
      "Image:D:\\DrowsinessDetection\\Tensorflow\\workspace\\images\\collectedimages\\labels\\drowsy_original_drowsy.fc970ab3-d8d9-11ec-8404-086ac5628e63.jpg_acb7990d-6c91-4b55-bac6-62bfd2ecf1de.jpg -> Annotation:D:/DrowsinessDetection/Tensorflow/workspace/images/collectedimages/labels\\drowsy_original_drowsy.fc970ab3-d8d9-11ec-8404-086ac5628e63.jpg_acb7990d-6c91-4b55-bac6-62bfd2ecf1de.xml\n",
      "Image:D:\\DrowsinessDetection\\Tensorflow\\workspace\\images\\collectedimages\\labels\\drowsy_original_drowsy.fc970ab3-d8d9-11ec-8404-086ac5628e63.jpg_b6ce039a-830f-41c7-b5f0-f2a592b98aa5.jpg -> Annotation:D:/DrowsinessDetection/Tensorflow/workspace/images/collectedimages/labels\\drowsy_original_drowsy.fc970ab3-d8d9-11ec-8404-086ac5628e63.jpg_b6ce039a-830f-41c7-b5f0-f2a592b98aa5.xml\n",
      "Image:D:\\DrowsinessDetection\\Tensorflow\\workspace\\images\\collectedimages\\labels\\drowsy_original_drowsy.fc970ab3-d8d9-11ec-8404-086ac5628e63.jpg_b9158d0b-7d40-4f02-8969-6f6881e341f4.jpg -> Annotation:D:/DrowsinessDetection/Tensorflow/workspace/images/collectedimages/labels\\drowsy_original_drowsy.fc970ab3-d8d9-11ec-8404-086ac5628e63.jpg_b9158d0b-7d40-4f02-8969-6f6881e341f4.xml\n",
      "Image:D:\\DrowsinessDetection\\Tensorflow\\workspace\\images\\collectedimages\\labels\\drowsy_original_drowsy.fc970ab3-d8d9-11ec-8404-086ac5628e63.jpg_b9158d0b-7d40-4f02-8969-6f6881e341f4.jpg -> Annotation:D:/DrowsinessDetection/Tensorflow/workspace/images/collectedimages/labels\\drowsy_original_drowsy.fc970ab3-d8d9-11ec-8404-086ac5628e63.jpg_b9158d0b-7d40-4f02-8969-6f6881e341f4.xml\n",
      "Image:D:\\DrowsinessDetection\\Tensorflow\\workspace\\images\\collectedimages\\labels\\drowsy_original_drowsy.fc970ab3-d8d9-11ec-8404-086ac5628e63.jpg_bb7bd11e-c6f1-4112-9ef7-8e1186997e33.jpg -> Annotation:D:/DrowsinessDetection/Tensorflow/workspace/images/collectedimages/labels\\drowsy_original_drowsy.fc970ab3-d8d9-11ec-8404-086ac5628e63.jpg_bb7bd11e-c6f1-4112-9ef7-8e1186997e33.xml\n",
      "Image:D:\\DrowsinessDetection\\Tensorflow\\workspace\\images\\collectedimages\\labels\\drowsy_original_drowsy.fc970ab3-d8d9-11ec-8404-086ac5628e63.jpg_bb8f0a16-b089-4f32-b8cb-bc67dc05ade9.jpg -> Annotation:D:/DrowsinessDetection/Tensorflow/workspace/images/collectedimages/labels\\drowsy_original_drowsy.fc970ab3-d8d9-11ec-8404-086ac5628e63.jpg_bb8f0a16-b089-4f32-b8cb-bc67dc05ade9.xml\n",
      "Image:D:\\DrowsinessDetection\\Tensorflow\\workspace\\images\\collectedimages\\labels\\drowsy_original_drowsy.fc970ab3-d8d9-11ec-8404-086ac5628e63.jpg_c0d26663-f36d-4cc0-b100-15361c4f538e.jpg -> Annotation:D:/DrowsinessDetection/Tensorflow/workspace/images/collectedimages/labels\\drowsy_original_drowsy.fc970ab3-d8d9-11ec-8404-086ac5628e63.jpg_c0d26663-f36d-4cc0-b100-15361c4f538e.xml\n",
      "Image:D:\\DrowsinessDetection\\Tensorflow\\workspace\\images\\collectedimages\\labels\\drowsy_original_drowsy.fc970ab3-d8d9-11ec-8404-086ac5628e63.jpg_c2acd2c8-7363-4623-b6cb-f96dbe4b5945.jpg -> Annotation:D:/DrowsinessDetection/Tensorflow/workspace/images/collectedimages/labels\\drowsy_original_drowsy.fc970ab3-d8d9-11ec-8404-086ac5628e63.jpg_c2acd2c8-7363-4623-b6cb-f96dbe4b5945.xml\n",
      "Image:D:\\DrowsinessDetection\\Tensorflow\\workspace\\images\\collectedimages\\labels\\drowsy_original_drowsy.fc970ab3-d8d9-11ec-8404-086ac5628e63.jpg_c7ab2fc5-cbd4-45c1-a19b-3b17bce9c943.jpg -> Annotation:D:/DrowsinessDetection/Tensorflow/workspace/images/collectedimages/labels\\drowsy_original_drowsy.fc970ab3-d8d9-11ec-8404-086ac5628e63.jpg_c7ab2fc5-cbd4-45c1-a19b-3b17bce9c943.xml\n",
      "Image:D:\\DrowsinessDetection\\Tensorflow\\workspace\\images\\collectedimages\\labels\\drowsy_original_drowsy.fc970ab3-d8d9-11ec-8404-086ac5628e63.jpg_c959efde-cc93-490a-80d2-ad6c7e687ff6.jpg -> Annotation:D:/DrowsinessDetection/Tensorflow/workspace/images/collectedimages/labels\\drowsy_original_drowsy.fc970ab3-d8d9-11ec-8404-086ac5628e63.jpg_c959efde-cc93-490a-80d2-ad6c7e687ff6.xml\n",
      "Image:D:\\DrowsinessDetection\\Tensorflow\\workspace\\images\\collectedimages\\labels\\drowsy_original_drowsy.fc970ab3-d8d9-11ec-8404-086ac5628e63.jpg_c3526a5c-1f26-4e3b-8e79-41d90f3b64de.jpg -> Annotation:D:/DrowsinessDetection/Tensorflow/workspace/images/collectedimages/labels\\drowsy_original_drowsy.fc970ab3-d8d9-11ec-8404-086ac5628e63.jpg_c3526a5c-1f26-4e3b-8e79-41d90f3b64de.xml\n",
      "Image:D:\\DrowsinessDetection\\Tensorflow\\workspace\\images\\collectedimages\\labels\\drowsy_original_drowsy.fc970ab3-d8d9-11ec-8404-086ac5628e63.jpg_cb1d3a58-5281-492c-883f-075ac030bfb3.jpg -> Annotation:D:/DrowsinessDetection/Tensorflow/workspace/images/collectedimages/labels\\drowsy_original_drowsy.fc970ab3-d8d9-11ec-8404-086ac5628e63.jpg_cb1d3a58-5281-492c-883f-075ac030bfb3.xml\n",
      "Image:D:\\DrowsinessDetection\\Tensorflow\\workspace\\images\\collectedimages\\labels\\drowsy_original_drowsy.fc970ab3-d8d9-11ec-8404-086ac5628e63.jpg_d6f40eae-e2a3-4785-92b4-41dd210632f1.jpg -> Annotation:D:/DrowsinessDetection/Tensorflow/workspace/images/collectedimages/labels\\drowsy_original_drowsy.fc970ab3-d8d9-11ec-8404-086ac5628e63.jpg_d6f40eae-e2a3-4785-92b4-41dd210632f1.xml\n",
      "Image:D:\\DrowsinessDetection\\Tensorflow\\workspace\\images\\collectedimages\\labels\\drowsy_original_drowsy.fc970ab3-d8d9-11ec-8404-086ac5628e63.jpg_d9d69660-593e-4de3-a6bb-84e63c8a4fbc.jpg -> Annotation:D:/DrowsinessDetection/Tensorflow/workspace/images/collectedimages/labels\\drowsy_original_drowsy.fc970ab3-d8d9-11ec-8404-086ac5628e63.jpg_d9d69660-593e-4de3-a6bb-84e63c8a4fbc.xml\n",
      "Image:D:\\DrowsinessDetection\\Tensorflow\\workspace\\images\\collectedimages\\labels\\drowsy_original_drowsy.fc970ab3-d8d9-11ec-8404-086ac5628e63.jpg_d522e36b-ec9b-4604-9fc3-42242bd4acc3.jpg -> Annotation:D:/DrowsinessDetection/Tensorflow/workspace/images/collectedimages/labels\\drowsy_original_drowsy.fc970ab3-d8d9-11ec-8404-086ac5628e63.jpg_d522e36b-ec9b-4604-9fc3-42242bd4acc3.xml\n",
      "Image:D:\\DrowsinessDetection\\Tensorflow\\workspace\\images\\collectedimages\\labels\\drowsy_original_drowsy.fc970ab3-d8d9-11ec-8404-086ac5628e63.jpg_d522e36b-ec9b-4604-9fc3-42242bd4acc3.jpg -> Annotation:D:/DrowsinessDetection/Tensorflow/workspace/images/collectedimages/labels\\drowsy_original_drowsy.fc970ab3-d8d9-11ec-8404-086ac5628e63.jpg_d522e36b-ec9b-4604-9fc3-42242bd4acc3.xml\n",
      "Image:D:\\DrowsinessDetection\\Tensorflow\\workspace\\images\\collectedimages\\labels\\drowsy_original_drowsy.fc970ab3-d8d9-11ec-8404-086ac5628e63.jpg_d720aaff-ceb6-44c6-b07e-1887b53c9ab7.jpg -> Annotation:D:/DrowsinessDetection/Tensorflow/workspace/images/collectedimages/labels\\drowsy_original_drowsy.fc970ab3-d8d9-11ec-8404-086ac5628e63.jpg_d720aaff-ceb6-44c6-b07e-1887b53c9ab7.xml\n",
      "Image:D:\\DrowsinessDetection\\Tensorflow\\workspace\\images\\collectedimages\\labels\\drowsy_original_drowsy.fc970ab3-d8d9-11ec-8404-086ac5628e63.jpg_d720aaff-ceb6-44c6-b07e-1887b53c9ab7.jpg -> Annotation:D:/DrowsinessDetection/Tensorflow/workspace/images/collectedimages/labels\\drowsy_original_drowsy.fc970ab3-d8d9-11ec-8404-086ac5628e63.jpg_d720aaff-ceb6-44c6-b07e-1887b53c9ab7.xml\n",
      "Image:D:\\DrowsinessDetection\\Tensorflow\\workspace\\images\\collectedimages\\labels\\drowsy_original_drowsy.fc970ab3-d8d9-11ec-8404-086ac5628e63.jpg_d910ede1-1ab2-4acf-83f4-8640409d0b11.jpg -> Annotation:D:/DrowsinessDetection/Tensorflow/workspace/images/collectedimages/labels\\drowsy_original_drowsy.fc970ab3-d8d9-11ec-8404-086ac5628e63.jpg_d910ede1-1ab2-4acf-83f4-8640409d0b11.xml\n",
      "Image:D:\\DrowsinessDetection\\Tensorflow\\workspace\\images\\collectedimages\\labels\\drowsy_original_drowsy.fc970ab3-d8d9-11ec-8404-086ac5628e63.jpg_da48ab3e-92c8-4d6a-9b77-a3b128d2d652.jpg -> Annotation:D:/DrowsinessDetection/Tensorflow/workspace/images/collectedimages/labels\\drowsy_original_drowsy.fc970ab3-d8d9-11ec-8404-086ac5628e63.jpg_da48ab3e-92c8-4d6a-9b77-a3b128d2d652.xml\n",
      "Image:D:\\DrowsinessDetection\\Tensorflow\\workspace\\images\\collectedimages\\labels\\drowsy_original_drowsy.fc970ab3-d8d9-11ec-8404-086ac5628e63.jpg_e00e9b18-6b15-4e57-b9b1-4986b72bbb70.jpg -> Annotation:D:/DrowsinessDetection/Tensorflow/workspace/images/collectedimages/labels\\drowsy_original_drowsy.fc970ab3-d8d9-11ec-8404-086ac5628e63.jpg_e00e9b18-6b15-4e57-b9b1-4986b72bbb70.xml\n",
      "Image:D:\\DrowsinessDetection\\Tensorflow\\workspace\\images\\collectedimages\\labels\\drowsy_original_drowsy.fc970ab3-d8d9-11ec-8404-086ac5628e63.jpg_e026f987-ebde-4414-a6fa-d1adabb1ece1.jpg -> Annotation:D:/DrowsinessDetection/Tensorflow/workspace/images/collectedimages/labels\\drowsy_original_drowsy.fc970ab3-d8d9-11ec-8404-086ac5628e63.jpg_e026f987-ebde-4414-a6fa-d1adabb1ece1.xml\n",
      "Image:D:\\DrowsinessDetection\\Tensorflow\\workspace\\images\\collectedimages\\labels\\drowsy_original_drowsy.fc970ab3-d8d9-11ec-8404-086ac5628e63.jpg_e026f987-ebde-4414-a6fa-d1adabb1ece1.jpg -> Annotation:D:/DrowsinessDetection/Tensorflow/workspace/images/collectedimages/labels\\drowsy_original_drowsy.fc970ab3-d8d9-11ec-8404-086ac5628e63.jpg_e026f987-ebde-4414-a6fa-d1adabb1ece1.xml\n",
      "Image:D:\\DrowsinessDetection\\Tensorflow\\workspace\\images\\collectedimages\\labels\\drowsy_original_drowsy.fc970ab3-d8d9-11ec-8404-086ac5628e63.jpg_eb685f58-7d5d-41a8-a014-45f4f7d24fbf.jpg -> Annotation:D:/DrowsinessDetection/Tensorflow/workspace/images/collectedimages/labels\\drowsy_original_drowsy.fc970ab3-d8d9-11ec-8404-086ac5628e63.jpg_eb685f58-7d5d-41a8-a014-45f4f7d24fbf.xml\n",
      "Image:D:\\DrowsinessDetection\\Tensorflow\\workspace\\images\\collectedimages\\labels\\drowsy_original_drowsy.fc970ab3-d8d9-11ec-8404-086ac5628e63.jpg_f4eb9e7a-12cf-44d2-a5e3-60cd993d07dd.jpg -> Annotation:D:/DrowsinessDetection/Tensorflow/workspace/images/collectedimages/labels\\drowsy_original_drowsy.fc970ab3-d8d9-11ec-8404-086ac5628e63.jpg_f4eb9e7a-12cf-44d2-a5e3-60cd993d07dd.xml\n",
      "Image:D:\\DrowsinessDetection\\Tensorflow\\workspace\\images\\collectedimages\\labels\\drowsy_original_drowsy.fc970ab3-d8d9-11ec-8404-086ac5628e63.jpg_f39c2fd8-7b1d-4f6c-9f79-3f2cdc7f97ba.jpg -> Annotation:D:/DrowsinessDetection/Tensorflow/workspace/images/collectedimages/labels\\drowsy_original_drowsy.fc970ab3-d8d9-11ec-8404-086ac5628e63.jpg_f39c2fd8-7b1d-4f6c-9f79-3f2cdc7f97ba.xml\n",
      "Image:D:\\DrowsinessDetection\\Tensorflow\\workspace\\images\\collectedimages\\labels\\drowsy_original_drowsy.fc970ab3-d8d9-11ec-8404-086ac5628e63.jpg_f39c2fd8-7b1d-4f6c-9f79-3f2cdc7f97ba.jpg -> Annotation:D:/DrowsinessDetection/Tensorflow/workspace/images/collectedimages/labels\\drowsy_original_drowsy.fc970ab3-d8d9-11ec-8404-086ac5628e63.jpg_f39c2fd8-7b1d-4f6c-9f79-3f2cdc7f97ba.xml\n",
      "Image:D:\\DrowsinessDetection\\Tensorflow\\workspace\\images\\collectedimages\\labels\\drowsy_original_drowsy.fc970ab3-d8d9-11ec-8404-086ac5628e63.jpg_f075b095-2e54-46e4-9df4-1dc27050657b.jpg -> Annotation:D:/DrowsinessDetection/Tensorflow/workspace/images/collectedimages/labels\\drowsy_original_drowsy.fc970ab3-d8d9-11ec-8404-086ac5628e63.jpg_f075b095-2e54-46e4-9df4-1dc27050657b.xml\n",
      "Image:D:\\DrowsinessDetection\\Tensorflow\\workspace\\images\\collectedimages\\labels\\drowsy_original_drowsy.fc970ab3-d8d9-11ec-8404-086ac5628e63.jpg_f075b095-2e54-46e4-9df4-1dc27050657b.jpg -> Annotation:D:/DrowsinessDetection/Tensorflow/workspace/images/collectedimages/labels\\drowsy_original_drowsy.fc970ab3-d8d9-11ec-8404-086ac5628e63.jpg_f075b095-2e54-46e4-9df4-1dc27050657b.xml\n",
      "Image:D:\\DrowsinessDetection\\Tensorflow\\workspace\\images\\collectedimages\\labels\\drowsy_original_drowsy.fc970ab3-d8d9-11ec-8404-086ac5628e63.jpg_f6972121-564e-4f68-a0f9-c20bc2a4a017.jpg -> Annotation:D:/DrowsinessDetection/Tensorflow/workspace/images/collectedimages/labels\\drowsy_original_drowsy.fc970ab3-d8d9-11ec-8404-086ac5628e63.jpg_f6972121-564e-4f68-a0f9-c20bc2a4a017.xml\n",
      "Image:D:\\DrowsinessDetection\\Tensorflow\\workspace\\images\\collectedimages\\labels\\drowsy_original_drowsy.fc970ab3-d8d9-11ec-8404-086ac5628e63.jpg_f6972121-564e-4f68-a0f9-c20bc2a4a017.jpg -> Annotation:D:/DrowsinessDetection/Tensorflow/workspace/images/collectedimages/labels\\drowsy_original_drowsy.fc970ab3-d8d9-11ec-8404-086ac5628e63.jpg_f6972121-564e-4f68-a0f9-c20bc2a4a017.xml\n",
      "Image:D:\\DrowsinessDetection\\Tensorflow\\workspace\\images\\collectedimages\\labels\\drowsy_original_drowsy.fc970ab3-d8d9-11ec-8404-086ac5628e63.jpg_fa569a62-7b22-4c36-b71c-5871fcf17f71.jpg -> Annotation:D:/DrowsinessDetection/Tensorflow/workspace/images/collectedimages/labels\\drowsy_original_drowsy.fc970ab3-d8d9-11ec-8404-086ac5628e63.jpg_fa569a62-7b22-4c36-b71c-5871fcf17f71.xml\n",
      "Image:D:\\DrowsinessDetection\\Tensorflow\\workspace\\images\\collectedimages\\labels\\drowsy_original_drowsy.fc970ab3-d8d9-11ec-8404-086ac5628e63.jpg_fa569a62-7b22-4c36-b71c-5871fcf17f71.jpg -> Annotation:D:/DrowsinessDetection/Tensorflow/workspace/images/collectedimages/labels\\drowsy_original_drowsy.fc970ab3-d8d9-11ec-8404-086ac5628e63.jpg_fa569a62-7b22-4c36-b71c-5871fcf17f71.xml\n",
      "Image:D:\\DrowsinessDetection\\Tensorflow\\workspace\\images\\collectedimages\\labels\\drowsy_original_drowsy.fc970ab3-d8d9-11ec-8404-086ac5628e63.jpg_fa6366e6-90e7-40fd-b00b-5d2bcd915400.jpg -> Annotation:D:/DrowsinessDetection/Tensorflow/workspace/images/collectedimages/labels\\drowsy_original_drowsy.fc970ab3-d8d9-11ec-8404-086ac5628e63.jpg_fa6366e6-90e7-40fd-b00b-5d2bcd915400.xml\n",
      "Image:D:\\DrowsinessDetection\\Tensorflow\\workspace\\images\\collectedimages\\labels\\drowsy_original_drowsy.fc970ab3-d8d9-11ec-8404-086ac5628e63.jpg_fa6366e6-90e7-40fd-b00b-5d2bcd915400.jpg -> Annotation:D:/DrowsinessDetection/Tensorflow/workspace/images/collectedimages/labels\\drowsy_original_drowsy.fc970ab3-d8d9-11ec-8404-086ac5628e63.jpg_fa6366e6-90e7-40fd-b00b-5d2bcd915400.xml\n",
      "Image:D:\\DrowsinessDetection\\Tensorflow\\workspace\\images\\collectedimages\\labels\\drowsy_original_drowsy.fdce00d2-d8d9-11ec-a53e-086ac5628e63.jpg_0edad796-8078-4ce7-bb1a-3112dda9af04.jpg -> Annotation:D:/DrowsinessDetection/Tensorflow/workspace/images/collectedimages/labels\\drowsy_original_drowsy.fdce00d2-d8d9-11ec-a53e-086ac5628e63.jpg_0edad796-8078-4ce7-bb1a-3112dda9af04.xml\n",
      "Image:D:\\DrowsinessDetection\\Tensorflow\\workspace\\images\\collectedimages\\labels\\drowsy_original_drowsy.fdce00d2-d8d9-11ec-a53e-086ac5628e63.jpg_0edad796-8078-4ce7-bb1a-3112dda9af04.jpg -> Annotation:D:/DrowsinessDetection/Tensorflow/workspace/images/collectedimages/labels\\drowsy_original_drowsy.fdce00d2-d8d9-11ec-a53e-086ac5628e63.jpg_0edad796-8078-4ce7-bb1a-3112dda9af04.xml\n",
      "Image:D:\\DrowsinessDetection\\Tensorflow\\workspace\\images\\collectedimages\\labels\\drowsy_original_drowsy.fdce00d2-d8d9-11ec-a53e-086ac5628e63.jpg_0edd454d-4146-46da-939d-ca9dddec839d.jpg -> Annotation:D:/DrowsinessDetection/Tensorflow/workspace/images/collectedimages/labels\\drowsy_original_drowsy.fdce00d2-d8d9-11ec-a53e-086ac5628e63.jpg_0edd454d-4146-46da-939d-ca9dddec839d.xml\n",
      "Image:D:\\DrowsinessDetection\\Tensorflow\\workspace\\images\\collectedimages\\labels\\drowsy_original_drowsy.fdce00d2-d8d9-11ec-a53e-086ac5628e63.jpg_0edd454d-4146-46da-939d-ca9dddec839d.jpg -> Annotation:D:/DrowsinessDetection/Tensorflow/workspace/images/collectedimages/labels\\drowsy_original_drowsy.fdce00d2-d8d9-11ec-a53e-086ac5628e63.jpg_0edd454d-4146-46da-939d-ca9dddec839d.xml\n",
      "Image:D:\\DrowsinessDetection\\Tensorflow\\workspace\\images\\collectedimages\\labels\\drowsy_original_drowsy.fdce00d2-d8d9-11ec-a53e-086ac5628e63.jpg_0edad796-8078-4ce7-bb1a-3112dda9af04.jpg -> Annotation:D:/DrowsinessDetection/Tensorflow/workspace/images/collectedimages/labels\\drowsy_original_drowsy.fdce00d2-d8d9-11ec-a53e-086ac5628e63.jpg_0edad796-8078-4ce7-bb1a-3112dda9af04.xml\n",
      "Image:D:\\DrowsinessDetection\\Tensorflow\\workspace\\images\\collectedimages\\labels\\drowsy_original_drowsy.fdce00d2-d8d9-11ec-a53e-086ac5628e63.jpg_1c7821dd-9ff0-45a9-ac99-c81d9d92bbc4.jpg -> Annotation:D:/DrowsinessDetection/Tensorflow/workspace/images/collectedimages/labels\\drowsy_original_drowsy.fdce00d2-d8d9-11ec-a53e-086ac5628e63.jpg_1c7821dd-9ff0-45a9-ac99-c81d9d92bbc4.xml\n",
      "Image:D:\\DrowsinessDetection\\Tensorflow\\workspace\\images\\collectedimages\\labels\\drowsy_original_drowsy.fdce00d2-d8d9-11ec-a53e-086ac5628e63.jpg_2ba6faf7-a244-4aab-9d7c-fec08d2133a8.jpg -> Annotation:D:/DrowsinessDetection/Tensorflow/workspace/images/collectedimages/labels\\drowsy_original_drowsy.fdce00d2-d8d9-11ec-a53e-086ac5628e63.jpg_2ba6faf7-a244-4aab-9d7c-fec08d2133a8.xml\n",
      "Image:D:\\DrowsinessDetection\\Tensorflow\\workspace\\images\\collectedimages\\labels\\drowsy_original_drowsy.fdce00d2-d8d9-11ec-a53e-086ac5628e63.jpg_2e5e6031-8f5c-4c39-b660-80718e3bf1e3.jpg -> Annotation:D:/DrowsinessDetection/Tensorflow/workspace/images/collectedimages/labels\\drowsy_original_drowsy.fdce00d2-d8d9-11ec-a53e-086ac5628e63.jpg_2e5e6031-8f5c-4c39-b660-80718e3bf1e3.xml\n",
      "Image:D:\\DrowsinessDetection\\Tensorflow\\workspace\\images\\collectedimages\\labels\\drowsy_original_drowsy.fdce00d2-d8d9-11ec-a53e-086ac5628e63.jpg_2e5e6031-8f5c-4c39-b660-80718e3bf1e3.jpg -> Annotation:D:/DrowsinessDetection/Tensorflow/workspace/images/collectedimages/labels\\drowsy_original_drowsy.fdce00d2-d8d9-11ec-a53e-086ac5628e63.jpg_2e5e6031-8f5c-4c39-b660-80718e3bf1e3.xml\n",
      "Image:D:\\DrowsinessDetection\\Tensorflow\\workspace\\images\\collectedimages\\labels\\drowsy_original_drowsy.fdce00d2-d8d9-11ec-a53e-086ac5628e63.jpg_03a17856-3cf6-4a65-9ce8-85bb2af64706.jpg -> Annotation:D:/DrowsinessDetection/Tensorflow/workspace/images/collectedimages/labels\\drowsy_original_drowsy.fdce00d2-d8d9-11ec-a53e-086ac5628e63.jpg_03a17856-3cf6-4a65-9ce8-85bb2af64706.xml\n",
      "Image:D:\\DrowsinessDetection\\Tensorflow\\workspace\\images\\collectedimages\\labels\\drowsy_original_drowsy.fdce00d2-d8d9-11ec-a53e-086ac5628e63.jpg_3d0b2e71-df89-4aad-8a69-6c8093bf85a3.jpg -> Annotation:D:/DrowsinessDetection/Tensorflow/workspace/images/collectedimages/labels\\drowsy_original_drowsy.fdce00d2-d8d9-11ec-a53e-086ac5628e63.jpg_3d0b2e71-df89-4aad-8a69-6c8093bf85a3.xml\n",
      "Image:D:\\DrowsinessDetection\\Tensorflow\\workspace\\images\\collectedimages\\labels\\drowsy_original_drowsy.fdce00d2-d8d9-11ec-a53e-086ac5628e63.jpg_3faaba92-a043-46a6-bc69-17750552e525.jpg -> Annotation:D:/DrowsinessDetection/Tensorflow/workspace/images/collectedimages/labels\\drowsy_original_drowsy.fdce00d2-d8d9-11ec-a53e-086ac5628e63.jpg_3faaba92-a043-46a6-bc69-17750552e525.xml\n",
      "Image:D:\\DrowsinessDetection\\Tensorflow\\workspace\\images\\collectedimages\\labels\\drowsy_original_drowsy.fdce00d2-d8d9-11ec-a53e-086ac5628e63.jpg_4d7cd188-f499-49ec-baa5-75072c28b01a.jpg -> Annotation:D:/DrowsinessDetection/Tensorflow/workspace/images/collectedimages/labels\\drowsy_original_drowsy.fdce00d2-d8d9-11ec-a53e-086ac5628e63.jpg_4d7cd188-f499-49ec-baa5-75072c28b01a.xml\n",
      "Image:D:\\DrowsinessDetection\\Tensorflow\\workspace\\images\\collectedimages\\labels\\drowsy_original_drowsy.fdce00d2-d8d9-11ec-a53e-086ac5628e63.jpg_5d96ea84-027b-46ee-b4af-bc2c56645483.jpg -> Annotation:D:/DrowsinessDetection/Tensorflow/workspace/images/collectedimages/labels\\drowsy_original_drowsy.fdce00d2-d8d9-11ec-a53e-086ac5628e63.jpg_5d96ea84-027b-46ee-b4af-bc2c56645483.xml\n",
      "Image:D:\\DrowsinessDetection\\Tensorflow\\workspace\\images\\collectedimages\\labels\\drowsy_original_drowsy.fdce00d2-d8d9-11ec-a53e-086ac5628e63.jpg_5dc97514-febc-4e88-b561-b3648046df0d.jpg -> Annotation:D:/DrowsinessDetection/Tensorflow/workspace/images/collectedimages/labels\\drowsy_original_drowsy.fdce00d2-d8d9-11ec-a53e-086ac5628e63.jpg_5dc97514-febc-4e88-b561-b3648046df0d.xml\n",
      "Image:D:\\DrowsinessDetection\\Tensorflow\\workspace\\images\\collectedimages\\labels\\drowsy_original_drowsy.fdce00d2-d8d9-11ec-a53e-086ac5628e63.jpg_5dc97514-febc-4e88-b561-b3648046df0d.jpg -> Annotation:D:/DrowsinessDetection/Tensorflow/workspace/images/collectedimages/labels\\drowsy_original_drowsy.fdce00d2-d8d9-11ec-a53e-086ac5628e63.jpg_5dc97514-febc-4e88-b561-b3648046df0d.xml\n",
      "Image:D:\\DrowsinessDetection\\Tensorflow\\workspace\\images\\collectedimages\\labels\\drowsy_original_drowsy.fdce00d2-d8d9-11ec-a53e-086ac5628e63.jpg_5e189f34-73f9-4fa2-b811-c7a79ef0783a.jpg -> Annotation:D:/DrowsinessDetection/Tensorflow/workspace/images/collectedimages/labels\\drowsy_original_drowsy.fdce00d2-d8d9-11ec-a53e-086ac5628e63.jpg_5e189f34-73f9-4fa2-b811-c7a79ef0783a.xml\n",
      "Image:D:\\DrowsinessDetection\\Tensorflow\\workspace\\images\\collectedimages\\labels\\drowsy_original_drowsy.fdce00d2-d8d9-11ec-a53e-086ac5628e63.jpg_5e189f34-73f9-4fa2-b811-c7a79ef0783a.jpg -> Annotation:D:/DrowsinessDetection/Tensorflow/workspace/images/collectedimages/labels\\drowsy_original_drowsy.fdce00d2-d8d9-11ec-a53e-086ac5628e63.jpg_5e189f34-73f9-4fa2-b811-c7a79ef0783a.xml\n",
      "Image:D:\\DrowsinessDetection\\Tensorflow\\workspace\\images\\collectedimages\\labels\\drowsy_original_drowsy.fdce00d2-d8d9-11ec-a53e-086ac5628e63.jpg_6a332c7b-bc5f-4ea7-986d-ba0fe028d650.jpg -> Annotation:D:/DrowsinessDetection/Tensorflow/workspace/images/collectedimages/labels\\drowsy_original_drowsy.fdce00d2-d8d9-11ec-a53e-086ac5628e63.jpg_6a332c7b-bc5f-4ea7-986d-ba0fe028d650.xml\n",
      "Image:D:\\DrowsinessDetection\\Tensorflow\\workspace\\images\\collectedimages\\labels\\drowsy_original_drowsy.fdce00d2-d8d9-11ec-a53e-086ac5628e63.jpg_6a332c7b-bc5f-4ea7-986d-ba0fe028d650.jpg -> Annotation:D:/DrowsinessDetection/Tensorflow/workspace/images/collectedimages/labels\\drowsy_original_drowsy.fdce00d2-d8d9-11ec-a53e-086ac5628e63.jpg_6a332c7b-bc5f-4ea7-986d-ba0fe028d650.xml\n",
      "Image:D:\\DrowsinessDetection\\Tensorflow\\workspace\\images\\collectedimages\\labels\\drowsy_original_drowsy.fdce00d2-d8d9-11ec-a53e-086ac5628e63.jpg_8f326f3b-de66-49b3-bb4c-647c3b452750.jpg -> Annotation:D:/DrowsinessDetection/Tensorflow/workspace/images/collectedimages/labels\\drowsy_original_drowsy.fdce00d2-d8d9-11ec-a53e-086ac5628e63.jpg_8f326f3b-de66-49b3-bb4c-647c3b452750.xml\n",
      "Image:D:\\DrowsinessDetection\\Tensorflow\\workspace\\images\\collectedimages\\labels\\drowsy_original_drowsy.fdce00d2-d8d9-11ec-a53e-086ac5628e63.jpg_8f326f3b-de66-49b3-bb4c-647c3b452750.jpg -> Annotation:D:/DrowsinessDetection/Tensorflow/workspace/images/collectedimages/labels\\drowsy_original_drowsy.fdce00d2-d8d9-11ec-a53e-086ac5628e63.jpg_8f326f3b-de66-49b3-bb4c-647c3b452750.xml\n",
      "Image:D:\\DrowsinessDetection\\Tensorflow\\workspace\\images\\collectedimages\\labels\\drowsy_original_drowsy.fdce00d2-d8d9-11ec-a53e-086ac5628e63.jpg_14ef8711-599e-4ca1-9bc1-c2062260b063.jpg -> Annotation:D:/DrowsinessDetection/Tensorflow/workspace/images/collectedimages/labels\\drowsy_original_drowsy.fdce00d2-d8d9-11ec-a53e-086ac5628e63.jpg_14ef8711-599e-4ca1-9bc1-c2062260b063.xml\n",
      "Image:D:\\DrowsinessDetection\\Tensorflow\\workspace\\images\\collectedimages\\labels\\drowsy_original_drowsy.fdce00d2-d8d9-11ec-a53e-086ac5628e63.jpg_15e20585-31f5-44ad-a915-a11dac4465e0.jpg -> Annotation:D:/DrowsinessDetection/Tensorflow/workspace/images/collectedimages/labels\\drowsy_original_drowsy.fdce00d2-d8d9-11ec-a53e-086ac5628e63.jpg_15e20585-31f5-44ad-a915-a11dac4465e0.xml\n",
      "Image:D:\\DrowsinessDetection\\Tensorflow\\workspace\\images\\collectedimages\\labels\\drowsy_original_drowsy.fdce00d2-d8d9-11ec-a53e-086ac5628e63.jpg_26b5c899-f2f7-46c2-8133-91e332067cd1.jpg -> Annotation:D:/DrowsinessDetection/Tensorflow/workspace/images/collectedimages/labels\\drowsy_original_drowsy.fdce00d2-d8d9-11ec-a53e-086ac5628e63.jpg_26b5c899-f2f7-46c2-8133-91e332067cd1.xml\n",
      "Image:D:\\DrowsinessDetection\\Tensorflow\\workspace\\images\\collectedimages\\labels\\drowsy_original_drowsy.fdce00d2-d8d9-11ec-a53e-086ac5628e63.jpg_27bc6ad8-70f0-42bc-b4ec-fe892b12a578.jpg -> Annotation:D:/DrowsinessDetection/Tensorflow/workspace/images/collectedimages/labels\\drowsy_original_drowsy.fdce00d2-d8d9-11ec-a53e-086ac5628e63.jpg_27bc6ad8-70f0-42bc-b4ec-fe892b12a578.xml\n",
      "Image:D:\\DrowsinessDetection\\Tensorflow\\workspace\\images\\collectedimages\\labels\\drowsy_original_drowsy.fdce00d2-d8d9-11ec-a53e-086ac5628e63.jpg_36a909b9-355f-42cd-8980-d91c1d93ead2.jpg -> Annotation:D:/DrowsinessDetection/Tensorflow/workspace/images/collectedimages/labels\\drowsy_original_drowsy.fdce00d2-d8d9-11ec-a53e-086ac5628e63.jpg_36a909b9-355f-42cd-8980-d91c1d93ead2.xml\n",
      "Image:D:\\DrowsinessDetection\\Tensorflow\\workspace\\images\\collectedimages\\labels\\drowsy_original_drowsy.fdce00d2-d8d9-11ec-a53e-086ac5628e63.jpg_36a909b9-355f-42cd-8980-d91c1d93ead2.jpg -> Annotation:D:/DrowsinessDetection/Tensorflow/workspace/images/collectedimages/labels\\drowsy_original_drowsy.fdce00d2-d8d9-11ec-a53e-086ac5628e63.jpg_36a909b9-355f-42cd-8980-d91c1d93ead2.xml\n",
      "Image:D:\\DrowsinessDetection\\Tensorflow\\workspace\\images\\collectedimages\\labels\\drowsy_original_drowsy.fdce00d2-d8d9-11ec-a53e-086ac5628e63.jpg_42dc1062-e8dd-43a4-8ea1-a0a3c0efc75c.jpg -> Annotation:D:/DrowsinessDetection/Tensorflow/workspace/images/collectedimages/labels\\drowsy_original_drowsy.fdce00d2-d8d9-11ec-a53e-086ac5628e63.jpg_42dc1062-e8dd-43a4-8ea1-a0a3c0efc75c.xml\n",
      "Image:D:\\DrowsinessDetection\\Tensorflow\\workspace\\images\\collectedimages\\labels\\drowsy_original_drowsy.fdce00d2-d8d9-11ec-a53e-086ac5628e63.jpg_42dc1062-e8dd-43a4-8ea1-a0a3c0efc75c.jpg -> Annotation:D:/DrowsinessDetection/Tensorflow/workspace/images/collectedimages/labels\\drowsy_original_drowsy.fdce00d2-d8d9-11ec-a53e-086ac5628e63.jpg_42dc1062-e8dd-43a4-8ea1-a0a3c0efc75c.xml\n",
      "Image:D:\\DrowsinessDetection\\Tensorflow\\workspace\\images\\collectedimages\\labels\\drowsy_original_drowsy.fdce00d2-d8d9-11ec-a53e-086ac5628e63.jpg_69b15845-d5e5-4aae-acb5-ccd07905142b.jpg -> Annotation:D:/DrowsinessDetection/Tensorflow/workspace/images/collectedimages/labels\\drowsy_original_drowsy.fdce00d2-d8d9-11ec-a53e-086ac5628e63.jpg_69b15845-d5e5-4aae-acb5-ccd07905142b.xml\n",
      "Image:D:\\DrowsinessDetection\\Tensorflow\\workspace\\images\\collectedimages\\labels\\drowsy_original_drowsy.fdce00d2-d8d9-11ec-a53e-086ac5628e63.jpg_72f31a0f-d6e5-4694-825d-b655f51d6478.jpg -> Annotation:D:/DrowsinessDetection/Tensorflow/workspace/images/collectedimages/labels\\drowsy_original_drowsy.fdce00d2-d8d9-11ec-a53e-086ac5628e63.jpg_72f31a0f-d6e5-4694-825d-b655f51d6478.xml\n",
      "Image:D:\\DrowsinessDetection\\Tensorflow\\workspace\\images\\collectedimages\\labels\\drowsy_original_drowsy.fdce00d2-d8d9-11ec-a53e-086ac5628e63.jpg_440cd164-8052-491f-87a1-b575b900f879.jpg -> Annotation:D:/DrowsinessDetection/Tensorflow/workspace/images/collectedimages/labels\\drowsy_original_drowsy.fdce00d2-d8d9-11ec-a53e-086ac5628e63.jpg_440cd164-8052-491f-87a1-b575b900f879.xml\n",
      "Image:D:\\DrowsinessDetection\\Tensorflow\\workspace\\images\\collectedimages\\labels\\drowsy_original_drowsy.fdce00d2-d8d9-11ec-a53e-086ac5628e63.jpg_440cd164-8052-491f-87a1-b575b900f879.jpg -> Annotation:D:/DrowsinessDetection/Tensorflow/workspace/images/collectedimages/labels\\drowsy_original_drowsy.fdce00d2-d8d9-11ec-a53e-086ac5628e63.jpg_440cd164-8052-491f-87a1-b575b900f879.xml\n",
      "Image:D:\\DrowsinessDetection\\Tensorflow\\workspace\\images\\collectedimages\\labels\\drowsy_original_drowsy.fdce00d2-d8d9-11ec-a53e-086ac5628e63.jpg_666cfc17-8502-4b9a-a768-c0332adcae50.jpg -> Annotation:D:/DrowsinessDetection/Tensorflow/workspace/images/collectedimages/labels\\drowsy_original_drowsy.fdce00d2-d8d9-11ec-a53e-086ac5628e63.jpg_666cfc17-8502-4b9a-a768-c0332adcae50.xml\n",
      "Image:D:\\DrowsinessDetection\\Tensorflow\\workspace\\images\\collectedimages\\labels\\drowsy_original_drowsy.fdce00d2-d8d9-11ec-a53e-086ac5628e63.jpg_683e507f-b738-4a99-bf5e-e0d5963dcb32.jpg -> Annotation:D:/DrowsinessDetection/Tensorflow/workspace/images/collectedimages/labels\\drowsy_original_drowsy.fdce00d2-d8d9-11ec-a53e-086ac5628e63.jpg_683e507f-b738-4a99-bf5e-e0d5963dcb32.xml\n",
      "Image:D:\\DrowsinessDetection\\Tensorflow\\workspace\\images\\collectedimages\\labels\\drowsy_original_drowsy.fdce00d2-d8d9-11ec-a53e-086ac5628e63.jpg_683e507f-b738-4a99-bf5e-e0d5963dcb32.jpg -> Annotation:D:/DrowsinessDetection/Tensorflow/workspace/images/collectedimages/labels\\drowsy_original_drowsy.fdce00d2-d8d9-11ec-a53e-086ac5628e63.jpg_683e507f-b738-4a99-bf5e-e0d5963dcb32.xml\n",
      "Image:D:\\DrowsinessDetection\\Tensorflow\\workspace\\images\\collectedimages\\labels\\drowsy_original_drowsy.fdce00d2-d8d9-11ec-a53e-086ac5628e63.jpg_0696e755-cd7d-48d3-8050-4ca6652a6425.jpg -> Annotation:D:/DrowsinessDetection/Tensorflow/workspace/images/collectedimages/labels\\drowsy_original_drowsy.fdce00d2-d8d9-11ec-a53e-086ac5628e63.jpg_0696e755-cd7d-48d3-8050-4ca6652a6425.xml\n",
      "Image:D:\\DrowsinessDetection\\Tensorflow\\workspace\\images\\collectedimages\\labels\\drowsy_original_drowsy.fdce00d2-d8d9-11ec-a53e-086ac5628e63.jpg_736d3731-a0fd-421b-9bbb-e8ad3134aceb.jpg -> Annotation:D:/DrowsinessDetection/Tensorflow/workspace/images/collectedimages/labels\\drowsy_original_drowsy.fdce00d2-d8d9-11ec-a53e-086ac5628e63.jpg_736d3731-a0fd-421b-9bbb-e8ad3134aceb.xml\n",
      "Image:D:\\DrowsinessDetection\\Tensorflow\\workspace\\images\\collectedimages\\labels\\drowsy_original_drowsy.fdce00d2-d8d9-11ec-a53e-086ac5628e63.jpg_736d3731-a0fd-421b-9bbb-e8ad3134aceb.jpg -> Annotation:D:/DrowsinessDetection/Tensorflow/workspace/images/collectedimages/labels\\drowsy_original_drowsy.fdce00d2-d8d9-11ec-a53e-086ac5628e63.jpg_736d3731-a0fd-421b-9bbb-e8ad3134aceb.xml\n",
      "Image:D:\\DrowsinessDetection\\Tensorflow\\workspace\\images\\collectedimages\\labels\\drowsy_original_drowsy.fdce00d2-d8d9-11ec-a53e-086ac5628e63.jpg_924e19df-b81f-4edc-8c2a-9fca69fcea65.jpg -> Annotation:D:/DrowsinessDetection/Tensorflow/workspace/images/collectedimages/labels\\drowsy_original_drowsy.fdce00d2-d8d9-11ec-a53e-086ac5628e63.jpg_924e19df-b81f-4edc-8c2a-9fca69fcea65.xml\n",
      "Image:D:\\DrowsinessDetection\\Tensorflow\\workspace\\images\\collectedimages\\labels\\drowsy_original_drowsy.fdce00d2-d8d9-11ec-a53e-086ac5628e63.jpg_1025ed0d-5ac2-490a-a97a-22394b30cf7b.jpg -> Annotation:D:/DrowsinessDetection/Tensorflow/workspace/images/collectedimages/labels\\drowsy_original_drowsy.fdce00d2-d8d9-11ec-a53e-086ac5628e63.jpg_1025ed0d-5ac2-490a-a97a-22394b30cf7b.xml\n",
      "Image:D:\\DrowsinessDetection\\Tensorflow\\workspace\\images\\collectedimages\\labels\\drowsy_original_drowsy.fdce00d2-d8d9-11ec-a53e-086ac5628e63.jpg_2667d0a4-9621-498f-82a3-ab3c790f2fc6.jpg -> Annotation:D:/DrowsinessDetection/Tensorflow/workspace/images/collectedimages/labels\\drowsy_original_drowsy.fdce00d2-d8d9-11ec-a53e-086ac5628e63.jpg_2667d0a4-9621-498f-82a3-ab3c790f2fc6.xml\n",
      "Image:D:\\DrowsinessDetection\\Tensorflow\\workspace\\images\\collectedimages\\labels\\drowsy_original_drowsy.fdce00d2-d8d9-11ec-a53e-086ac5628e63.jpg_2667d0a4-9621-498f-82a3-ab3c790f2fc6.jpg -> Annotation:D:/DrowsinessDetection/Tensorflow/workspace/images/collectedimages/labels\\drowsy_original_drowsy.fdce00d2-d8d9-11ec-a53e-086ac5628e63.jpg_2667d0a4-9621-498f-82a3-ab3c790f2fc6.xml\n",
      "Image:D:\\DrowsinessDetection\\Tensorflow\\workspace\\images\\collectedimages\\labels\\drowsy_original_drowsy.fdce00d2-d8d9-11ec-a53e-086ac5628e63.jpg_5457d399-b3e3-4932-b3f4-c7521c64e21e.jpg -> Annotation:D:/DrowsinessDetection/Tensorflow/workspace/images/collectedimages/labels\\drowsy_original_drowsy.fdce00d2-d8d9-11ec-a53e-086ac5628e63.jpg_5457d399-b3e3-4932-b3f4-c7521c64e21e.xml\n",
      "Image:D:\\DrowsinessDetection\\Tensorflow\\workspace\\images\\collectedimages\\labels\\drowsy_original_drowsy.fdce00d2-d8d9-11ec-a53e-086ac5628e63.jpg_5457d399-b3e3-4932-b3f4-c7521c64e21e.jpg -> Annotation:D:/DrowsinessDetection/Tensorflow/workspace/images/collectedimages/labels\\drowsy_original_drowsy.fdce00d2-d8d9-11ec-a53e-086ac5628e63.jpg_5457d399-b3e3-4932-b3f4-c7521c64e21e.xml\n",
      "Image:D:\\DrowsinessDetection\\Tensorflow\\workspace\\images\\collectedimages\\labels\\drowsy_original_drowsy.fdce00d2-d8d9-11ec-a53e-086ac5628e63.jpg_7082aee5-4fd1-4bc8-a7de-b22865ad3a6d.jpg -> Annotation:D:/DrowsinessDetection/Tensorflow/workspace/images/collectedimages/labels\\drowsy_original_drowsy.fdce00d2-d8d9-11ec-a53e-086ac5628e63.jpg_7082aee5-4fd1-4bc8-a7de-b22865ad3a6d.xml\n",
      "Image:D:\\DrowsinessDetection\\Tensorflow\\workspace\\images\\collectedimages\\labels\\drowsy_original_drowsy.fdce00d2-d8d9-11ec-a53e-086ac5628e63.jpg_7082aee5-4fd1-4bc8-a7de-b22865ad3a6d.jpg -> Annotation:D:/DrowsinessDetection/Tensorflow/workspace/images/collectedimages/labels\\drowsy_original_drowsy.fdce00d2-d8d9-11ec-a53e-086ac5628e63.jpg_7082aee5-4fd1-4bc8-a7de-b22865ad3a6d.xml\n",
      "Image:D:\\DrowsinessDetection\\Tensorflow\\workspace\\images\\collectedimages\\labels\\drowsy_original_drowsy.fdce00d2-d8d9-11ec-a53e-086ac5628e63.jpg_37651a1b-5dd0-4fd0-ac2f-ab74caba9c5d.jpg -> Annotation:D:/DrowsinessDetection/Tensorflow/workspace/images/collectedimages/labels\\drowsy_original_drowsy.fdce00d2-d8d9-11ec-a53e-086ac5628e63.jpg_37651a1b-5dd0-4fd0-ac2f-ab74caba9c5d.xml\n",
      "Image:D:\\DrowsinessDetection\\Tensorflow\\workspace\\images\\collectedimages\\labels\\drowsy_original_drowsy.fdce00d2-d8d9-11ec-a53e-086ac5628e63.jpg_314417ad-48d9-4f2e-ae7f-2e6f791d6c6f.jpg -> Annotation:D:/DrowsinessDetection/Tensorflow/workspace/images/collectedimages/labels\\drowsy_original_drowsy.fdce00d2-d8d9-11ec-a53e-086ac5628e63.jpg_314417ad-48d9-4f2e-ae7f-2e6f791d6c6f.xml\n",
      "Image:D:\\DrowsinessDetection\\Tensorflow\\workspace\\images\\collectedimages\\labels\\drowsy_original_drowsy.fdce00d2-d8d9-11ec-a53e-086ac5628e63.jpg_787308f8-bf92-41de-9253-2783bcc2880c.jpg -> Annotation:D:/DrowsinessDetection/Tensorflow/workspace/images/collectedimages/labels\\drowsy_original_drowsy.fdce00d2-d8d9-11ec-a53e-086ac5628e63.jpg_787308f8-bf92-41de-9253-2783bcc2880c.xml\n",
      "Image:D:\\DrowsinessDetection\\Tensorflow\\workspace\\images\\collectedimages\\labels\\drowsy_original_drowsy.fdce00d2-d8d9-11ec-a53e-086ac5628e63.jpg_1233791d-6cc0-4f0a-bd5b-fcdaf758533c.jpg -> Annotation:D:/DrowsinessDetection/Tensorflow/workspace/images/collectedimages/labels\\drowsy_original_drowsy.fdce00d2-d8d9-11ec-a53e-086ac5628e63.jpg_1233791d-6cc0-4f0a-bd5b-fcdaf758533c.xml\n",
      "Image:D:\\DrowsinessDetection\\Tensorflow\\workspace\\images\\collectedimages\\labels\\drowsy_original_drowsy.fdce00d2-d8d9-11ec-a53e-086ac5628e63.jpg_a1b4a63f-c81c-4a37-8eae-1e1a98b1bc13.jpg -> Annotation:D:/DrowsinessDetection/Tensorflow/workspace/images/collectedimages/labels\\drowsy_original_drowsy.fdce00d2-d8d9-11ec-a53e-086ac5628e63.jpg_a1b4a63f-c81c-4a37-8eae-1e1a98b1bc13.xml\n",
      "Image:D:\\DrowsinessDetection\\Tensorflow\\workspace\\images\\collectedimages\\labels\\drowsy_original_drowsy.fdce00d2-d8d9-11ec-a53e-086ac5628e63.jpg_a6bb4920-5fe3-47d6-8286-e1c09b3345d2.jpg -> Annotation:D:/DrowsinessDetection/Tensorflow/workspace/images/collectedimages/labels\\drowsy_original_drowsy.fdce00d2-d8d9-11ec-a53e-086ac5628e63.jpg_a6bb4920-5fe3-47d6-8286-e1c09b3345d2.xml\n",
      "Image:D:\\DrowsinessDetection\\Tensorflow\\workspace\\images\\collectedimages\\labels\\drowsy_original_drowsy.fdce00d2-d8d9-11ec-a53e-086ac5628e63.jpg_a6bb4920-5fe3-47d6-8286-e1c09b3345d2.jpg -> Annotation:D:/DrowsinessDetection/Tensorflow/workspace/images/collectedimages/labels\\drowsy_original_drowsy.fdce00d2-d8d9-11ec-a53e-086ac5628e63.jpg_a6bb4920-5fe3-47d6-8286-e1c09b3345d2.xml\n",
      "Image:D:\\DrowsinessDetection\\Tensorflow\\workspace\\images\\collectedimages\\labels\\drowsy_original_drowsy.fdce00d2-d8d9-11ec-a53e-086ac5628e63.jpg_ab6837cc-aea2-416e-8816-d267f570a8a3.jpg -> Annotation:D:/DrowsinessDetection/Tensorflow/workspace/images/collectedimages/labels\\drowsy_original_drowsy.fdce00d2-d8d9-11ec-a53e-086ac5628e63.jpg_ab6837cc-aea2-416e-8816-d267f570a8a3.xml\n",
      "Image:D:\\DrowsinessDetection\\Tensorflow\\workspace\\images\\collectedimages\\labels\\drowsy_original_drowsy.fdce00d2-d8d9-11ec-a53e-086ac5628e63.jpg_ab6837cc-aea2-416e-8816-d267f570a8a3.jpg -> Annotation:D:/DrowsinessDetection/Tensorflow/workspace/images/collectedimages/labels\\drowsy_original_drowsy.fdce00d2-d8d9-11ec-a53e-086ac5628e63.jpg_ab6837cc-aea2-416e-8816-d267f570a8a3.xml\n",
      "Image:D:\\DrowsinessDetection\\Tensorflow\\workspace\\images\\collectedimages\\labels\\drowsy_original_drowsy.fdce00d2-d8d9-11ec-a53e-086ac5628e63.jpg_ac68b72f-a8a0-4d54-bb1d-87f5644e657a.jpg -> Annotation:D:/DrowsinessDetection/Tensorflow/workspace/images/collectedimages/labels\\drowsy_original_drowsy.fdce00d2-d8d9-11ec-a53e-086ac5628e63.jpg_ac68b72f-a8a0-4d54-bb1d-87f5644e657a.xml\n",
      "Image:D:\\DrowsinessDetection\\Tensorflow\\workspace\\images\\collectedimages\\labels\\drowsy_original_drowsy.fdce00d2-d8d9-11ec-a53e-086ac5628e63.jpg_af432743-3f32-425d-a125-993c6faac0f9.jpg -> Annotation:D:/DrowsinessDetection/Tensorflow/workspace/images/collectedimages/labels\\drowsy_original_drowsy.fdce00d2-d8d9-11ec-a53e-086ac5628e63.jpg_af432743-3f32-425d-a125-993c6faac0f9.xml\n",
      "Image:D:\\DrowsinessDetection\\Tensorflow\\workspace\\images\\collectedimages\\labels\\drowsy_original_drowsy.fdce00d2-d8d9-11ec-a53e-086ac5628e63.jpg_b2c2cdc4-354a-4671-8ff3-d5ed36f14d45.jpg -> Annotation:D:/DrowsinessDetection/Tensorflow/workspace/images/collectedimages/labels\\drowsy_original_drowsy.fdce00d2-d8d9-11ec-a53e-086ac5628e63.jpg_b2c2cdc4-354a-4671-8ff3-d5ed36f14d45.xml\n",
      "Image:D:\\DrowsinessDetection\\Tensorflow\\workspace\\images\\collectedimages\\labels\\drowsy_original_drowsy.fdce00d2-d8d9-11ec-a53e-086ac5628e63.jpg_b8ff5ab2-5cc0-43be-8868-642852782e7f.jpg -> Annotation:D:/DrowsinessDetection/Tensorflow/workspace/images/collectedimages/labels\\drowsy_original_drowsy.fdce00d2-d8d9-11ec-a53e-086ac5628e63.jpg_b8ff5ab2-5cc0-43be-8868-642852782e7f.xml\n",
      "Image:D:\\DrowsinessDetection\\Tensorflow\\workspace\\images\\collectedimages\\labels\\drowsy_original_drowsy.fdce00d2-d8d9-11ec-a53e-086ac5628e63.jpg_cc37e156-e423-4e86-9a92-7d5fcee1f419.jpg -> Annotation:D:/DrowsinessDetection/Tensorflow/workspace/images/collectedimages/labels\\drowsy_original_drowsy.fdce00d2-d8d9-11ec-a53e-086ac5628e63.jpg_cc37e156-e423-4e86-9a92-7d5fcee1f419.xml\n",
      "Image:D:\\DrowsinessDetection\\Tensorflow\\workspace\\images\\collectedimages\\labels\\drowsy_original_drowsy.fdce00d2-d8d9-11ec-a53e-086ac5628e63.jpg_cc37e156-e423-4e86-9a92-7d5fcee1f419.jpg -> Annotation:D:/DrowsinessDetection/Tensorflow/workspace/images/collectedimages/labels\\drowsy_original_drowsy.fdce00d2-d8d9-11ec-a53e-086ac5628e63.jpg_cc37e156-e423-4e86-9a92-7d5fcee1f419.xml\n",
      "Image:D:\\DrowsinessDetection\\Tensorflow\\workspace\\images\\collectedimages\\labels\\drowsy_original_drowsy.fdce00d2-d8d9-11ec-a53e-086ac5628e63.jpg_ce46b35f-c0ec-491d-815b-5b44de3bf24a.jpg -> Annotation:D:/DrowsinessDetection/Tensorflow/workspace/images/collectedimages/labels\\drowsy_original_drowsy.fdce00d2-d8d9-11ec-a53e-086ac5628e63.jpg_ce46b35f-c0ec-491d-815b-5b44de3bf24a.xml\n",
      "Image:D:\\DrowsinessDetection\\Tensorflow\\workspace\\images\\collectedimages\\labels\\drowsy_original_drowsy.fdce00d2-d8d9-11ec-a53e-086ac5628e63.jpg_cff11660-63eb-43a3-8c4a-4caa4e872729.jpg -> Annotation:D:/DrowsinessDetection/Tensorflow/workspace/images/collectedimages/labels\\drowsy_original_drowsy.fdce00d2-d8d9-11ec-a53e-086ac5628e63.jpg_cff11660-63eb-43a3-8c4a-4caa4e872729.xml\n",
      "Image:D:\\DrowsinessDetection\\Tensorflow\\workspace\\images\\collectedimages\\labels\\drowsy_original_drowsy.fdce00d2-d8d9-11ec-a53e-086ac5628e63.jpg_cff11660-63eb-43a3-8c4a-4caa4e872729.jpg -> Annotation:D:/DrowsinessDetection/Tensorflow/workspace/images/collectedimages/labels\\drowsy_original_drowsy.fdce00d2-d8d9-11ec-a53e-086ac5628e63.jpg_cff11660-63eb-43a3-8c4a-4caa4e872729.xml\n",
      "Image:D:\\DrowsinessDetection\\Tensorflow\\workspace\\images\\collectedimages\\labels\\drowsy_original_drowsy.fdce00d2-d8d9-11ec-a53e-086ac5628e63.jpg_dced3e2d-ef7d-4c4d-9647-e5a47c682efa.jpg -> Annotation:D:/DrowsinessDetection/Tensorflow/workspace/images/collectedimages/labels\\drowsy_original_drowsy.fdce00d2-d8d9-11ec-a53e-086ac5628e63.jpg_dced3e2d-ef7d-4c4d-9647-e5a47c682efa.xml\n",
      "Image:D:\\DrowsinessDetection\\Tensorflow\\workspace\\images\\collectedimages\\labels\\drowsy_original_drowsy.fdce00d2-d8d9-11ec-a53e-086ac5628e63.jpg_dced3e2d-ef7d-4c4d-9647-e5a47c682efa.jpg -> Annotation:D:/DrowsinessDetection/Tensorflow/workspace/images/collectedimages/labels\\drowsy_original_drowsy.fdce00d2-d8d9-11ec-a53e-086ac5628e63.jpg_dced3e2d-ef7d-4c4d-9647-e5a47c682efa.xml\n",
      "Image:D:\\DrowsinessDetection\\Tensorflow\\workspace\\images\\collectedimages\\labels\\drowsy_original_drowsy.fdce00d2-d8d9-11ec-a53e-086ac5628e63.jpg_dea7366c-d3ff-45e0-8390-19feebf2846b.jpg -> Annotation:D:/DrowsinessDetection/Tensorflow/workspace/images/collectedimages/labels\\drowsy_original_drowsy.fdce00d2-d8d9-11ec-a53e-086ac5628e63.jpg_dea7366c-d3ff-45e0-8390-19feebf2846b.xml\n",
      "Image:D:\\DrowsinessDetection\\Tensorflow\\workspace\\images\\collectedimages\\labels\\drowsy_original_drowsy.fdce00d2-d8d9-11ec-a53e-086ac5628e63.jpg_ea6e0084-52f4-44ba-9dab-637e0fcdb06b.jpg -> Annotation:D:/DrowsinessDetection/Tensorflow/workspace/images/collectedimages/labels\\drowsy_original_drowsy.fdce00d2-d8d9-11ec-a53e-086ac5628e63.jpg_ea6e0084-52f4-44ba-9dab-637e0fcdb06b.xml\n",
      "Image:D:\\DrowsinessDetection\\Tensorflow\\workspace\\images\\collectedimages\\labels\\drowsy_original_drowsy.fdce00d2-d8d9-11ec-a53e-086ac5628e63.jpg_ea6e0084-52f4-44ba-9dab-637e0fcdb06b.jpg -> Annotation:D:/DrowsinessDetection/Tensorflow/workspace/images/collectedimages/labels\\drowsy_original_drowsy.fdce00d2-d8d9-11ec-a53e-086ac5628e63.jpg_ea6e0084-52f4-44ba-9dab-637e0fcdb06b.xml\n",
      "Image:D:\\DrowsinessDetection\\Tensorflow\\workspace\\images\\collectedimages\\labels\\drowsy_original_drowsy.fdce00d2-d8d9-11ec-a53e-086ac5628e63.jpg_f4b6d25a-fc72-4027-8474-b7acf2feca4e.jpg -> Annotation:D:/DrowsinessDetection/Tensorflow/workspace/images/collectedimages/labels\\drowsy_original_drowsy.fdce00d2-d8d9-11ec-a53e-086ac5628e63.jpg_f4b6d25a-fc72-4027-8474-b7acf2feca4e.xml\n",
      "Image:D:\\DrowsinessDetection\\Tensorflow\\workspace\\images\\collectedimages\\labels\\drowsy_original_drowsy.fdce00d2-d8d9-11ec-a53e-086ac5628e63.jpg_f4b6d25a-fc72-4027-8474-b7acf2feca4e.jpg -> Annotation:D:/DrowsinessDetection/Tensorflow/workspace/images/collectedimages/labels\\drowsy_original_drowsy.fdce00d2-d8d9-11ec-a53e-086ac5628e63.jpg_f4b6d25a-fc72-4027-8474-b7acf2feca4e.xml\n",
      "Image:D:\\DrowsinessDetection\\Tensorflow\\workspace\\images\\collectedimages\\labels\\drowsy_original_drowsy.fdce00d2-d8d9-11ec-a53e-086ac5628e63.jpg_f639b360-cd2f-40fa-8621-74beabf73c87.jpg -> Annotation:D:/DrowsinessDetection/Tensorflow/workspace/images/collectedimages/labels\\drowsy_original_drowsy.fdce00d2-d8d9-11ec-a53e-086ac5628e63.jpg_f639b360-cd2f-40fa-8621-74beabf73c87.xml\n",
      "Image:D:\\DrowsinessDetection\\Tensorflow\\workspace\\images\\collectedimages\\labels\\drowsy_original_drowsy.fdce00d2-d8d9-11ec-a53e-086ac5628e63.jpg_faefb248-dbba-403b-93b1-1f2a99ed0f18.jpg -> Annotation:D:/DrowsinessDetection/Tensorflow/workspace/images/collectedimages/labels\\drowsy_original_drowsy.fdce00d2-d8d9-11ec-a53e-086ac5628e63.jpg_faefb248-dbba-403b-93b1-1f2a99ed0f18.xml\n",
      "Image:D:\\DrowsinessDetection\\Tensorflow\\workspace\\images\\collectedimages\\labels\\drowsy_original_drowsy.fdce00d2-d8d9-11ec-a53e-086ac5628e63.jpg_faefb248-dbba-403b-93b1-1f2a99ed0f18.jpg -> Annotation:D:/DrowsinessDetection/Tensorflow/workspace/images/collectedimages/labels\\drowsy_original_drowsy.fdce00d2-d8d9-11ec-a53e-086ac5628e63.jpg_faefb248-dbba-403b-93b1-1f2a99ed0f18.xml\n",
      "Image:D:\\DrowsinessDetection\\Tensorflow\\workspace\\images\\collectedimages\\labels\\drowsy_original_drowsy.fdce00d2-d8d9-11ec-a53e-086ac5628e63.jpg_fafd5f1f-e0cb-4e24-a8d1-b2be7608ee47.jpg -> Annotation:D:/DrowsinessDetection/Tensorflow/workspace/images/collectedimages/labels\\drowsy_original_drowsy.fdce00d2-d8d9-11ec-a53e-086ac5628e63.jpg_fafd5f1f-e0cb-4e24-a8d1-b2be7608ee47.xml\n",
      "Image:D:\\DrowsinessDetection\\Tensorflow\\workspace\\images\\collectedimages\\labels\\drowsy_original_drowsy.fdce00d2-d8d9-11ec-a53e-086ac5628e63.jpg_fafd5f1f-e0cb-4e24-a8d1-b2be7608ee47.jpg -> Annotation:D:/DrowsinessDetection/Tensorflow/workspace/images/collectedimages/labels\\drowsy_original_drowsy.fdce00d2-d8d9-11ec-a53e-086ac5628e63.jpg_fafd5f1f-e0cb-4e24-a8d1-b2be7608ee47.xml\n",
      "Image:D:\\DrowsinessDetection\\Tensorflow\\workspace\\images\\collectedimages\\labels\\drowsy_original_drowsy.fdce00d2-d8d9-11ec-a53e-086ac5628e63.jpg_fead3a19-e79d-44d8-8ae9-18b7b8f93750.jpg -> Annotation:D:/DrowsinessDetection/Tensorflow/workspace/images/collectedimages/labels\\drowsy_original_drowsy.fdce00d2-d8d9-11ec-a53e-086ac5628e63.jpg_fead3a19-e79d-44d8-8ae9-18b7b8f93750.xml\n",
      "Image:D:\\DrowsinessDetection\\Tensorflow\\workspace\\images\\collectedimages\\labels\\drowsy_original_drowsy.fdce00d2-d8d9-11ec-a53e-086ac5628e63.jpg_ff6a08ce-4569-4dd4-822f-87d153b41656.jpg -> Annotation:D:/DrowsinessDetection/Tensorflow/workspace/images/collectedimages/labels\\drowsy_original_drowsy.fdce00d2-d8d9-11ec-a53e-086ac5628e63.jpg_ff6a08ce-4569-4dd4-822f-87d153b41656.xml\n",
      "Image:D:\\DrowsinessDetection\\Tensorflow\\workspace\\images\\collectedimages\\labels\\drowsy_original_drowsy.ff0343db-d8d9-11ec-964b-086ac5628e63.jpg_0d8cfcdb-1128-4572-8111-2e221cf42b4d.jpg -> Annotation:D:/DrowsinessDetection/Tensorflow/workspace/images/collectedimages/labels\\drowsy_original_drowsy.ff0343db-d8d9-11ec-964b-086ac5628e63.jpg_0d8cfcdb-1128-4572-8111-2e221cf42b4d.xml\n",
      "Image:D:\\DrowsinessDetection\\Tensorflow\\workspace\\images\\collectedimages\\labels\\drowsy_original_drowsy.ff0343db-d8d9-11ec-964b-086ac5628e63.jpg_0d8cfcdb-1128-4572-8111-2e221cf42b4d.jpg -> Annotation:D:/DrowsinessDetection/Tensorflow/workspace/images/collectedimages/labels\\drowsy_original_drowsy.ff0343db-d8d9-11ec-964b-086ac5628e63.jpg_0d8cfcdb-1128-4572-8111-2e221cf42b4d.xml\n",
      "Image:D:\\DrowsinessDetection\\Tensorflow\\workspace\\images\\collectedimages\\labels\\drowsy_original_drowsy.ff0343db-d8d9-11ec-964b-086ac5628e63.jpg_1a4816dc-4fa3-4afa-b6a3-4f052e7260c8.jpg -> Annotation:D:/DrowsinessDetection/Tensorflow/workspace/images/collectedimages/labels\\drowsy_original_drowsy.ff0343db-d8d9-11ec-964b-086ac5628e63.jpg_1a4816dc-4fa3-4afa-b6a3-4f052e7260c8.xml\n",
      "Image:D:\\DrowsinessDetection\\Tensorflow\\workspace\\images\\collectedimages\\labels\\drowsy_original_drowsy.ff0343db-d8d9-11ec-964b-086ac5628e63.jpg_1a4816dc-4fa3-4afa-b6a3-4f052e7260c8.jpg -> Annotation:D:/DrowsinessDetection/Tensorflow/workspace/images/collectedimages/labels\\drowsy_original_drowsy.ff0343db-d8d9-11ec-964b-086ac5628e63.jpg_1a4816dc-4fa3-4afa-b6a3-4f052e7260c8.xml\n",
      "Image:D:\\DrowsinessDetection\\Tensorflow\\workspace\\images\\collectedimages\\labels\\drowsy_original_drowsy.ff0343db-d8d9-11ec-964b-086ac5628e63.jpg_02c4ec15-66fb-435e-9dfa-80abf3c0a132.jpg -> Annotation:D:/DrowsinessDetection/Tensorflow/workspace/images/collectedimages/labels\\drowsy_original_drowsy.ff0343db-d8d9-11ec-964b-086ac5628e63.jpg_02c4ec15-66fb-435e-9dfa-80abf3c0a132.xml\n",
      "Image:D:\\DrowsinessDetection\\Tensorflow\\workspace\\images\\collectedimages\\labels\\drowsy_original_drowsy.ff0343db-d8d9-11ec-964b-086ac5628e63.jpg_02c4ec15-66fb-435e-9dfa-80abf3c0a132.jpg -> Annotation:D:/DrowsinessDetection/Tensorflow/workspace/images/collectedimages/labels\\drowsy_original_drowsy.ff0343db-d8d9-11ec-964b-086ac5628e63.jpg_02c4ec15-66fb-435e-9dfa-80abf3c0a132.xml\n",
      "Image:D:\\DrowsinessDetection\\Tensorflow\\workspace\\images\\collectedimages\\labels\\drowsy_original_drowsy.ff0343db-d8d9-11ec-964b-086ac5628e63.jpg_3c4ed67e-b77c-40f6-afea-a54d2644572a.jpg -> Annotation:D:/DrowsinessDetection/Tensorflow/workspace/images/collectedimages/labels\\drowsy_original_drowsy.ff0343db-d8d9-11ec-964b-086ac5628e63.jpg_3c4ed67e-b77c-40f6-afea-a54d2644572a.xml\n",
      "Image:D:\\DrowsinessDetection\\Tensorflow\\workspace\\images\\collectedimages\\labels\\drowsy_original_drowsy.ff0343db-d8d9-11ec-964b-086ac5628e63.jpg_3c4ed67e-b77c-40f6-afea-a54d2644572a.jpg -> Annotation:D:/DrowsinessDetection/Tensorflow/workspace/images/collectedimages/labels\\drowsy_original_drowsy.ff0343db-d8d9-11ec-964b-086ac5628e63.jpg_3c4ed67e-b77c-40f6-afea-a54d2644572a.xml\n",
      "Image:D:\\DrowsinessDetection\\Tensorflow\\workspace\\images\\collectedimages\\labels\\drowsy_original_drowsy.ff0343db-d8d9-11ec-964b-086ac5628e63.jpg_3c644c74-0762-43f2-87b7-919977700547.jpg -> Annotation:D:/DrowsinessDetection/Tensorflow/workspace/images/collectedimages/labels\\drowsy_original_drowsy.ff0343db-d8d9-11ec-964b-086ac5628e63.jpg_3c644c74-0762-43f2-87b7-919977700547.xml\n",
      "Image:D:\\DrowsinessDetection\\Tensorflow\\workspace\\images\\collectedimages\\labels\\drowsy_original_drowsy.ff0343db-d8d9-11ec-964b-086ac5628e63.jpg_3c644c74-0762-43f2-87b7-919977700547.jpg -> Annotation:D:/DrowsinessDetection/Tensorflow/workspace/images/collectedimages/labels\\drowsy_original_drowsy.ff0343db-d8d9-11ec-964b-086ac5628e63.jpg_3c644c74-0762-43f2-87b7-919977700547.xml\n",
      "Image:D:\\DrowsinessDetection\\Tensorflow\\workspace\\images\\collectedimages\\labels\\drowsy_original_drowsy.ff0343db-d8d9-11ec-964b-086ac5628e63.jpg_3e7e1278-2a69-43f9-b80b-e893dd3a1580.jpg -> Annotation:D:/DrowsinessDetection/Tensorflow/workspace/images/collectedimages/labels\\drowsy_original_drowsy.ff0343db-d8d9-11ec-964b-086ac5628e63.jpg_3e7e1278-2a69-43f9-b80b-e893dd3a1580.xml\n",
      "Image:D:\\DrowsinessDetection\\Tensorflow\\workspace\\images\\collectedimages\\labels\\drowsy_original_drowsy.ff0343db-d8d9-11ec-964b-086ac5628e63.jpg_4bec9cde-1c74-4aa4-ae86-bdd4b3b11e25.jpg -> Annotation:D:/DrowsinessDetection/Tensorflow/workspace/images/collectedimages/labels\\drowsy_original_drowsy.ff0343db-d8d9-11ec-964b-086ac5628e63.jpg_4bec9cde-1c74-4aa4-ae86-bdd4b3b11e25.xml\n",
      "Image:D:\\DrowsinessDetection\\Tensorflow\\workspace\\images\\collectedimages\\labels\\drowsy_original_drowsy.ff0343db-d8d9-11ec-964b-086ac5628e63.jpg_4bec9cde-1c74-4aa4-ae86-bdd4b3b11e25.jpg -> Annotation:D:/DrowsinessDetection/Tensorflow/workspace/images/collectedimages/labels\\drowsy_original_drowsy.ff0343db-d8d9-11ec-964b-086ac5628e63.jpg_4bec9cde-1c74-4aa4-ae86-bdd4b3b11e25.xml\n",
      "Image:D:\\DrowsinessDetection\\Tensorflow\\workspace\\images\\collectedimages\\labels\\drowsy_original_drowsy.ff0343db-d8d9-11ec-964b-086ac5628e63.jpg_04befd7d-7414-4a15-9c16-d389fffc9921.jpg -> Annotation:D:/DrowsinessDetection/Tensorflow/workspace/images/collectedimages/labels\\drowsy_original_drowsy.ff0343db-d8d9-11ec-964b-086ac5628e63.jpg_04befd7d-7414-4a15-9c16-d389fffc9921.xml\n",
      "Image:D:\\DrowsinessDetection\\Tensorflow\\workspace\\images\\collectedimages\\labels\\drowsy_original_drowsy.ff0343db-d8d9-11ec-964b-086ac5628e63.jpg_04befd7d-7414-4a15-9c16-d389fffc9921.jpg -> Annotation:D:/DrowsinessDetection/Tensorflow/workspace/images/collectedimages/labels\\drowsy_original_drowsy.ff0343db-d8d9-11ec-964b-086ac5628e63.jpg_04befd7d-7414-4a15-9c16-d389fffc9921.xml\n",
      "Image:D:\\DrowsinessDetection\\Tensorflow\\workspace\\images\\collectedimages\\labels\\drowsy_original_drowsy.ff0343db-d8d9-11ec-964b-086ac5628e63.jpg_5b6e159c-8380-406e-9e2c-6293ec63a74b.jpg -> Annotation:D:/DrowsinessDetection/Tensorflow/workspace/images/collectedimages/labels\\drowsy_original_drowsy.ff0343db-d8d9-11ec-964b-086ac5628e63.jpg_5b6e159c-8380-406e-9e2c-6293ec63a74b.xml\n",
      "Image:D:\\DrowsinessDetection\\Tensorflow\\workspace\\images\\collectedimages\\labels\\drowsy_original_drowsy.ff0343db-d8d9-11ec-964b-086ac5628e63.jpg_5b6e159c-8380-406e-9e2c-6293ec63a74b.jpg -> Annotation:D:/DrowsinessDetection/Tensorflow/workspace/images/collectedimages/labels\\drowsy_original_drowsy.ff0343db-d8d9-11ec-964b-086ac5628e63.jpg_5b6e159c-8380-406e-9e2c-6293ec63a74b.xml\n",
      "Image:D:\\DrowsinessDetection\\Tensorflow\\workspace\\images\\collectedimages\\labels\\drowsy_original_drowsy.ff0343db-d8d9-11ec-964b-086ac5628e63.jpg_5b1186db-44cd-4982-8f2c-6ddcdcf06cda.jpg -> Annotation:D:/DrowsinessDetection/Tensorflow/workspace/images/collectedimages/labels\\drowsy_original_drowsy.ff0343db-d8d9-11ec-964b-086ac5628e63.jpg_5b1186db-44cd-4982-8f2c-6ddcdcf06cda.xml\n",
      "Image:D:\\DrowsinessDetection\\Tensorflow\\workspace\\images\\collectedimages\\labels\\drowsy_original_drowsy.ff0343db-d8d9-11ec-964b-086ac5628e63.jpg_5b1186db-44cd-4982-8f2c-6ddcdcf06cda.jpg -> Annotation:D:/DrowsinessDetection/Tensorflow/workspace/images/collectedimages/labels\\drowsy_original_drowsy.ff0343db-d8d9-11ec-964b-086ac5628e63.jpg_5b1186db-44cd-4982-8f2c-6ddcdcf06cda.xml\n",
      "Image:D:\\DrowsinessDetection\\Tensorflow\\workspace\\images\\collectedimages\\labels\\drowsy_original_drowsy.ff0343db-d8d9-11ec-964b-086ac5628e63.jpg_05e3db3a-129b-472a-a634-791feee27510.jpg -> Annotation:D:/DrowsinessDetection/Tensorflow/workspace/images/collectedimages/labels\\drowsy_original_drowsy.ff0343db-d8d9-11ec-964b-086ac5628e63.jpg_05e3db3a-129b-472a-a634-791feee27510.xml\n",
      "Image:D:\\DrowsinessDetection\\Tensorflow\\workspace\\images\\collectedimages\\labels\\drowsy_original_drowsy.ff0343db-d8d9-11ec-964b-086ac5628e63.jpg_05e3db3a-129b-472a-a634-791feee27510.jpg -> Annotation:D:/DrowsinessDetection/Tensorflow/workspace/images/collectedimages/labels\\drowsy_original_drowsy.ff0343db-d8d9-11ec-964b-086ac5628e63.jpg_05e3db3a-129b-472a-a634-791feee27510.xml\n",
      "Image:D:\\DrowsinessDetection\\Tensorflow\\workspace\\images\\collectedimages\\labels\\drowsy_original_drowsy.ff0343db-d8d9-11ec-964b-086ac5628e63.jpg_5e4b5127-35e3-459e-a308-8e7c6b35ee7a.jpg -> Annotation:D:/DrowsinessDetection/Tensorflow/workspace/images/collectedimages/labels\\drowsy_original_drowsy.ff0343db-d8d9-11ec-964b-086ac5628e63.jpg_5e4b5127-35e3-459e-a308-8e7c6b35ee7a.xml\n",
      "Image:D:\\DrowsinessDetection\\Tensorflow\\workspace\\images\\collectedimages\\labels\\drowsy_original_drowsy.ff0343db-d8d9-11ec-964b-086ac5628e63.jpg_5e45de1e-912b-4b64-af62-696240464074.jpg -> Annotation:D:/DrowsinessDetection/Tensorflow/workspace/images/collectedimages/labels\\drowsy_original_drowsy.ff0343db-d8d9-11ec-964b-086ac5628e63.jpg_5e45de1e-912b-4b64-af62-696240464074.xml\n",
      "Image:D:\\DrowsinessDetection\\Tensorflow\\workspace\\images\\collectedimages\\labels\\drowsy_original_drowsy.ff0343db-d8d9-11ec-964b-086ac5628e63.jpg_5e45de1e-912b-4b64-af62-696240464074.jpg -> Annotation:D:/DrowsinessDetection/Tensorflow/workspace/images/collectedimages/labels\\drowsy_original_drowsy.ff0343db-d8d9-11ec-964b-086ac5628e63.jpg_5e45de1e-912b-4b64-af62-696240464074.xml\n",
      "Image:D:\\DrowsinessDetection\\Tensorflow\\workspace\\images\\collectedimages\\labels\\drowsy_original_drowsy.ff0343db-d8d9-11ec-964b-086ac5628e63.jpg_07adcaa3-df1c-418d-b3e6-df7a580a76ad.jpg -> Annotation:D:/DrowsinessDetection/Tensorflow/workspace/images/collectedimages/labels\\drowsy_original_drowsy.ff0343db-d8d9-11ec-964b-086ac5628e63.jpg_07adcaa3-df1c-418d-b3e6-df7a580a76ad.xml\n",
      "Image:D:\\DrowsinessDetection\\Tensorflow\\workspace\\images\\collectedimages\\labels\\drowsy_original_drowsy.ff0343db-d8d9-11ec-964b-086ac5628e63.jpg_7c8dc998-87cf-4109-a657-84e4ce2c21a8.jpg -> Annotation:D:/DrowsinessDetection/Tensorflow/workspace/images/collectedimages/labels\\drowsy_original_drowsy.ff0343db-d8d9-11ec-964b-086ac5628e63.jpg_7c8dc998-87cf-4109-a657-84e4ce2c21a8.xml\n",
      "Image:D:\\DrowsinessDetection\\Tensorflow\\workspace\\images\\collectedimages\\labels\\drowsy_original_drowsy.ff0343db-d8d9-11ec-964b-086ac5628e63.jpg_7d87999a-96b5-4d79-9dfb-58b993fe0344.jpg -> Annotation:D:/DrowsinessDetection/Tensorflow/workspace/images/collectedimages/labels\\drowsy_original_drowsy.ff0343db-d8d9-11ec-964b-086ac5628e63.jpg_7d87999a-96b5-4d79-9dfb-58b993fe0344.xml\n",
      "Image:D:\\DrowsinessDetection\\Tensorflow\\workspace\\images\\collectedimages\\labels\\drowsy_original_drowsy.ff0343db-d8d9-11ec-964b-086ac5628e63.jpg_7d87999a-96b5-4d79-9dfb-58b993fe0344.jpg -> Annotation:D:/DrowsinessDetection/Tensorflow/workspace/images/collectedimages/labels\\drowsy_original_drowsy.ff0343db-d8d9-11ec-964b-086ac5628e63.jpg_7d87999a-96b5-4d79-9dfb-58b993fe0344.xml\n",
      "Image:D:\\DrowsinessDetection\\Tensorflow\\workspace\\images\\collectedimages\\labels\\drowsy_original_drowsy.ff0343db-d8d9-11ec-964b-086ac5628e63.jpg_08a3d918-a3ca-4bcf-bf4f-f69fb8bb5101.jpg -> Annotation:D:/DrowsinessDetection/Tensorflow/workspace/images/collectedimages/labels\\drowsy_original_drowsy.ff0343db-d8d9-11ec-964b-086ac5628e63.jpg_08a3d918-a3ca-4bcf-bf4f-f69fb8bb5101.xml\n",
      "Image:D:\\DrowsinessDetection\\Tensorflow\\workspace\\images\\collectedimages\\labels\\drowsy_original_drowsy.ff0343db-d8d9-11ec-964b-086ac5628e63.jpg_08dc38d1-3ae2-4c4e-be3c-5cc33d697a81.jpg -> Annotation:D:/DrowsinessDetection/Tensorflow/workspace/images/collectedimages/labels\\drowsy_original_drowsy.ff0343db-d8d9-11ec-964b-086ac5628e63.jpg_08dc38d1-3ae2-4c4e-be3c-5cc33d697a81.xml\n",
      "Image:D:\\DrowsinessDetection\\Tensorflow\\workspace\\images\\collectedimages\\labels\\drowsy_original_drowsy.ff0343db-d8d9-11ec-964b-086ac5628e63.jpg_8fbd6c72-dbd1-4b52-a6a3-dc15cebe4fa0.jpg -> Annotation:D:/DrowsinessDetection/Tensorflow/workspace/images/collectedimages/labels\\drowsy_original_drowsy.ff0343db-d8d9-11ec-964b-086ac5628e63.jpg_8fbd6c72-dbd1-4b52-a6a3-dc15cebe4fa0.xml\n",
      "Image:D:\\DrowsinessDetection\\Tensorflow\\workspace\\images\\collectedimages\\labels\\drowsy_original_drowsy.ff0343db-d8d9-11ec-964b-086ac5628e63.jpg_8fbd6c72-dbd1-4b52-a6a3-dc15cebe4fa0.jpg -> Annotation:D:/DrowsinessDetection/Tensorflow/workspace/images/collectedimages/labels\\drowsy_original_drowsy.ff0343db-d8d9-11ec-964b-086ac5628e63.jpg_8fbd6c72-dbd1-4b52-a6a3-dc15cebe4fa0.xml\n",
      "Image:D:\\DrowsinessDetection\\Tensorflow\\workspace\\images\\collectedimages\\labels\\drowsy_original_drowsy.ff0343db-d8d9-11ec-964b-086ac5628e63.jpg_50cf99c8-4ee9-4b52-96e0-6a181871a8d1.jpg -> Annotation:D:/DrowsinessDetection/Tensorflow/workspace/images/collectedimages/labels\\drowsy_original_drowsy.ff0343db-d8d9-11ec-964b-086ac5628e63.jpg_50cf99c8-4ee9-4b52-96e0-6a181871a8d1.xml\n",
      "Image:D:\\DrowsinessDetection\\Tensorflow\\workspace\\images\\collectedimages\\labels\\drowsy_original_drowsy.ff0343db-d8d9-11ec-964b-086ac5628e63.jpg_61a521dd-7289-487a-9d6e-9a710432eb2c.jpg -> Annotation:D:/DrowsinessDetection/Tensorflow/workspace/images/collectedimages/labels\\drowsy_original_drowsy.ff0343db-d8d9-11ec-964b-086ac5628e63.jpg_61a521dd-7289-487a-9d6e-9a710432eb2c.xml\n",
      "Image:D:\\DrowsinessDetection\\Tensorflow\\workspace\\images\\collectedimages\\labels\\drowsy_original_drowsy.ff0343db-d8d9-11ec-964b-086ac5628e63.jpg_61a521dd-7289-487a-9d6e-9a710432eb2c.jpg -> Annotation:D:/DrowsinessDetection/Tensorflow/workspace/images/collectedimages/labels\\drowsy_original_drowsy.ff0343db-d8d9-11ec-964b-086ac5628e63.jpg_61a521dd-7289-487a-9d6e-9a710432eb2c.xml\n",
      "Image:D:\\DrowsinessDetection\\Tensorflow\\workspace\\images\\collectedimages\\labels\\drowsy_original_drowsy.ff0343db-d8d9-11ec-964b-086ac5628e63.jpg_66c33201-ddc6-4373-9608-6f0781c0e965.jpg -> Annotation:D:/DrowsinessDetection/Tensorflow/workspace/images/collectedimages/labels\\drowsy_original_drowsy.ff0343db-d8d9-11ec-964b-086ac5628e63.jpg_66c33201-ddc6-4373-9608-6f0781c0e965.xml\n",
      "Image:D:\\DrowsinessDetection\\Tensorflow\\workspace\\images\\collectedimages\\labels\\drowsy_original_drowsy.ff0343db-d8d9-11ec-964b-086ac5628e63.jpg_72f3b33b-779a-43af-a9ba-109d66e5bcd7.jpg -> Annotation:D:/DrowsinessDetection/Tensorflow/workspace/images/collectedimages/labels\\drowsy_original_drowsy.ff0343db-d8d9-11ec-964b-086ac5628e63.jpg_72f3b33b-779a-43af-a9ba-109d66e5bcd7.xml\n",
      "Image:D:\\DrowsinessDetection\\Tensorflow\\workspace\\images\\collectedimages\\labels\\drowsy_original_drowsy.ff0343db-d8d9-11ec-964b-086ac5628e63.jpg_75d8f43d-a173-487d-a5dd-73fab72f0de0.jpg -> Annotation:D:/DrowsinessDetection/Tensorflow/workspace/images/collectedimages/labels\\drowsy_original_drowsy.ff0343db-d8d9-11ec-964b-086ac5628e63.jpg_75d8f43d-a173-487d-a5dd-73fab72f0de0.xml\n",
      "Image:D:\\DrowsinessDetection\\Tensorflow\\workspace\\images\\collectedimages\\labels\\drowsy_original_drowsy.ff0343db-d8d9-11ec-964b-086ac5628e63.jpg_79d63284-ab85-43a7-9eb3-279645c701dc.jpg -> Annotation:D:/DrowsinessDetection/Tensorflow/workspace/images/collectedimages/labels\\drowsy_original_drowsy.ff0343db-d8d9-11ec-964b-086ac5628e63.jpg_79d63284-ab85-43a7-9eb3-279645c701dc.xml\n",
      "Image:D:\\DrowsinessDetection\\Tensorflow\\workspace\\images\\collectedimages\\labels\\drowsy_original_drowsy.ff0343db-d8d9-11ec-964b-086ac5628e63.jpg_84b4ec39-ecd4-4d7a-b007-11073d8f2082.jpg -> Annotation:D:/DrowsinessDetection/Tensorflow/workspace/images/collectedimages/labels\\drowsy_original_drowsy.ff0343db-d8d9-11ec-964b-086ac5628e63.jpg_84b4ec39-ecd4-4d7a-b007-11073d8f2082.xml\n",
      "Image:D:\\DrowsinessDetection\\Tensorflow\\workspace\\images\\collectedimages\\labels\\drowsy_original_drowsy.ff0343db-d8d9-11ec-964b-086ac5628e63.jpg_84b4ec39-ecd4-4d7a-b007-11073d8f2082.jpg -> Annotation:D:/DrowsinessDetection/Tensorflow/workspace/images/collectedimages/labels\\drowsy_original_drowsy.ff0343db-d8d9-11ec-964b-086ac5628e63.jpg_84b4ec39-ecd4-4d7a-b007-11073d8f2082.xml\n",
      "Image:D:\\DrowsinessDetection\\Tensorflow\\workspace\\images\\collectedimages\\labels\\drowsy_original_drowsy.ff0343db-d8d9-11ec-964b-086ac5628e63.jpg_96a3dc3c-d605-4750-9d82-a6002d063f8e.jpg -> Annotation:D:/DrowsinessDetection/Tensorflow/workspace/images/collectedimages/labels\\drowsy_original_drowsy.ff0343db-d8d9-11ec-964b-086ac5628e63.jpg_96a3dc3c-d605-4750-9d82-a6002d063f8e.xml\n",
      "Image:D:\\DrowsinessDetection\\Tensorflow\\workspace\\images\\collectedimages\\labels\\drowsy_original_drowsy.ff0343db-d8d9-11ec-964b-086ac5628e63.jpg_129baf4a-31ba-4f1e-a563-417733958073.jpg -> Annotation:D:/DrowsinessDetection/Tensorflow/workspace/images/collectedimages/labels\\drowsy_original_drowsy.ff0343db-d8d9-11ec-964b-086ac5628e63.jpg_129baf4a-31ba-4f1e-a563-417733958073.xml\n",
      "Image:D:\\DrowsinessDetection\\Tensorflow\\workspace\\images\\collectedimages\\labels\\drowsy_original_drowsy.ff0343db-d8d9-11ec-964b-086ac5628e63.jpg_129baf4a-31ba-4f1e-a563-417733958073.jpg -> Annotation:D:/DrowsinessDetection/Tensorflow/workspace/images/collectedimages/labels\\drowsy_original_drowsy.ff0343db-d8d9-11ec-964b-086ac5628e63.jpg_129baf4a-31ba-4f1e-a563-417733958073.xml\n",
      "Image:D:\\DrowsinessDetection\\Tensorflow\\workspace\\images\\collectedimages\\labels\\drowsy_original_drowsy.ff0343db-d8d9-11ec-964b-086ac5628e63.jpg_223c6fc0-378a-44fc-92b3-fb48572aa3b5.jpg -> Annotation:D:/DrowsinessDetection/Tensorflow/workspace/images/collectedimages/labels\\drowsy_original_drowsy.ff0343db-d8d9-11ec-964b-086ac5628e63.jpg_223c6fc0-378a-44fc-92b3-fb48572aa3b5.xml\n",
      "Image:D:\\DrowsinessDetection\\Tensorflow\\workspace\\images\\collectedimages\\labels\\drowsy_original_drowsy.ff0343db-d8d9-11ec-964b-086ac5628e63.jpg_223c6fc0-378a-44fc-92b3-fb48572aa3b5.jpg -> Annotation:D:/DrowsinessDetection/Tensorflow/workspace/images/collectedimages/labels\\drowsy_original_drowsy.ff0343db-d8d9-11ec-964b-086ac5628e63.jpg_223c6fc0-378a-44fc-92b3-fb48572aa3b5.xml\n",
      "Image:D:\\DrowsinessDetection\\Tensorflow\\workspace\\images\\collectedimages\\labels\\drowsy_original_drowsy.ff0343db-d8d9-11ec-964b-086ac5628e63.jpg_325ad7eb-1587-4f3c-918b-d2f3e7c53b36.jpg -> Annotation:D:/DrowsinessDetection/Tensorflow/workspace/images/collectedimages/labels\\drowsy_original_drowsy.ff0343db-d8d9-11ec-964b-086ac5628e63.jpg_325ad7eb-1587-4f3c-918b-d2f3e7c53b36.xml\n",
      "Image:D:\\DrowsinessDetection\\Tensorflow\\workspace\\images\\collectedimages\\labels\\drowsy_original_drowsy.ff0343db-d8d9-11ec-964b-086ac5628e63.jpg_325ad7eb-1587-4f3c-918b-d2f3e7c53b36.jpg -> Annotation:D:/DrowsinessDetection/Tensorflow/workspace/images/collectedimages/labels\\drowsy_original_drowsy.ff0343db-d8d9-11ec-964b-086ac5628e63.jpg_325ad7eb-1587-4f3c-918b-d2f3e7c53b36.xml\n",
      "Image:D:\\DrowsinessDetection\\Tensorflow\\workspace\\images\\collectedimages\\labels\\drowsy_original_drowsy.ff0343db-d8d9-11ec-964b-086ac5628e63.jpg_395e8e3a-5dbb-4617-8021-993f64f7ce76.jpg -> Annotation:D:/DrowsinessDetection/Tensorflow/workspace/images/collectedimages/labels\\drowsy_original_drowsy.ff0343db-d8d9-11ec-964b-086ac5628e63.jpg_395e8e3a-5dbb-4617-8021-993f64f7ce76.xml\n",
      "Image:D:\\DrowsinessDetection\\Tensorflow\\workspace\\images\\collectedimages\\labels\\drowsy_original_drowsy.ff0343db-d8d9-11ec-964b-086ac5628e63.jpg_685d4cc6-86e0-4361-b67e-9d60d5048906.jpg -> Annotation:D:/DrowsinessDetection/Tensorflow/workspace/images/collectedimages/labels\\drowsy_original_drowsy.ff0343db-d8d9-11ec-964b-086ac5628e63.jpg_685d4cc6-86e0-4361-b67e-9d60d5048906.xml\n",
      "Image:D:\\DrowsinessDetection\\Tensorflow\\workspace\\images\\collectedimages\\labels\\drowsy_original_drowsy.ff0343db-d8d9-11ec-964b-086ac5628e63.jpg_0716d791-7242-412e-9316-d577612ecece.jpg -> Annotation:D:/DrowsinessDetection/Tensorflow/workspace/images/collectedimages/labels\\drowsy_original_drowsy.ff0343db-d8d9-11ec-964b-086ac5628e63.jpg_0716d791-7242-412e-9316-d577612ecece.xml\n",
      "Image:D:\\DrowsinessDetection\\Tensorflow\\workspace\\images\\collectedimages\\labels\\drowsy_original_drowsy.ff0343db-d8d9-11ec-964b-086ac5628e63.jpg_804bda89-0baf-46f3-ae24-a746cdb6486e.jpg -> Annotation:D:/DrowsinessDetection/Tensorflow/workspace/images/collectedimages/labels\\drowsy_original_drowsy.ff0343db-d8d9-11ec-964b-086ac5628e63.jpg_804bda89-0baf-46f3-ae24-a746cdb6486e.xml\n",
      "Image:D:\\DrowsinessDetection\\Tensorflow\\workspace\\images\\collectedimages\\labels\\drowsy_original_drowsy.ff0343db-d8d9-11ec-964b-086ac5628e63.jpg_4220fe55-5f98-481d-aa8d-6de42e153ca9.jpg -> Annotation:D:/DrowsinessDetection/Tensorflow/workspace/images/collectedimages/labels\\drowsy_original_drowsy.ff0343db-d8d9-11ec-964b-086ac5628e63.jpg_4220fe55-5f98-481d-aa8d-6de42e153ca9.xml\n",
      "Image:D:\\DrowsinessDetection\\Tensorflow\\workspace\\images\\collectedimages\\labels\\drowsy_original_drowsy.ff0343db-d8d9-11ec-964b-086ac5628e63.jpg_4220fe55-5f98-481d-aa8d-6de42e153ca9.jpg -> Annotation:D:/DrowsinessDetection/Tensorflow/workspace/images/collectedimages/labels\\drowsy_original_drowsy.ff0343db-d8d9-11ec-964b-086ac5628e63.jpg_4220fe55-5f98-481d-aa8d-6de42e153ca9.xml\n",
      "Image:D:\\DrowsinessDetection\\Tensorflow\\workspace\\images\\collectedimages\\labels\\drowsy_original_drowsy.ff0343db-d8d9-11ec-964b-086ac5628e63.jpg_32264a62-dfde-4f0f-a920-9a39ed468bf6.jpg -> Annotation:D:/DrowsinessDetection/Tensorflow/workspace/images/collectedimages/labels\\drowsy_original_drowsy.ff0343db-d8d9-11ec-964b-086ac5628e63.jpg_32264a62-dfde-4f0f-a920-9a39ed468bf6.xml\n",
      "Image:D:\\DrowsinessDetection\\Tensorflow\\workspace\\images\\collectedimages\\labels\\drowsy_original_drowsy.ff0343db-d8d9-11ec-964b-086ac5628e63.jpg_32264a62-dfde-4f0f-a920-9a39ed468bf6.jpg -> Annotation:D:/DrowsinessDetection/Tensorflow/workspace/images/collectedimages/labels\\drowsy_original_drowsy.ff0343db-d8d9-11ec-964b-086ac5628e63.jpg_32264a62-dfde-4f0f-a920-9a39ed468bf6.xml\n",
      "Image:D:\\DrowsinessDetection\\Tensorflow\\workspace\\images\\collectedimages\\labels\\drowsy_original_drowsy.ff0343db-d8d9-11ec-964b-086ac5628e63.jpg_40524f88-3095-4765-a488-fc6d6eb89c89.jpg -> Annotation:D:/DrowsinessDetection/Tensorflow/workspace/images/collectedimages/labels\\drowsy_original_drowsy.ff0343db-d8d9-11ec-964b-086ac5628e63.jpg_40524f88-3095-4765-a488-fc6d6eb89c89.xml\n",
      "Image:D:\\DrowsinessDetection\\Tensorflow\\workspace\\images\\collectedimages\\labels\\drowsy_original_drowsy.ff0343db-d8d9-11ec-964b-086ac5628e63.jpg_40524f88-3095-4765-a488-fc6d6eb89c89.jpg -> Annotation:D:/DrowsinessDetection/Tensorflow/workspace/images/collectedimages/labels\\drowsy_original_drowsy.ff0343db-d8d9-11ec-964b-086ac5628e63.jpg_40524f88-3095-4765-a488-fc6d6eb89c89.xml\n",
      "Image:D:\\DrowsinessDetection\\Tensorflow\\workspace\\images\\collectedimages\\labels\\drowsy_original_drowsy.ff0343db-d8d9-11ec-964b-086ac5628e63.jpg_64117b8b-4d09-41fa-8b4e-341f2fb94316.jpg -> Annotation:D:/DrowsinessDetection/Tensorflow/workspace/images/collectedimages/labels\\drowsy_original_drowsy.ff0343db-d8d9-11ec-964b-086ac5628e63.jpg_64117b8b-4d09-41fa-8b4e-341f2fb94316.xml\n",
      "Image:D:\\DrowsinessDetection\\Tensorflow\\workspace\\images\\collectedimages\\labels\\drowsy_original_drowsy.ff0343db-d8d9-11ec-964b-086ac5628e63.jpg_64117b8b-4d09-41fa-8b4e-341f2fb94316.jpg -> Annotation:D:/DrowsinessDetection/Tensorflow/workspace/images/collectedimages/labels\\drowsy_original_drowsy.ff0343db-d8d9-11ec-964b-086ac5628e63.jpg_64117b8b-4d09-41fa-8b4e-341f2fb94316.xml\n",
      "Image:D:\\DrowsinessDetection\\Tensorflow\\workspace\\images\\collectedimages\\labels\\drowsy_original_drowsy.ff0343db-d8d9-11ec-964b-086ac5628e63.jpg_80655e34-3a31-49ff-a893-ea06ed936744.jpg -> Annotation:D:/DrowsinessDetection/Tensorflow/workspace/images/collectedimages/labels\\drowsy_original_drowsy.ff0343db-d8d9-11ec-964b-086ac5628e63.jpg_80655e34-3a31-49ff-a893-ea06ed936744.xml\n",
      "Image:D:\\DrowsinessDetection\\Tensorflow\\workspace\\images\\collectedimages\\labels\\drowsy_original_drowsy.ff0343db-d8d9-11ec-964b-086ac5628e63.jpg_80779af3-2c5f-4d87-8be9-ee7ffba41ed7.jpg -> Annotation:D:/DrowsinessDetection/Tensorflow/workspace/images/collectedimages/labels\\drowsy_original_drowsy.ff0343db-d8d9-11ec-964b-086ac5628e63.jpg_80779af3-2c5f-4d87-8be9-ee7ffba41ed7.xml\n",
      "Image:D:\\DrowsinessDetection\\Tensorflow\\workspace\\images\\collectedimages\\labels\\drowsy_original_drowsy.ff0343db-d8d9-11ec-964b-086ac5628e63.jpg_268499ac-06a0-4cbc-9cdd-e56bfb62f0d2.jpg -> Annotation:D:/DrowsinessDetection/Tensorflow/workspace/images/collectedimages/labels\\drowsy_original_drowsy.ff0343db-d8d9-11ec-964b-086ac5628e63.jpg_268499ac-06a0-4cbc-9cdd-e56bfb62f0d2.xml\n",
      "Image:D:\\DrowsinessDetection\\Tensorflow\\workspace\\images\\collectedimages\\labels\\drowsy_original_drowsy.ff0343db-d8d9-11ec-964b-086ac5628e63.jpg_337798d7-88bd-4e74-8978-de75b41c4d2e.jpg -> Annotation:D:/DrowsinessDetection/Tensorflow/workspace/images/collectedimages/labels\\drowsy_original_drowsy.ff0343db-d8d9-11ec-964b-086ac5628e63.jpg_337798d7-88bd-4e74-8978-de75b41c4d2e.xml\n",
      "Image:D:\\DrowsinessDetection\\Tensorflow\\workspace\\images\\collectedimages\\labels\\drowsy_original_drowsy.ff0343db-d8d9-11ec-964b-086ac5628e63.jpg_425726a0-ed4e-4532-97d2-a6ae4d2d7274.jpg -> Annotation:D:/DrowsinessDetection/Tensorflow/workspace/images/collectedimages/labels\\drowsy_original_drowsy.ff0343db-d8d9-11ec-964b-086ac5628e63.jpg_425726a0-ed4e-4532-97d2-a6ae4d2d7274.xml\n",
      "Image:D:\\DrowsinessDetection\\Tensorflow\\workspace\\images\\collectedimages\\labels\\drowsy_original_drowsy.ff0343db-d8d9-11ec-964b-086ac5628e63.jpg_427014d7-1445-49ec-aa89-38838c3e8ab0.jpg -> Annotation:D:/DrowsinessDetection/Tensorflow/workspace/images/collectedimages/labels\\drowsy_original_drowsy.ff0343db-d8d9-11ec-964b-086ac5628e63.jpg_427014d7-1445-49ec-aa89-38838c3e8ab0.xml\n",
      "Image:D:\\DrowsinessDetection\\Tensorflow\\workspace\\images\\collectedimages\\labels\\drowsy_original_drowsy.ff0343db-d8d9-11ec-964b-086ac5628e63.jpg_512295c7-c2ad-4b71-95a7-d9a7afbcd1aa.jpg -> Annotation:D:/DrowsinessDetection/Tensorflow/workspace/images/collectedimages/labels\\drowsy_original_drowsy.ff0343db-d8d9-11ec-964b-086ac5628e63.jpg_512295c7-c2ad-4b71-95a7-d9a7afbcd1aa.xml\n",
      "Image:D:\\DrowsinessDetection\\Tensorflow\\workspace\\images\\collectedimages\\labels\\drowsy_original_drowsy.ff0343db-d8d9-11ec-964b-086ac5628e63.jpg_512295c7-c2ad-4b71-95a7-d9a7afbcd1aa.jpg -> Annotation:D:/DrowsinessDetection/Tensorflow/workspace/images/collectedimages/labels\\drowsy_original_drowsy.ff0343db-d8d9-11ec-964b-086ac5628e63.jpg_512295c7-c2ad-4b71-95a7-d9a7afbcd1aa.xml\n",
      "Image:D:\\DrowsinessDetection\\Tensorflow\\workspace\\images\\collectedimages\\labels\\drowsy_original_drowsy.ff0343db-d8d9-11ec-964b-086ac5628e63.jpg_2662359e-4821-44de-94ce-242186fcf8e3.jpg -> Annotation:D:/DrowsinessDetection/Tensorflow/workspace/images/collectedimages/labels\\drowsy_original_drowsy.ff0343db-d8d9-11ec-964b-086ac5628e63.jpg_2662359e-4821-44de-94ce-242186fcf8e3.xml\n",
      "Image:D:\\DrowsinessDetection\\Tensorflow\\workspace\\images\\collectedimages\\labels\\drowsy_original_drowsy.ff0343db-d8d9-11ec-964b-086ac5628e63.jpg_2662359e-4821-44de-94ce-242186fcf8e3.jpg -> Annotation:D:/DrowsinessDetection/Tensorflow/workspace/images/collectedimages/labels\\drowsy_original_drowsy.ff0343db-d8d9-11ec-964b-086ac5628e63.jpg_2662359e-4821-44de-94ce-242186fcf8e3.xml\n",
      "Image:D:\\DrowsinessDetection\\Tensorflow\\workspace\\images\\collectedimages\\labels\\drowsy_original_drowsy.ff0343db-d8d9-11ec-964b-086ac5628e63.jpg_7598175c-ba5f-4b2c-8ab8-d4edb5ad38bf.jpg -> Annotation:D:/DrowsinessDetection/Tensorflow/workspace/images/collectedimages/labels\\drowsy_original_drowsy.ff0343db-d8d9-11ec-964b-086ac5628e63.jpg_7598175c-ba5f-4b2c-8ab8-d4edb5ad38bf.xml\n",
      "Image:D:\\DrowsinessDetection\\Tensorflow\\workspace\\images\\collectedimages\\labels\\drowsy_original_drowsy.ff0343db-d8d9-11ec-964b-086ac5628e63.jpg_7598175c-ba5f-4b2c-8ab8-d4edb5ad38bf.jpg -> Annotation:D:/DrowsinessDetection/Tensorflow/workspace/images/collectedimages/labels\\drowsy_original_drowsy.ff0343db-d8d9-11ec-964b-086ac5628e63.jpg_7598175c-ba5f-4b2c-8ab8-d4edb5ad38bf.xml\n",
      "Image:D:\\DrowsinessDetection\\Tensorflow\\workspace\\images\\collectedimages\\labels\\drowsy_original_drowsy.ff0343db-d8d9-11ec-964b-086ac5628e63.jpg_56105623-a29f-4c75-a676-55622c32eca9.jpg -> Annotation:D:/DrowsinessDetection/Tensorflow/workspace/images/collectedimages/labels\\drowsy_original_drowsy.ff0343db-d8d9-11ec-964b-086ac5628e63.jpg_56105623-a29f-4c75-a676-55622c32eca9.xml\n",
      "Image:D:\\DrowsinessDetection\\Tensorflow\\workspace\\images\\collectedimages\\labels\\drowsy_original_drowsy.ff0343db-d8d9-11ec-964b-086ac5628e63.jpg_56105623-a29f-4c75-a676-55622c32eca9.jpg -> Annotation:D:/DrowsinessDetection/Tensorflow/workspace/images/collectedimages/labels\\drowsy_original_drowsy.ff0343db-d8d9-11ec-964b-086ac5628e63.jpg_56105623-a29f-4c75-a676-55622c32eca9.xml\n",
      "Image:D:\\DrowsinessDetection\\Tensorflow\\workspace\\images\\collectedimages\\labels\\drowsy_original_drowsy.ff0343db-d8d9-11ec-964b-086ac5628e63.jpg_95326456-fd42-4ca5-a06f-8119aa53c379.jpg -> Annotation:D:/DrowsinessDetection/Tensorflow/workspace/images/collectedimages/labels\\drowsy_original_drowsy.ff0343db-d8d9-11ec-964b-086ac5628e63.jpg_95326456-fd42-4ca5-a06f-8119aa53c379.xml\n",
      "Image:D:\\DrowsinessDetection\\Tensorflow\\workspace\\images\\collectedimages\\labels\\drowsy_original_drowsy.ff0343db-d8d9-11ec-964b-086ac5628e63.jpg_a2ac2123-8fdf-49a2-97c4-72cbb9d4ff81.jpg -> Annotation:D:/DrowsinessDetection/Tensorflow/workspace/images/collectedimages/labels\\drowsy_original_drowsy.ff0343db-d8d9-11ec-964b-086ac5628e63.jpg_a2ac2123-8fdf-49a2-97c4-72cbb9d4ff81.xml\n",
      "Image:D:\\DrowsinessDetection\\Tensorflow\\workspace\\images\\collectedimages\\labels\\drowsy_original_drowsy.ff0343db-d8d9-11ec-964b-086ac5628e63.jpg_a49b0604-8793-4f8d-9487-42f4bdd298df.jpg -> Annotation:D:/DrowsinessDetection/Tensorflow/workspace/images/collectedimages/labels\\drowsy_original_drowsy.ff0343db-d8d9-11ec-964b-086ac5628e63.jpg_a49b0604-8793-4f8d-9487-42f4bdd298df.xml\n",
      "Image:D:\\DrowsinessDetection\\Tensorflow\\workspace\\images\\collectedimages\\labels\\drowsy_original_drowsy.ff0343db-d8d9-11ec-964b-086ac5628e63.jpg_a49b0604-8793-4f8d-9487-42f4bdd298df.jpg -> Annotation:D:/DrowsinessDetection/Tensorflow/workspace/images/collectedimages/labels\\drowsy_original_drowsy.ff0343db-d8d9-11ec-964b-086ac5628e63.jpg_a49b0604-8793-4f8d-9487-42f4bdd298df.xml\n",
      "Image:D:\\DrowsinessDetection\\Tensorflow\\workspace\\images\\collectedimages\\labels\\drowsy_original_drowsy.ff0343db-d8d9-11ec-964b-086ac5628e63.jpg_a53503de-32b0-475b-b080-3f1b2c6242e3.jpg -> Annotation:D:/DrowsinessDetection/Tensorflow/workspace/images/collectedimages/labels\\drowsy_original_drowsy.ff0343db-d8d9-11ec-964b-086ac5628e63.jpg_a53503de-32b0-475b-b080-3f1b2c6242e3.xml\n",
      "Image:D:\\DrowsinessDetection\\Tensorflow\\workspace\\images\\collectedimages\\labels\\drowsy_original_drowsy.ff0343db-d8d9-11ec-964b-086ac5628e63.jpg_a53503de-32b0-475b-b080-3f1b2c6242e3.jpg -> Annotation:D:/DrowsinessDetection/Tensorflow/workspace/images/collectedimages/labels\\drowsy_original_drowsy.ff0343db-d8d9-11ec-964b-086ac5628e63.jpg_a53503de-32b0-475b-b080-3f1b2c6242e3.xml\n",
      "Image:D:\\DrowsinessDetection\\Tensorflow\\workspace\\images\\collectedimages\\labels\\drowsy_original_drowsy.ff0343db-d8d9-11ec-964b-086ac5628e63.jpg_f213358e-6d66-4afd-958f-1f0fd3221c8a.jpg -> Annotation:D:/DrowsinessDetection/Tensorflow/workspace/images/collectedimages/labels\\drowsy_original_drowsy.ff0343db-d8d9-11ec-964b-086ac5628e63.jpg_f213358e-6d66-4afd-958f-1f0fd3221c8a.xml\n",
      "Image:D:\\DrowsinessDetection\\Tensorflow\\workspace\\images\\collectedimages\\labels\\drowsy_original_drowsy.ff0343db-d8d9-11ec-964b-086ac5628e63.jpg_f213358e-6d66-4afd-958f-1f0fd3221c8a.jpg -> Annotation:D:/DrowsinessDetection/Tensorflow/workspace/images/collectedimages/labels\\drowsy_original_drowsy.ff0343db-d8d9-11ec-964b-086ac5628e63.jpg_f213358e-6d66-4afd-958f-1f0fd3221c8a.xml\n",
      "Image:D:\\DrowsinessDetection\\Tensorflow\\workspace\\images\\collectedimages\\labels\\drowsy_original_drowsy.ff0343db-d8d9-11ec-964b-086ac5628e63.jpg_f41014f1-5d6a-43fd-962e-6d66895ade64.jpg -> Annotation:D:/DrowsinessDetection/Tensorflow/workspace/images/collectedimages/labels\\drowsy_original_drowsy.ff0343db-d8d9-11ec-964b-086ac5628e63.jpg_f41014f1-5d6a-43fd-962e-6d66895ade64.xml\n",
      "Image:D:\\DrowsinessDetection\\Tensorflow\\workspace\\images\\collectedimages\\labels\\drowsy_original_drowsy.ff0343db-d8d9-11ec-964b-086ac5628e63.jpg_f640c2d9-319c-4900-8acd-853dc6b9c86e.jpg -> Annotation:D:/DrowsinessDetection/Tensorflow/workspace/images/collectedimages/labels\\drowsy_original_drowsy.ff0343db-d8d9-11ec-964b-086ac5628e63.jpg_f640c2d9-319c-4900-8acd-853dc6b9c86e.xml\n",
      "Image:D:\\DrowsinessDetection\\Tensorflow\\workspace\\images\\collectedimages\\labels\\drowsy_original_drowsy.ff0343db-d8d9-11ec-964b-086ac5628e63.jpg_337798d7-88bd-4e74-8978-de75b41c4d2e.jpg -> Annotation:D:/DrowsinessDetection/Tensorflow/workspace/images/collectedimages/labels\\drowsy_original_drowsy.ff0343db-d8d9-11ec-964b-086ac5628e63.jpg_337798d7-88bd-4e74-8978-de75b41c4d2e.xml\n"
     ]
    },
    {
     "name": "stderr",
     "output_type": "stream",
     "text": [
      "D:\\DrowsinessDetection\\Tensorflow\\labelImg\\labelImg.py:210: DeprecationWarning: an integer is required (got type DockWidgetFeatures).  Implicit conversion to integers using __int__ is deprecated, and may be removed in a future version of Python.\n",
      "  self.dock.setFeatures(self.dock.features() ^ self.dock_features)\n"
     ]
    }
   ],
   "source": [
    "!cd Tensorflow/labelImg && python labelImg.py"
   ]
  },
  {
   "cell_type": "markdown",
   "metadata": {
    "tags": []
   },
   "source": [
    "# 2 Review Dataset and Build Image Loading Function"
   ]
  },
  {
   "cell_type": "markdown",
   "metadata": {},
   "source": [
    "### 2.1 Create TF and Dependencies"
   ]
  },
  {
   "cell_type": "code",
   "execution_count": 30,
   "metadata": {
    "tags": []
   },
   "outputs": [],
   "source": [
    "import tensorflow as tf"
   ]
  },
  {
   "cell_type": "markdown",
   "metadata": {},
   "source": [
    "### 2.2 Limit GPU Memory Growth"
   ]
  },
  {
   "cell_type": "code",
   "execution_count": 31,
   "metadata": {
    "tags": []
   },
   "outputs": [],
   "source": [
    "# Avoid OOM errors by setting GPU Memory Consumption Growth\n",
    "gpus = tf.config.experimental.list_physical_devices('GPU')\n",
    "for gpu in gpus: \n",
    "    tf.config.experimental.set_memory_growth(gpu, True)"
   ]
  },
  {
   "cell_type": "code",
   "execution_count": 32,
   "metadata": {
    "tags": []
   },
   "outputs": [],
   "source": [
    "tf.config.experimental.set_memory_growth(gpu, True)"
   ]
  },
  {
   "cell_type": "code",
   "execution_count": 33,
   "metadata": {
    "tags": []
   },
   "outputs": [
    {
     "data": {
      "text/plain": [
       "[PhysicalDevice(name='/physical_device:GPU:0', device_type='GPU')]"
      ]
     },
     "execution_count": 33,
     "metadata": {},
     "output_type": "execute_result"
    }
   ],
   "source": [
    "tf.config.list_physical_devices('GPU')"
   ]
  },
  {
   "cell_type": "markdown",
   "metadata": {
    "tags": []
   },
   "source": [
    "# 3. Partition Augmented Data"
   ]
  },
  {
   "cell_type": "code",
   "execution_count": 28,
   "metadata": {
    "tags": []
   },
   "outputs": [
    {
     "data": {
      "text/plain": [
       "21600.0"
      ]
     },
     "execution_count": 28,
     "metadata": {},
     "output_type": "execute_result"
    }
   ],
   "source": [
    "24000*.9 # 10800 images + labels to train"
   ]
  },
  {
   "cell_type": "code",
   "execution_count": 29,
   "metadata": {
    "tags": []
   },
   "outputs": [
    {
     "data": {
      "text/plain": [
       "2400.0"
      ]
     },
     "execution_count": 29,
     "metadata": {},
     "output_type": "execute_result"
    }
   ],
   "source": [
    "24000*.1 # 1200 images + labels to test"
   ]
  },
  {
   "cell_type": "markdown",
   "metadata": {
    "tags": []
   },
   "source": [
    "# 4. Setup Paths for Training and Evaluation"
   ]
  },
  {
   "cell_type": "markdown",
   "metadata": {},
   "source": [
    "### 4.1 Setup"
   ]
  },
  {
   "cell_type": "code",
   "execution_count": 77,
   "metadata": {
    "tags": []
   },
   "outputs": [],
   "source": [
    "WORKSPACE_PATH = 'Tensorflow/workspace'\n",
    "SCRIPTS_PATH = 'Tensorflow/scripts'\n",
    "APIMODEL_PATH = 'Tensorflow/models'\n",
    "ANNOTATION_PATH = WORKSPACE_PATH+'/annotations'\n",
    "IMAGE_PATH = WORKSPACE_PATH+'/images'\n",
    "MODEL_PATH = WORKSPACE_PATH+'/models'\n",
    "PRETRAINED_MODEL_PATH = WORKSPACE_PATH+'/pre-trained-models'\n",
    "CONFIG_PATH = MODEL_PATH+'/my_ssd_mobnet/pipeline.config'\n",
    "CHECKPOINT_PATH = MODEL_PATH+'/my_ssd_mobnet/'"
   ]
  },
  {
   "cell_type": "markdown",
   "metadata": {
    "tags": []
   },
   "source": [
    "### 4.2 Create Label Map"
   ]
  },
  {
   "cell_type": "code",
   "execution_count": 78,
   "metadata": {
    "tags": []
   },
   "outputs": [],
   "source": [
    "labels = [{'name':'awake', 'id':1}, {'name':'drowsy', 'id':2}]\n",
    "\n",
    "with open(ANNOTATION_PATH + '\\label_map.pbtxt', 'w') as f:\n",
    "    for label in labels:\n",
    "        f.write('item { \\n')\n",
    "        f.write('\\tname:\\'{}\\'\\n'.format(label['name']))\n",
    "        f.write('\\tid:{}\\n'.format(label['id']))\n",
    "        f.write('}\\n')"
   ]
  },
  {
   "cell_type": "markdown",
   "metadata": {
    "tags": []
   },
   "source": [
    "### 4.3 Create TF records"
   ]
  },
  {
   "cell_type": "code",
   "execution_count": 36,
   "metadata": {
    "tags": []
   },
   "outputs": [
    {
     "name": "stdout",
     "output_type": "stream",
     "text": [
      "Successfully created the TFRecord file: Tensorflow/workspace/annotations/train.record\n"
     ]
    }
   ],
   "source": [
    "!python {SCRIPTS_PATH + '/generate_tfrecord.py'} -x {IMAGE_PATH + '/train'} -l {ANNOTATION_PATH + '/label_map.pbtxt'} -o {ANNOTATION_PATH + '/train.record'}"
   ]
  },
  {
   "cell_type": "code",
   "execution_count": 37,
   "metadata": {
    "tags": []
   },
   "outputs": [
    {
     "name": "stdout",
     "output_type": "stream",
     "text": [
      "Successfully created the TFRecord file: Tensorflow/workspace/annotations/test.record\n"
     ]
    }
   ],
   "source": [
    "!python {SCRIPTS_PATH + '/generate_tfrecord.py'} -x{IMAGE_PATH + '/test'} -l {ANNOTATION_PATH + '/label_map.pbtxt'} -o {ANNOTATION_PATH + '/test.record'}"
   ]
  },
  {
   "cell_type": "markdown",
   "metadata": {
    "tags": []
   },
   "source": [
    "### 4.4 Download TF Models Pretrained Models from Tensorflow Model Zoo"
   ]
  },
  {
   "cell_type": "code",
   "execution_count": 79,
   "metadata": {
    "tags": []
   },
   "outputs": [
    {
     "name": "stderr",
     "output_type": "stream",
     "text": [
      "fatal: destination path 'models' already exists and is not an empty directory.\n"
     ]
    }
   ],
   "source": [
    "!cd Tensorflow && git clone https://github.com/tensorflow/models"
   ]
  },
  {
   "cell_type": "code",
   "execution_count": null,
   "metadata": {
    "tags": []
   },
   "outputs": [],
   "source": [
    "# !pip install wget"
   ]
  },
  {
   "cell_type": "code",
   "execution_count": null,
   "metadata": {
    "tags": []
   },
   "outputs": [],
   "source": [
    "# import wget"
   ]
  },
  {
   "cell_type": "code",
   "execution_count": null,
   "metadata": {
    "tags": []
   },
   "outputs": [],
   "source": [
    "# wget.download('http://download.tensorflow.org/models/object_detection/tf2/20200711/ssd_mobilenet_v2_fpnlite_320x320_coco17_tpu-8.tar.gz')\n",
    "# !mv ssd_mobilenet_v2_fpnlite_320x320_coco17_tpu-8.tar.gz {PRETRAINED_MODEL_PATH}\n",
    "# !cd {PRETRAINED_MODEL_PATH} && tar -zxvf ssd_mobilenet_v2_fpnlite_320x320_coco17_tpu-8.tar.gz"
   ]
  },
  {
   "cell_type": "markdown",
   "metadata": {
    "tags": []
   },
   "source": [
    "### 4.5 Copy Model Config to Training Folder"
   ]
  },
  {
   "cell_type": "code",
   "execution_count": 80,
   "metadata": {
    "tags": []
   },
   "outputs": [],
   "source": [
    "CUSTOM_MODEL_NAME = 'my_ssd_mobnet'"
   ]
  },
  {
   "cell_type": "code",
   "execution_count": 81,
   "metadata": {
    "tags": []
   },
   "outputs": [
    {
     "name": "stderr",
     "output_type": "stream",
     "text": [
      "A subdirectory or file Tensorflow\\workspace\\models\\my_ssd_mobnet already exists.\n"
     ]
    }
   ],
   "source": [
    "!mkdir {'Tensorflow\\workspace\\models\\\\'+CUSTOM_MODEL_NAME}\n",
    "!cp {PRETRAINED_MODEL_PATH+'/ssd_mobilenet_v2_fpnlite_320x320_coco17_tpu-8/pipeline.config'} {MODEL_PATH+'/'+CUSTOM_MODEL_NAME}"
   ]
  },
  {
   "cell_type": "markdown",
   "metadata": {
    "tags": []
   },
   "source": [
    "### 4.6 Update Config For Transfer Learning"
   ]
  },
  {
   "cell_type": "code",
   "execution_count": 82,
   "metadata": {
    "tags": []
   },
   "outputs": [],
   "source": [
    "import tensorflow as tf\n",
    "from object_detection.utils import config_util\n",
    "from object_detection.protos import pipeline_pb2\n",
    "from google.protobuf import text_format"
   ]
  },
  {
   "cell_type": "code",
   "execution_count": 83,
   "metadata": {
    "tags": []
   },
   "outputs": [],
   "source": [
    "CONFIG_PATH = MODEL_PATH+'/'+CUSTOM_MODEL_NAME+'/pipeline.config'"
   ]
  },
  {
   "cell_type": "code",
   "execution_count": 84,
   "metadata": {
    "tags": []
   },
   "outputs": [],
   "source": [
    "config = config_util.get_configs_from_pipeline_file(CONFIG_PATH)"
   ]
  },
  {
   "cell_type": "code",
   "execution_count": 85,
   "metadata": {
    "collapsed": true,
    "jupyter": {
     "outputs_hidden": true
    },
    "tags": []
   },
   "outputs": [
    {
     "data": {
      "text/plain": [
       "{'model': ssd {\n",
       "   num_classes: 90\n",
       "   image_resizer {\n",
       "     fixed_shape_resizer {\n",
       "       height: 320\n",
       "       width: 320\n",
       "     }\n",
       "   }\n",
       "   feature_extractor {\n",
       "     type: \"ssd_mobilenet_v2_fpn_keras\"\n",
       "     depth_multiplier: 1.0\n",
       "     min_depth: 16\n",
       "     conv_hyperparams {\n",
       "       regularizer {\n",
       "         l2_regularizer {\n",
       "           weight: 4e-05\n",
       "         }\n",
       "       }\n",
       "       initializer {\n",
       "         random_normal_initializer {\n",
       "           mean: 0.0\n",
       "           stddev: 0.01\n",
       "         }\n",
       "       }\n",
       "       activation: RELU_6\n",
       "       batch_norm {\n",
       "         decay: 0.997\n",
       "         scale: true\n",
       "         epsilon: 0.001\n",
       "       }\n",
       "     }\n",
       "     use_depthwise: true\n",
       "     override_base_feature_extractor_hyperparams: true\n",
       "     fpn {\n",
       "       min_level: 3\n",
       "       max_level: 7\n",
       "       additional_layer_depth: 128\n",
       "     }\n",
       "   }\n",
       "   box_coder {\n",
       "     faster_rcnn_box_coder {\n",
       "       y_scale: 10.0\n",
       "       x_scale: 10.0\n",
       "       height_scale: 5.0\n",
       "       width_scale: 5.0\n",
       "     }\n",
       "   }\n",
       "   matcher {\n",
       "     argmax_matcher {\n",
       "       matched_threshold: 0.5\n",
       "       unmatched_threshold: 0.5\n",
       "       ignore_thresholds: false\n",
       "       negatives_lower_than_unmatched: true\n",
       "       force_match_for_each_row: true\n",
       "       use_matmul_gather: true\n",
       "     }\n",
       "   }\n",
       "   similarity_calculator {\n",
       "     iou_similarity {\n",
       "     }\n",
       "   }\n",
       "   box_predictor {\n",
       "     weight_shared_convolutional_box_predictor {\n",
       "       conv_hyperparams {\n",
       "         regularizer {\n",
       "           l2_regularizer {\n",
       "             weight: 4e-05\n",
       "           }\n",
       "         }\n",
       "         initializer {\n",
       "           random_normal_initializer {\n",
       "             mean: 0.0\n",
       "             stddev: 0.01\n",
       "           }\n",
       "         }\n",
       "         activation: RELU_6\n",
       "         batch_norm {\n",
       "           decay: 0.997\n",
       "           scale: true\n",
       "           epsilon: 0.001\n",
       "         }\n",
       "       }\n",
       "       depth: 128\n",
       "       num_layers_before_predictor: 4\n",
       "       kernel_size: 3\n",
       "       class_prediction_bias_init: -4.6\n",
       "       share_prediction_tower: true\n",
       "       use_depthwise: true\n",
       "     }\n",
       "   }\n",
       "   anchor_generator {\n",
       "     multiscale_anchor_generator {\n",
       "       min_level: 3\n",
       "       max_level: 7\n",
       "       anchor_scale: 4.0\n",
       "       aspect_ratios: 1.0\n",
       "       aspect_ratios: 2.0\n",
       "       aspect_ratios: 0.5\n",
       "       scales_per_octave: 2\n",
       "     }\n",
       "   }\n",
       "   post_processing {\n",
       "     batch_non_max_suppression {\n",
       "       score_threshold: 1e-08\n",
       "       iou_threshold: 0.6\n",
       "       max_detections_per_class: 100\n",
       "       max_total_detections: 100\n",
       "       use_static_shapes: false\n",
       "     }\n",
       "     score_converter: SIGMOID\n",
       "   }\n",
       "   normalize_loss_by_num_matches: true\n",
       "   loss {\n",
       "     localization_loss {\n",
       "       weighted_smooth_l1 {\n",
       "       }\n",
       "     }\n",
       "     classification_loss {\n",
       "       weighted_sigmoid_focal {\n",
       "         gamma: 2.0\n",
       "         alpha: 0.25\n",
       "       }\n",
       "     }\n",
       "     classification_weight: 1.0\n",
       "     localization_weight: 1.0\n",
       "   }\n",
       "   encode_background_as_zeros: true\n",
       "   normalize_loc_loss_by_codesize: true\n",
       "   inplace_batchnorm_update: true\n",
       "   freeze_batchnorm: false\n",
       " },\n",
       " 'train_config': batch_size: 128\n",
       " data_augmentation_options {\n",
       "   random_horizontal_flip {\n",
       "   }\n",
       " }\n",
       " data_augmentation_options {\n",
       "   random_crop_image {\n",
       "     min_object_covered: 0.0\n",
       "     min_aspect_ratio: 0.75\n",
       "     max_aspect_ratio: 3.0\n",
       "     min_area: 0.75\n",
       "     max_area: 1.0\n",
       "     overlap_thresh: 0.0\n",
       "   }\n",
       " }\n",
       " sync_replicas: true\n",
       " optimizer {\n",
       "   momentum_optimizer {\n",
       "     learning_rate {\n",
       "       cosine_decay_learning_rate {\n",
       "         learning_rate_base: 0.08\n",
       "         total_steps: 50000\n",
       "         warmup_learning_rate: 0.026666\n",
       "         warmup_steps: 1000\n",
       "       }\n",
       "     }\n",
       "     momentum_optimizer_value: 0.9\n",
       "   }\n",
       "   use_moving_average: false\n",
       " }\n",
       " fine_tune_checkpoint: \"PATH_TO_BE_CONFIGURED\"\n",
       " num_steps: 50000\n",
       " startup_delay_steps: 0.0\n",
       " replicas_to_aggregate: 8\n",
       " max_number_of_boxes: 100\n",
       " unpad_groundtruth_tensors: false\n",
       " fine_tune_checkpoint_type: \"classification\"\n",
       " fine_tune_checkpoint_version: V2,\n",
       " 'train_input_config': label_map_path: \"PATH_TO_BE_CONFIGURED\"\n",
       " tf_record_input_reader {\n",
       "   input_path: \"PATH_TO_BE_CONFIGURED\"\n",
       " },\n",
       " 'eval_config': metrics_set: \"coco_detection_metrics\"\n",
       " use_moving_averages: false,\n",
       " 'eval_input_configs': [label_map_path: \"PATH_TO_BE_CONFIGURED\"\n",
       " shuffle: false\n",
       " num_epochs: 1\n",
       " tf_record_input_reader {\n",
       "   input_path: \"PATH_TO_BE_CONFIGURED\"\n",
       " }\n",
       " ],\n",
       " 'eval_input_config': label_map_path: \"PATH_TO_BE_CONFIGURED\"\n",
       " shuffle: false\n",
       " num_epochs: 1\n",
       " tf_record_input_reader {\n",
       "   input_path: \"PATH_TO_BE_CONFIGURED\"\n",
       " }}"
      ]
     },
     "execution_count": 85,
     "metadata": {},
     "output_type": "execute_result"
    }
   ],
   "source": [
    "config"
   ]
  },
  {
   "cell_type": "code",
   "execution_count": 86,
   "metadata": {
    "tags": []
   },
   "outputs": [],
   "source": [
    "pipeline_config = pipeline_pb2.TrainEvalPipelineConfig()\n",
    "with tf.io.gfile.GFile(CONFIG_PATH, \"r\") as f:                                                                                                                                                                                                                     \n",
    "    proto_str = f.read()                                                                                                                                                                                                                                          \n",
    "    text_format.Merge(proto_str, pipeline_config)  "
   ]
  },
  {
   "cell_type": "code",
   "execution_count": 87,
   "metadata": {
    "tags": []
   },
   "outputs": [],
   "source": [
    "pipeline_config.model.ssd.num_classes = 2\n",
    "pipeline_config.train_config.batch_size = 4\n",
    "pipeline_config.train_config.fine_tune_checkpoint = PRETRAINED_MODEL_PATH+'/ssd_mobilenet_v2_fpnlite_320x320_coco17_tpu-8/checkpoint/ckpt-0'\n",
    "pipeline_config.train_config.fine_tune_checkpoint_type = \"detection\"\n",
    "pipeline_config.train_input_reader.label_map_path= ANNOTATION_PATH + '/label_map.pbtxt'\n",
    "pipeline_config.train_input_reader.tf_record_input_reader.input_path[:] = [ANNOTATION_PATH + '/train.record']\n",
    "pipeline_config.eval_input_reader[0].label_map_path = ANNOTATION_PATH + '/label_map.pbtxt'\n",
    "pipeline_config.eval_input_reader[0].tf_record_input_reader.input_path[:] = [ANNOTATION_PATH + '/test.record']"
   ]
  },
  {
   "cell_type": "code",
   "execution_count": 88,
   "metadata": {
    "tags": []
   },
   "outputs": [],
   "source": [
    "config_text = text_format.MessageToString(pipeline_config)                                                                                                                                                                                                        \n",
    "with tf.io.gfile.GFile(CONFIG_PATH, \"wb\") as f:                                                                                                                                                                                                                     \n",
    "    f.write(config_text)   "
   ]
  },
  {
   "cell_type": "code",
   "execution_count": 89,
   "metadata": {
    "collapsed": true,
    "jupyter": {
     "outputs_hidden": true
    },
    "tags": []
   },
   "outputs": [
    {
     "data": {
      "text/plain": [
       "model {\n",
       "  ssd {\n",
       "    num_classes: 2\n",
       "    image_resizer {\n",
       "      fixed_shape_resizer {\n",
       "        height: 320\n",
       "        width: 320\n",
       "      }\n",
       "    }\n",
       "    feature_extractor {\n",
       "      type: \"ssd_mobilenet_v2_fpn_keras\"\n",
       "      depth_multiplier: 1.0\n",
       "      min_depth: 16\n",
       "      conv_hyperparams {\n",
       "        regularizer {\n",
       "          l2_regularizer {\n",
       "            weight: 4e-05\n",
       "          }\n",
       "        }\n",
       "        initializer {\n",
       "          random_normal_initializer {\n",
       "            mean: 0.0\n",
       "            stddev: 0.01\n",
       "          }\n",
       "        }\n",
       "        activation: RELU_6\n",
       "        batch_norm {\n",
       "          decay: 0.997\n",
       "          scale: true\n",
       "          epsilon: 0.001\n",
       "        }\n",
       "      }\n",
       "      use_depthwise: true\n",
       "      override_base_feature_extractor_hyperparams: true\n",
       "      fpn {\n",
       "        min_level: 3\n",
       "        max_level: 7\n",
       "        additional_layer_depth: 128\n",
       "      }\n",
       "    }\n",
       "    box_coder {\n",
       "      faster_rcnn_box_coder {\n",
       "        y_scale: 10.0\n",
       "        x_scale: 10.0\n",
       "        height_scale: 5.0\n",
       "        width_scale: 5.0\n",
       "      }\n",
       "    }\n",
       "    matcher {\n",
       "      argmax_matcher {\n",
       "        matched_threshold: 0.5\n",
       "        unmatched_threshold: 0.5\n",
       "        ignore_thresholds: false\n",
       "        negatives_lower_than_unmatched: true\n",
       "        force_match_for_each_row: true\n",
       "        use_matmul_gather: true\n",
       "      }\n",
       "    }\n",
       "    similarity_calculator {\n",
       "      iou_similarity {\n",
       "      }\n",
       "    }\n",
       "    box_predictor {\n",
       "      weight_shared_convolutional_box_predictor {\n",
       "        conv_hyperparams {\n",
       "          regularizer {\n",
       "            l2_regularizer {\n",
       "              weight: 4e-05\n",
       "            }\n",
       "          }\n",
       "          initializer {\n",
       "            random_normal_initializer {\n",
       "              mean: 0.0\n",
       "              stddev: 0.01\n",
       "            }\n",
       "          }\n",
       "          activation: RELU_6\n",
       "          batch_norm {\n",
       "            decay: 0.997\n",
       "            scale: true\n",
       "            epsilon: 0.001\n",
       "          }\n",
       "        }\n",
       "        depth: 128\n",
       "        num_layers_before_predictor: 4\n",
       "        kernel_size: 3\n",
       "        class_prediction_bias_init: -4.6\n",
       "        share_prediction_tower: true\n",
       "        use_depthwise: true\n",
       "      }\n",
       "    }\n",
       "    anchor_generator {\n",
       "      multiscale_anchor_generator {\n",
       "        min_level: 3\n",
       "        max_level: 7\n",
       "        anchor_scale: 4.0\n",
       "        aspect_ratios: 1.0\n",
       "        aspect_ratios: 2.0\n",
       "        aspect_ratios: 0.5\n",
       "        scales_per_octave: 2\n",
       "      }\n",
       "    }\n",
       "    post_processing {\n",
       "      batch_non_max_suppression {\n",
       "        score_threshold: 1e-08\n",
       "        iou_threshold: 0.6\n",
       "        max_detections_per_class: 100\n",
       "        max_total_detections: 100\n",
       "        use_static_shapes: false\n",
       "      }\n",
       "      score_converter: SIGMOID\n",
       "    }\n",
       "    normalize_loss_by_num_matches: true\n",
       "    loss {\n",
       "      localization_loss {\n",
       "        weighted_smooth_l1 {\n",
       "        }\n",
       "      }\n",
       "      classification_loss {\n",
       "        weighted_sigmoid_focal {\n",
       "          gamma: 2.0\n",
       "          alpha: 0.25\n",
       "        }\n",
       "      }\n",
       "      classification_weight: 1.0\n",
       "      localization_weight: 1.0\n",
       "    }\n",
       "    encode_background_as_zeros: true\n",
       "    normalize_loc_loss_by_codesize: true\n",
       "    inplace_batchnorm_update: true\n",
       "    freeze_batchnorm: false\n",
       "  }\n",
       "}\n",
       "train_config {\n",
       "  batch_size: 4\n",
       "  data_augmentation_options {\n",
       "    random_horizontal_flip {\n",
       "    }\n",
       "  }\n",
       "  data_augmentation_options {\n",
       "    random_crop_image {\n",
       "      min_object_covered: 0.0\n",
       "      min_aspect_ratio: 0.75\n",
       "      max_aspect_ratio: 3.0\n",
       "      min_area: 0.75\n",
       "      max_area: 1.0\n",
       "      overlap_thresh: 0.0\n",
       "    }\n",
       "  }\n",
       "  sync_replicas: true\n",
       "  optimizer {\n",
       "    momentum_optimizer {\n",
       "      learning_rate {\n",
       "        cosine_decay_learning_rate {\n",
       "          learning_rate_base: 0.08\n",
       "          total_steps: 50000\n",
       "          warmup_learning_rate: 0.026666\n",
       "          warmup_steps: 1000\n",
       "        }\n",
       "      }\n",
       "      momentum_optimizer_value: 0.9\n",
       "    }\n",
       "    use_moving_average: false\n",
       "  }\n",
       "  fine_tune_checkpoint: \"Tensorflow/workspace/pre-trained-models/ssd_mobilenet_v2_fpnlite_320x320_coco17_tpu-8/checkpoint/ckpt-0\"\n",
       "  num_steps: 50000\n",
       "  startup_delay_steps: 0.0\n",
       "  replicas_to_aggregate: 8\n",
       "  max_number_of_boxes: 100\n",
       "  unpad_groundtruth_tensors: false\n",
       "  fine_tune_checkpoint_type: \"detection\"\n",
       "  fine_tune_checkpoint_version: V2\n",
       "}\n",
       "train_input_reader {\n",
       "  label_map_path: \"Tensorflow/workspace/annotations/label_map.pbtxt\"\n",
       "  tf_record_input_reader {\n",
       "    input_path: \"Tensorflow/workspace/annotations/train.record\"\n",
       "  }\n",
       "}\n",
       "eval_config {\n",
       "  metrics_set: \"coco_detection_metrics\"\n",
       "  use_moving_averages: false\n",
       "}\n",
       "eval_input_reader {\n",
       "  label_map_path: \"Tensorflow/workspace/annotations/label_map.pbtxt\"\n",
       "  shuffle: false\n",
       "  num_epochs: 1\n",
       "  tf_record_input_reader {\n",
       "    input_path: \"Tensorflow/workspace/annotations/test.record\"\n",
       "  }\n",
       "}"
      ]
     },
     "execution_count": 89,
     "metadata": {},
     "output_type": "execute_result"
    }
   ],
   "source": [
    "pipeline_config"
   ]
  },
  {
   "cell_type": "markdown",
   "metadata": {
    "tags": []
   },
   "source": [
    "# 5. Train the model"
   ]
  },
  {
   "cell_type": "code",
   "execution_count": 90,
   "metadata": {
    "tags": []
   },
   "outputs": [
    {
     "name": "stdout",
     "output_type": "stream",
     "text": [
      "python Tensorflow/models/research/object_detection/model_main_tf2.py --model_dir=Tensorflow/workspace/models/my_ssd_mobnet --pipeline_config_path=Tensorflow/workspace/models/my_ssd_mobnet/pipeline.config --num_train_steps=5000\n"
     ]
    }
   ],
   "source": [
    "print(\"\"\"python {}/research/object_detection/model_main_tf2.py --model_dir={}/{} --pipeline_config_path={}/{}/pipeline.config --num_train_steps=5000\"\"\".format(APIMODEL_PATH, MODEL_PATH,CUSTOM_MODEL_NAME,MODEL_PATH,CUSTOM_MODEL_NAME))"
   ]
  },
  {
   "cell_type": "markdown",
   "metadata": {
    "tags": []
   },
   "source": [
    "# 6. Evaluate the model"
   ]
  },
  {
   "cell_type": "code",
   "execution_count": 91,
   "metadata": {
    "tags": []
   },
   "outputs": [
    {
     "name": "stdout",
     "output_type": "stream",
     "text": [
      "python Tensorflow/models/research/object_detection/model_main_tf2.py --model_dir=Tensorflow/workspace/models/my_ssd_mobnet --pipeline_config_path=Tensorflow/workspace/models/my_ssd_mobnet/pipeline.config --checkpoint_dir=Tensorflow/workspace/models/my_ssd_mobnet\n"
     ]
    }
   ],
   "source": [
    "print(\"\"\"python {}/research/object_detection/model_main_tf2.py --model_dir={}/{} --pipeline_config_path={}/{}/pipeline.config --checkpoint_dir={}/{}\"\"\".format(APIMODEL_PATH, MODEL_PATH,CUSTOM_MODEL_NAME,MODEL_PATH,CUSTOM_MODEL_NAME,MODEL_PATH,CUSTOM_MODEL_NAME))"
   ]
  },
  {
   "cell_type": "markdown",
   "metadata": {
    "tags": []
   },
   "source": [
    "# 7. Load Train Model From Checkpoint"
   ]
  },
  {
   "cell_type": "markdown",
   "metadata": {},
   "source": [
    "### 7.1 Import object_detection and deps"
   ]
  },
  {
   "cell_type": "code",
   "execution_count": 92,
   "metadata": {
    "tags": []
   },
   "outputs": [],
   "source": [
    "import os\n",
    "from object_detection.utils import label_map_util\n",
    "from object_detection.utils import visualization_utils as viz_utils\n",
    "from object_detection.builders import model_builder"
   ]
  },
  {
   "cell_type": "markdown",
   "metadata": {},
   "source": [
    "### 7.2 Load pipeline config and build a detection model"
   ]
  },
  {
   "cell_type": "code",
   "execution_count": 93,
   "metadata": {
    "tags": []
   },
   "outputs": [],
   "source": [
    "configs = config_util.get_configs_from_pipeline_file(CONFIG_PATH)\n",
    "detection_model = model_builder.build(model_config=configs['model'], is_training=False)"
   ]
  },
  {
   "cell_type": "markdown",
   "metadata": {},
   "source": [
    "### 7.3 Restore checkpoint"
   ]
  },
  {
   "cell_type": "code",
   "execution_count": 94,
   "metadata": {
    "tags": []
   },
   "outputs": [
    {
     "data": {
      "text/plain": [
       "<tensorflow.python.training.tracking.util.CheckpointLoadStatus at 0x15757c551c0>"
      ]
     },
     "execution_count": 94,
     "metadata": {},
     "output_type": "execute_result"
    }
   ],
   "source": [
    "ckpt = tf.compat.v2.train.Checkpoint(model=detection_model)\n",
    "ckpt.restore(os.path.join(CHECKPOINT_PATH, 'ckpt-6')).expect_partial()"
   ]
  },
  {
   "cell_type": "code",
   "execution_count": 95,
   "metadata": {},
   "outputs": [],
   "source": [
    "@tf.function\n",
    "def detect_fn(image):\n",
    "    image, shapes = detection_model.preprocess(image)\n",
    "    prediction_dict = detection_model.predict(image, shapes)\n",
    "    detections = detection_model.postprocess(prediction_dict, shapes)\n",
    "    return detections"
   ]
  },
  {
   "cell_type": "markdown",
   "metadata": {
    "tags": []
   },
   "source": [
    "# 8. Detect from An Image"
   ]
  },
  {
   "cell_type": "code",
   "execution_count": 96,
   "metadata": {
    "tags": []
   },
   "outputs": [],
   "source": [
    "# import dependecies\n",
    "import cv2 \n",
    "import numpy as np\n",
    "from matplotlib import pyplot as plt\n",
    "%matplotlib inline"
   ]
  },
  {
   "cell_type": "code",
   "execution_count": 97,
   "metadata": {
    "tags": []
   },
   "outputs": [],
   "source": [
    "category_index = label_map_util.create_category_index_from_labelmap(ANNOTATION_PATH+'/label_map.pbtxt')"
   ]
  },
  {
   "cell_type": "code",
   "execution_count": 98,
   "metadata": {
    "tags": []
   },
   "outputs": [
    {
     "data": {
      "text/plain": [
       "{1: {'id': 1, 'name': 'awake'}, 2: {'id': 2, 'name': 'drowsy'}}"
      ]
     },
     "execution_count": 98,
     "metadata": {},
     "output_type": "execute_result"
    }
   ],
   "source": [
    "category_index"
   ]
  },
  {
   "cell_type": "code",
   "execution_count": 99,
   "metadata": {
    "tags": []
   },
   "outputs": [],
   "source": [
    "IMAGE_PATH = os.path.join(IMAGE_PATH, 'test', 'drowsy_original_drowsy.d40e82be-d8d8-11ec-ad26-086ac5628e63.jpg_e0848eca-ec4e-4d79-afee-463fe21e3201.jpg')"
   ]
  },
  {
   "cell_type": "code",
   "execution_count": 100,
   "metadata": {
    "tags": []
   },
   "outputs": [
    {
     "data": {
      "text/plain": [
       "'Tensorflow/workspace/images\\\\test\\\\drowsy_original_drowsy.d40e82be-d8d8-11ec-ad26-086ac5628e63.jpg_e0848eca-ec4e-4d79-afee-463fe21e3201.jpg'"
      ]
     },
     "execution_count": 100,
     "metadata": {},
     "output_type": "execute_result"
    }
   ],
   "source": [
    "IMAGE_PATH"
   ]
  },
  {
   "cell_type": "code",
   "execution_count": 101,
   "metadata": {
    "tags": []
   },
   "outputs": [
    {
     "data": {
      "image/png": "[encoded data removed]",
      "text/plain": [
       "<Figure size 432x288 with 1 Axes>"
      ]
     },
     "metadata": {
      "needs_background": "light"
     },
     "output_type": "display_data"
    }
   ],
   "source": [
    "img = cv2.imread(IMAGE_PATH)\n",
    "image_np = np.array(img)\n",
    "\n",
    "input_tensor = tf.convert_to_tensor(np.expand_dims(image_np, 0), dtype=tf.float32)\n",
    "detections = detect_fn(input_tensor)\n",
    "\n",
    "num_detections = int(detections.pop('num_detections'))\n",
    "detections = {key: value[0, :num_detections].numpy()\n",
    "              for key, value in detections.items()}\n",
    "detections['num_detections'] = num_detections\n",
    "\n",
    "# detection_classes should be ints.\n",
    "detections['detection_classes'] = detections['detection_classes'].astype(np.int64)\n",
    "\n",
    "label_id_offset = 1\n",
    "image_np_with_detections = image_np.copy()\n",
    "\n",
    "viz_utils.visualize_boxes_and_labels_on_image_array(\n",
    "            image_np_with_detections,\n",
    "            detections['detection_boxes'],\n",
    "            detections['detection_classes']+label_id_offset,\n",
    "            detections['detection_scores'],\n",
    "            category_index,\n",
    "            use_normalized_coordinates=True,\n",
    "            max_boxes_to_draw=1,\n",
    "            min_score_thresh=.5,\n",
    "            agnostic_mode=False)\n",
    "\n",
    "plt.imshow(cv2.cvtColor(image_np_with_detections, cv2.COLOR_BGR2RGB))\n",
    "plt.show()"
   ]
  },
  {
   "cell_type": "markdown",
   "metadata": {
    "tags": []
   },
   "source": [
    "# 9. Detect in Real-Time"
   ]
  },
  {
   "cell_type": "code",
   "execution_count": 102,
   "metadata": {
    "tags": []
   },
   "outputs": [],
   "source": [
    "# Setup capture\n",
    "cap = cv2.VideoCapture(0)\n",
    "width = int(cap.get(cv2.CAP_PROP_FRAME_WIDTH))\n",
    "height = int(cap.get(cv2.CAP_PROP_FRAME_HEIGHT))"
   ]
  },
  {
   "cell_type": "code",
   "execution_count": null,
   "metadata": {
    "tags": []
   },
   "outputs": [],
   "source": [
    "while True: \n",
    "    ret, frame = cap.read()\n",
    "    image_np = np.array(frame)\n",
    "    \n",
    "    input_tensor = tf.convert_to_tensor(np.expand_dims(image_np, 0), dtype=tf.float32)\n",
    "    detections = detect_fn(input_tensor)\n",
    "    \n",
    "    num_detections = int(detections.pop('num_detections'))\n",
    "    detections = {key: value[0, :num_detections].numpy()\n",
    "                  for key, value in detections.items()}\n",
    "    detections['num_detections'] = num_detections\n",
    "\n",
    "    # detection_classes should be ints.\n",
    "    detections['detection_classes'] = detections['detection_classes'].astype(np.int64)\n",
    "\n",
    "    label_id_offset = 1\n",
    "    image_np_with_detections = image_np.copy()\n",
    "\n",
    "    viz_utils.visualize_boxes_and_labels_on_image_array(\n",
    "                image_np_with_detections,\n",
    "                detections['detection_boxes'],\n",
    "                detections['detection_classes']+label_id_offset,\n",
    "                detections['detection_scores'],\n",
    "                category_index,\n",
    "                use_normalized_coordinates=True,\n",
    "                max_boxes_to_draw=5,\n",
    "                min_score_thresh=.5,\n",
    "                agnostic_mode=False)\n",
    "\n",
    "    cv2.imshow('object detection',  cv2.resize(image_np_with_detections, (800, 600)))\n",
    "    \n",
    "    if cv2.waitKey(1) & 0xFF == ord('q'):\n",
    "        cap.release()\n",
    "        break"
   ]
  }
 ],
 "metadata": {
  "kernelspec": {
   "display_name": "Python 3 (ipykernel)",
   "language": "python",
   "name": "python3"
  },
  "language_info": {
   "codemirror_mode": {
    "name": "ipython",
    "version": 3
   },
   "file_extension": ".py",
   "mimetype": "text/x-python",
   "name": "python",
   "nbconvert_exporter": "python",
   "pygments_lexer": "ipython3",
   "version": "3.9.12"
  }
 },
 "nbformat": 4,
 "nbformat_minor": 4
}

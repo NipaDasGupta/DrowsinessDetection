{
 "cells": [
  {
   "cell_type": "markdown",
   "metadata": {
    "tags": []
   },
   "source": [
    "# 1. Setup and Get Data"
   ]
  },
  {
   "cell_type": "markdown",
   "metadata": {
    "tags": []
   },
   "source": [
    "### 1.1 Install Dependencies and Setup"
   ]
  },
  {
   "cell_type": "code",
   "execution_count": 9,
   "metadata": {
    "tags": []
   },
   "outputs": [],
   "source": [
    "# Import opencv\n",
    "import cv2 \n",
    "# Import uuid\n",
    "import uuid\n",
    "# Import Operating System\n",
    "import os\n",
    "# Import time\n",
    "import time"
   ]
  },
  {
   "cell_type": "markdown",
   "metadata": {
    "tags": []
   },
   "source": [
    "### 1.2 Define Images to Collect"
   ]
  },
  {
   "cell_type": "code",
   "execution_count": 3,
   "metadata": {
    "tags": []
   },
   "outputs": [],
   "source": [
    "labels = ['awake', 'drowsy']\n",
    "number_imgs = 20"
   ]
  },
  {
   "cell_type": "markdown",
   "metadata": {
    "tags": []
   },
   "source": [
    "### 1.3 Setup Folders"
   ]
  },
  {
   "cell_type": "code",
   "execution_count": 22,
   "metadata": {
    "tags": []
   },
   "outputs": [],
   "source": [
    "IMAGES_PATH = os.path.join('Tensorflow', 'workspace', 'images', 'collectedimages')"
   ]
  },
  {
   "cell_type": "code",
   "execution_count": 23,
   "metadata": {
    "tags": []
   },
   "outputs": [],
   "source": [
    "if not os.path.exists(IMAGES_PATH):\n",
    "    if os.name == 'posix':\n",
    "        !mkdir -p {IMAGES_PATH}\n",
    "    if os.name == 'nt':\n",
    "         !mkdir {IMAGES_PATH}\n",
    "for label in labels:\n",
    "    path = os.path.join(IMAGES_PATH, label)\n",
    "    if not os.path.exists(path):\n",
    "        !mkdir {path}"
   ]
  },
  {
   "cell_type": "markdown",
   "metadata": {
    "tags": []
   },
   "source": [
    "### 1.4 Capture Images with OpenCV"
   ]
  },
  {
   "cell_type": "code",
   "execution_count": 25,
   "metadata": {
    "tags": []
   },
   "outputs": [
    {
     "name": "stdout",
     "output_type": "stream",
     "text": [
      "Collecting images for awake\n",
      "Collecting image 0\n",
      "Collecting images for drowsy\n",
      "Collecting image 0\n"
     ]
    }
   ],
   "source": [
    "for label in labels:\n",
    "    cap = cv2.VideoCapture(1)\n",
    "    print('Collecting images for {}'.format(label))\n",
    "    time.sleep(5)\n",
    "    for imgnum in range(number_imgs):\n",
    "        print('Collecting image {}'.format(imgnum))\n",
    "        ret, frame = cap.read()\n",
    "        imgname = os.path.join(IMAGES_PATH,label,label+'.'+'{}.jpg'.format(str(uuid.uuid1())))\n",
    "        cv2.imwrite(imgname, frame)\n",
    "        cv2.imshow('frame', frame)\n",
    "        time.sleep(2)\n",
    "\n",
    "        if cv2.waitKey(1) & 0xFF == ord('q'):\n",
    "            break\n",
    "cap.release()\n",
    "cv2.destroyAllWindows()"
   ]
  },
  {
   "cell_type": "markdown",
   "metadata": {
    "tags": []
   },
   "source": [
    "### 1.5 Annotate Images with labelImg"
   ]
  },
  {
   "cell_type": "code",
   "execution_count": 1,
   "metadata": {
    "collapsed": true,
    "jupyter": {
     "outputs_hidden": true
    },
    "tags": []
   },
   "outputs": [
    {
     "name": "stdout",
     "output_type": "stream",
     "text": [
      "Image:D:\\DrowsinessDetection\\Tensorflow\\workspace\\data\\images\\1.jpg -> Annotation:D:/DrowsinessDetection/Tensorflow/workspace/data/labels\\1.xml\n",
      "Image:D:\\DrowsinessDetection\\Tensorflow\\workspace\\data\\images\\2.jpg -> Annotation:D:/DrowsinessDetection/Tensorflow/workspace/data/labels\\2.xml\n",
      "Image:D:\\DrowsinessDetection\\Tensorflow\\workspace\\data\\images\\3.jpg -> Annotation:D:/DrowsinessDetection/Tensorflow/workspace/data/labels\\3.xml\n",
      "Image:D:\\DrowsinessDetection\\Tensorflow\\workspace\\data\\images\\2.jpg -> Annotation:D:/DrowsinessDetection/Tensorflow/workspace/data/labels\\2.xml\n",
      "Image:D:\\DrowsinessDetection\\Tensorflow\\workspace\\data\\images\\4.jpg -> Annotation:D:/DrowsinessDetection/Tensorflow/workspace/data/labels\\4.xml\n",
      "Image:D:\\DrowsinessDetection\\Tensorflow\\workspace\\data\\images\\5.jpg -> Annotation:D:/DrowsinessDetection/Tensorflow/workspace/data/labels\\5.xml\n",
      "Image:D:\\DrowsinessDetection\\Tensorflow\\workspace\\data\\images\\6.jpg -> Annotation:D:/DrowsinessDetection/Tensorflow/workspace/data/labels\\6.xml\n"
     ]
    },
    {
     "name": "stderr",
     "output_type": "stream",
     "text": [
      "D:\\DrowsinessDetection\\Tensorflow\\labelImg\\labelImg.py:210: DeprecationWarning: an integer is required (got type DockWidgetFeatures).  Implicit conversion to integers using __int__ is deprecated, and may be removed in a future version of Python.\n",
      "  self.dock.setFeatures(self.dock.features() ^ self.dock_features)\n",
      "External WM_DESTROY received for  QWidgetWindow(0x2075376f1e0, name=\"LabelDialogClassWindow\") , parent:  QWindow(0x0) , transient parent:  QWidgetWindow(0x207531db820, name=\"MainWindowClassWindow\")\n"
     ]
    },
    {
     "name": "stdout",
     "output_type": "stream",
     "text": [
      "Image:D:\\DrowsinessDetection\\Tensorflow\\workspace\\data\\images\\7.jpg -> Annotation:D:/DrowsinessDetection/Tensorflow/workspace/data/labels\\7.xml\n",
      "Image:D:\\DrowsinessDetection\\Tensorflow\\workspace\\data\\images\\9.jpg -> Annotation:D:/DrowsinessDetection/Tensorflow/workspace/data/labels\\9.xml\n",
      "Image:D:\\DrowsinessDetection\\Tensorflow\\workspace\\data\\images\\10.jpg -> Annotation:D:/DrowsinessDetection/Tensorflow/workspace/data/labels\\10.xml\n",
      "Image:D:\\DrowsinessDetection\\Tensorflow\\workspace\\data\\images\\11.jpg -> Annotation:D:/DrowsinessDetection/Tensorflow/workspace/data/labels\\11.xml\n",
      "Image:D:\\DrowsinessDetection\\Tensorflow\\workspace\\data\\images\\12.jpg -> Annotation:D:/DrowsinessDetection/Tensorflow/workspace/data/labels\\12.xml\n",
      "Image:D:\\DrowsinessDetection\\Tensorflow\\workspace\\data\\images\\13.jpg -> Annotation:D:/DrowsinessDetection/Tensorflow/workspace/data/labels\\13.xml\n",
      "Image:D:\\DrowsinessDetection\\Tensorflow\\workspace\\data\\images\\15.jpg -> Annotation:D:/DrowsinessDetection/Tensorflow/workspace/data/labels\\15.xml\n",
      "Image:D:\\DrowsinessDetection\\Tensorflow\\workspace\\data\\images\\16.jpg -> Annotation:D:/DrowsinessDetection/Tensorflow/workspace/data/labels\\16.xml\n",
      "Image:D:\\DrowsinessDetection\\Tensorflow\\workspace\\data\\images\\17.jpg -> Annotation:D:/DrowsinessDetection/Tensorflow/workspace/data/labels\\17.xml\n",
      "Image:D:\\DrowsinessDetection\\Tensorflow\\workspace\\data\\images\\18.jpg -> Annotation:D:/DrowsinessDetection/Tensorflow/workspace/data/labels\\18.xml\n",
      "Image:D:\\DrowsinessDetection\\Tensorflow\\workspace\\data\\images\\19.jpg -> Annotation:D:/DrowsinessDetection/Tensorflow/workspace/data/labels\\19.xml\n",
      "Image:D:\\DrowsinessDetection\\Tensorflow\\workspace\\data\\images\\20.jpg -> Annotation:D:/DrowsinessDetection/Tensorflow/workspace/data/labels\\20.xml\n",
      "Image:D:\\DrowsinessDetection\\Tensorflow\\workspace\\data\\images\\21.jpg -> Annotation:D:/DrowsinessDetection/Tensorflow/workspace/data/labels\\21.xml\n",
      "Image:D:\\DrowsinessDetection\\Tensorflow\\workspace\\data\\images\\22.jpg -> Annotation:D:/DrowsinessDetection/Tensorflow/workspace/data/labels\\22.xml\n",
      "Image:D:\\DrowsinessDetection\\Tensorflow\\workspace\\data\\images\\23.jpg -> Annotation:D:/DrowsinessDetection/Tensorflow/workspace/data/labels\\23.xml\n",
      "Image:D:\\DrowsinessDetection\\Tensorflow\\workspace\\data\\images\\24.jpg -> Annotation:D:/DrowsinessDetection/Tensorflow/workspace/data/labels\\24.xml\n",
      "Image:D:\\DrowsinessDetection\\Tensorflow\\workspace\\data\\images\\25.jpg -> Annotation:D:/DrowsinessDetection/Tensorflow/workspace/data/labels\\25.xml\n",
      "Image:D:\\DrowsinessDetection\\Tensorflow\\workspace\\data\\images\\26.jpg -> Annotation:D:/DrowsinessDetection/Tensorflow/workspace/data/labels\\26.xml\n",
      "Image:D:\\DrowsinessDetection\\Tensorflow\\workspace\\data\\images\\27.jpg -> Annotation:D:/DrowsinessDetection/Tensorflow/workspace/data/labels\\27.xml\n",
      "Image:D:\\DrowsinessDetection\\Tensorflow\\workspace\\data\\images\\28.jpg -> Annotation:D:/DrowsinessDetection/Tensorflow/workspace/data/labels\\28.xml\n",
      "Image:D:\\DrowsinessDetection\\Tensorflow\\workspace\\data\\images\\29.jpg -> Annotation:D:/DrowsinessDetection/Tensorflow/workspace/data/labels\\29.xml\n",
      "Image:D:\\DrowsinessDetection\\Tensorflow\\workspace\\data\\images\\30.jpg -> Annotation:D:/DrowsinessDetection/Tensorflow/workspace/data/labels\\30.xml\n",
      "Image:D:\\DrowsinessDetection\\Tensorflow\\workspace\\data\\images\\31.jpg -> Annotation:D:/DrowsinessDetection/Tensorflow/workspace/data/labels\\31.xml\n",
      "Image:D:\\DrowsinessDetection\\Tensorflow\\workspace\\data\\images\\32.jpg -> Annotation:D:/DrowsinessDetection/Tensorflow/workspace/data/labels\\32.xml\n",
      "Image:D:\\DrowsinessDetection\\Tensorflow\\workspace\\data\\images\\33.jpg -> Annotation:D:/DrowsinessDetection/Tensorflow/workspace/data/labels\\33.xml\n",
      "Image:D:\\DrowsinessDetection\\Tensorflow\\workspace\\data\\images\\34.jpg -> Annotation:D:/DrowsinessDetection/Tensorflow/workspace/data/labels\\34.xml\n",
      "Image:D:\\DrowsinessDetection\\Tensorflow\\workspace\\data\\images\\35.jpg -> Annotation:D:/DrowsinessDetection/Tensorflow/workspace/data/labels\\35.xml\n",
      "Image:D:\\DrowsinessDetection\\Tensorflow\\workspace\\data\\images\\36.jpg -> Annotation:D:/DrowsinessDetection/Tensorflow/workspace/data/labels\\36.xml\n",
      "Image:D:\\DrowsinessDetection\\Tensorflow\\workspace\\data\\images\\37.jpg -> Annotation:D:/DrowsinessDetection/Tensorflow/workspace/data/labels\\37.xml\n",
      "Image:D:\\DrowsinessDetection\\Tensorflow\\workspace\\data\\images\\38.jpg -> Annotation:D:/DrowsinessDetection/Tensorflow/workspace/data/labels\\38.xml\n",
      "Image:D:\\DrowsinessDetection\\Tensorflow\\workspace\\data\\images\\39.jpg -> Annotation:D:/DrowsinessDetection/Tensorflow/workspace/data/labels\\39.xml\n",
      "Image:D:\\DrowsinessDetection\\Tensorflow\\workspace\\data\\images\\40.jpg -> Annotation:D:/DrowsinessDetection/Tensorflow/workspace/data/labels\\40.xml\n",
      "Image:D:\\DrowsinessDetection\\Tensorflow\\workspace\\data\\images\\41.jpg -> Annotation:D:/DrowsinessDetection/Tensorflow/workspace/data/labels\\41.xml\n",
      "Image:D:\\DrowsinessDetection\\Tensorflow\\workspace\\data\\images\\42.jpg -> Annotation:D:/DrowsinessDetection/Tensorflow/workspace/data/labels\\42.xml\n",
      "Image:D:\\DrowsinessDetection\\Tensorflow\\workspace\\data\\images\\43.jpg -> Annotation:D:/DrowsinessDetection/Tensorflow/workspace/data/labels\\43.xml\n",
      "Image:D:\\DrowsinessDetection\\Tensorflow\\workspace\\data\\images\\44.jpg -> Annotation:D:/DrowsinessDetection/Tensorflow/workspace/data/labels\\44.xml\n",
      "Image:D:\\DrowsinessDetection\\Tensorflow\\workspace\\data\\images\\45.jpg -> Annotation:D:/DrowsinessDetection/Tensorflow/workspace/data/labels\\45.xml\n",
      "Image:D:\\DrowsinessDetection\\Tensorflow\\workspace\\data\\images\\46.jpg -> Annotation:D:/DrowsinessDetection/Tensorflow/workspace/data/labels\\46.xml\n",
      "Image:D:\\DrowsinessDetection\\Tensorflow\\workspace\\data\\images\\48.jpg -> Annotation:D:/DrowsinessDetection/Tensorflow/workspace/data/labels\\48.xml\n",
      "Image:D:\\DrowsinessDetection\\Tensorflow\\workspace\\data\\images\\50.jpg -> Annotation:D:/DrowsinessDetection/Tensorflow/workspace/data/labels\\50.xml\n",
      "Image:D:\\DrowsinessDetection\\Tensorflow\\workspace\\data\\images\\51.jpg -> Annotation:D:/DrowsinessDetection/Tensorflow/workspace/data/labels\\51.xml\n",
      "Image:D:\\DrowsinessDetection\\Tensorflow\\workspace\\data\\images\\52.jpg -> Annotation:D:/DrowsinessDetection/Tensorflow/workspace/data/labels\\52.xml\n",
      "Image:D:\\DrowsinessDetection\\Tensorflow\\workspace\\data\\images\\53.jpg -> Annotation:D:/DrowsinessDetection/Tensorflow/workspace/data/labels\\53.xml\n",
      "Image:D:\\DrowsinessDetection\\Tensorflow\\workspace\\data\\images\\54.jpg -> Annotation:D:/DrowsinessDetection/Tensorflow/workspace/data/labels\\54.xml\n",
      "Cancel creation.\n",
      "Image:D:\\DrowsinessDetection\\Tensorflow\\workspace\\data\\images\\55.jpg -> Annotation:D:/DrowsinessDetection/Tensorflow/workspace/data/labels\\55.xml\n",
      "Image:D:\\DrowsinessDetection\\Tensorflow\\workspace\\data\\images\\56.jpg -> Annotation:D:/DrowsinessDetection/Tensorflow/workspace/data/labels\\56.xml\n",
      "Image:D:\\DrowsinessDetection\\Tensorflow\\workspace\\data\\images\\57.jpg -> Annotation:D:/DrowsinessDetection/Tensorflow/workspace/data/labels\\57.xml\n",
      "Image:D:\\DrowsinessDetection\\Tensorflow\\workspace\\data\\images\\58.jpg -> Annotation:D:/DrowsinessDetection/Tensorflow/workspace/data/labels\\58.xml\n",
      "Image:D:\\DrowsinessDetection\\Tensorflow\\workspace\\data\\images\\59.jpg -> Annotation:D:/DrowsinessDetection/Tensorflow/workspace/data/labels\\59.xml\n",
      "Image:D:\\DrowsinessDetection\\Tensorflow\\workspace\\data\\images\\60.jpg -> Annotation:D:/DrowsinessDetection/Tensorflow/workspace/data/labels\\60.xml\n",
      "Image:D:\\DrowsinessDetection\\Tensorflow\\workspace\\data\\images\\62.jpg -> Annotation:D:/DrowsinessDetection/Tensorflow/workspace/data/labels\\62.xml\n",
      "Image:D:\\DrowsinessDetection\\Tensorflow\\workspace\\data\\images\\64.jpg -> Annotation:D:/DrowsinessDetection/Tensorflow/workspace/data/labels\\64.xml\n",
      "Image:D:\\DrowsinessDetection\\Tensorflow\\workspace\\data\\images\\65.jpg -> Annotation:D:/DrowsinessDetection/Tensorflow/workspace/data/labels\\65.xml\n",
      "Image:D:\\DrowsinessDetection\\Tensorflow\\workspace\\data\\images\\66.jpg -> Annotation:D:/DrowsinessDetection/Tensorflow/workspace/data/labels\\66.xml\n",
      "Image:D:\\DrowsinessDetection\\Tensorflow\\workspace\\data\\images\\67.jpg -> Annotation:D:/DrowsinessDetection/Tensorflow/workspace/data/labels\\67.xml\n",
      "Image:D:\\DrowsinessDetection\\Tensorflow\\workspace\\data\\images\\68.jpg -> Annotation:D:/DrowsinessDetection/Tensorflow/workspace/data/labels\\68.xml\n",
      "Image:D:\\DrowsinessDetection\\Tensorflow\\workspace\\data\\images\\69.jpg -> Annotation:D:/DrowsinessDetection/Tensorflow/workspace/data/labels\\69.xml\n",
      "Image:D:\\DrowsinessDetection\\Tensorflow\\workspace\\data\\images\\70.jpg -> Annotation:D:/DrowsinessDetection/Tensorflow/workspace/data/labels\\70.xml\n",
      "Image:D:\\DrowsinessDetection\\Tensorflow\\workspace\\data\\images\\71.jpg -> Annotation:D:/DrowsinessDetection/Tensorflow/workspace/data/labels\\71.xml\n",
      "Image:D:\\DrowsinessDetection\\Tensorflow\\workspace\\data\\images\\72.jpg -> Annotation:D:/DrowsinessDetection/Tensorflow/workspace/data/labels\\72.xml\n",
      "Image:D:\\DrowsinessDetection\\Tensorflow\\workspace\\data\\images\\73.jpg -> Annotation:D:/DrowsinessDetection/Tensorflow/workspace/data/labels\\73.xml\n",
      "Image:D:\\DrowsinessDetection\\Tensorflow\\workspace\\data\\images\\74.jpg -> Annotation:D:/DrowsinessDetection/Tensorflow/workspace/data/labels\\74.xml\n",
      "Image:D:\\DrowsinessDetection\\Tensorflow\\workspace\\data\\images\\75.jpg -> Annotation:D:/DrowsinessDetection/Tensorflow/workspace/data/labels\\75.xml\n",
      "Image:D:\\DrowsinessDetection\\Tensorflow\\workspace\\data\\images\\76.jpg -> Annotation:D:/DrowsinessDetection/Tensorflow/workspace/data/labels\\76.xml\n",
      "Image:D:\\DrowsinessDetection\\Tensorflow\\workspace\\data\\images\\77.jpg -> Annotation:D:/DrowsinessDetection/Tensorflow/workspace/data/labels\\77.xml\n",
      "Image:D:\\DrowsinessDetection\\Tensorflow\\workspace\\data\\images\\78.jpg -> Annotation:D:/DrowsinessDetection/Tensorflow/workspace/data/labels\\78.xml\n",
      "Image:D:\\DrowsinessDetection\\Tensorflow\\workspace\\data\\images\\79.jpg -> Annotation:D:/DrowsinessDetection/Tensorflow/workspace/data/labels\\79.xml\n",
      "Image:D:\\DrowsinessDetection\\Tensorflow\\workspace\\data\\images\\80.jpg -> Annotation:D:/DrowsinessDetection/Tensorflow/workspace/data/labels\\80.xml\n",
      "Image:D:\\DrowsinessDetection\\Tensorflow\\workspace\\data\\images\\82.jpg -> Annotation:D:/DrowsinessDetection/Tensorflow/workspace/data/labels\\82.xml\n",
      "Image:D:\\DrowsinessDetection\\Tensorflow\\workspace\\data\\images\\83.jpg -> Annotation:D:/DrowsinessDetection/Tensorflow/workspace/data/labels\\83.xml\n",
      "Image:D:\\DrowsinessDetection\\Tensorflow\\workspace\\data\\images\\85.jpg -> Annotation:D:/DrowsinessDetection/Tensorflow/workspace/data/labels\\85.xml\n",
      "Image:D:\\DrowsinessDetection\\Tensorflow\\workspace\\data\\images\\87.jpg -> Annotation:D:/DrowsinessDetection/Tensorflow/workspace/data/labels\\87.xml\n",
      "Image:D:\\DrowsinessDetection\\Tensorflow\\workspace\\data\\images\\88.jpg -> Annotation:D:/DrowsinessDetection/Tensorflow/workspace/data/labels\\88.xml\n",
      "Image:D:\\DrowsinessDetection\\Tensorflow\\workspace\\data\\images\\89.jpg -> Annotation:D:/DrowsinessDetection/Tensorflow/workspace/data/labels\\89.xml\n",
      "Image:D:\\DrowsinessDetection\\Tensorflow\\workspace\\data\\images\\90.jpg -> Annotation:D:/DrowsinessDetection/Tensorflow/workspace/data/labels\\90.xml\n",
      "Image:D:\\DrowsinessDetection\\Tensorflow\\workspace\\data\\images\\91.jpg -> Annotation:D:/DrowsinessDetection/Tensorflow/workspace/data/labels\\91.xml\n",
      "Image:D:\\DrowsinessDetection\\Tensorflow\\workspace\\data\\images\\92.jpg -> Annotation:D:/DrowsinessDetection/Tensorflow/workspace/data/labels\\92.xml\n",
      "Image:D:\\DrowsinessDetection\\Tensorflow\\workspace\\data\\images\\93.jpg -> Annotation:D:/DrowsinessDetection/Tensorflow/workspace/data/labels\\93.xml\n",
      "Image:D:\\DrowsinessDetection\\Tensorflow\\workspace\\data\\images\\94.jpg -> Annotation:D:/DrowsinessDetection/Tensorflow/workspace/data/labels\\94.xml\n",
      "Image:D:\\DrowsinessDetection\\Tensorflow\\workspace\\data\\images\\96.jpg -> Annotation:D:/DrowsinessDetection/Tensorflow/workspace/data/labels\\96.xml\n",
      "Image:D:\\DrowsinessDetection\\Tensorflow\\workspace\\data\\images\\97.jpg -> Annotation:D:/DrowsinessDetection/Tensorflow/workspace/data/labels\\97.xml\n",
      "Image:D:\\DrowsinessDetection\\Tensorflow\\workspace\\data\\images\\98.jpg -> Annotation:D:/DrowsinessDetection/Tensorflow/workspace/data/labels\\98.xml\n",
      "Image:D:\\DrowsinessDetection\\Tensorflow\\workspace\\data\\images\\99.jpg -> Annotation:D:/DrowsinessDetection/Tensorflow/workspace/data/labels\\99.xml\n",
      "Image:D:\\DrowsinessDetection\\Tensorflow\\workspace\\data\\images\\101.jpg -> Annotation:D:/DrowsinessDetection/Tensorflow/workspace/data/labels\\101.xml\n",
      "Image:D:\\DrowsinessDetection\\Tensorflow\\workspace\\data\\images\\103.jpg -> Annotation:D:/DrowsinessDetection/Tensorflow/workspace/data/labels\\103.xml\n",
      "Image:D:\\DrowsinessDetection\\Tensorflow\\workspace\\data\\images\\104.jpg -> Annotation:D:/DrowsinessDetection/Tensorflow/workspace/data/labels\\104.xml\n",
      "Image:D:\\DrowsinessDetection\\Tensorflow\\workspace\\data\\images\\106.jpg -> Annotation:D:/DrowsinessDetection/Tensorflow/workspace/data/labels\\106.xml\n",
      "Image:D:\\DrowsinessDetection\\Tensorflow\\workspace\\data\\images\\107.jpg -> Annotation:D:/DrowsinessDetection/Tensorflow/workspace/data/labels\\107.xml\n",
      "Image:D:\\DrowsinessDetection\\Tensorflow\\workspace\\data\\images\\108.jpg -> Annotation:D:/DrowsinessDetection/Tensorflow/workspace/data/labels\\108.xml\n",
      "Image:D:\\DrowsinessDetection\\Tensorflow\\workspace\\data\\images\\109.jpg -> Annotation:D:/DrowsinessDetection/Tensorflow/workspace/data/labels\\109.xml\n",
      "Image:D:\\DrowsinessDetection\\Tensorflow\\workspace\\data\\images\\110.jpg -> Annotation:D:/DrowsinessDetection/Tensorflow/workspace/data/labels\\110.xml\n",
      "Image:D:\\DrowsinessDetection\\Tensorflow\\workspace\\data\\images\\112.jpg -> Annotation:D:/DrowsinessDetection/Tensorflow/workspace/data/labels\\112.xml\n",
      "Image:D:\\DrowsinessDetection\\Tensorflow\\workspace\\data\\images\\113.jpg -> Annotation:D:/DrowsinessDetection/Tensorflow/workspace/data/labels\\113.xml\n",
      "Image:D:\\DrowsinessDetection\\Tensorflow\\workspace\\data\\images\\114.jpg -> Annotation:D:/DrowsinessDetection/Tensorflow/workspace/data/labels\\114.xml\n",
      "Image:D:\\DrowsinessDetection\\Tensorflow\\workspace\\data\\images\\115.jpg -> Annotation:D:/DrowsinessDetection/Tensorflow/workspace/data/labels\\115.xml\n",
      "Image:D:\\DrowsinessDetection\\Tensorflow\\workspace\\data\\images\\117.jpg -> Annotation:D:/DrowsinessDetection/Tensorflow/workspace/data/labels\\117.xml\n",
      "Image:D:\\DrowsinessDetection\\Tensorflow\\workspace\\data\\images\\118.jpg -> Annotation:D:/DrowsinessDetection/Tensorflow/workspace/data/labels\\118.xml\n",
      "Image:D:\\DrowsinessDetection\\Tensorflow\\workspace\\data\\images\\120.jpg -> Annotation:D:/DrowsinessDetection/Tensorflow/workspace/data/labels\\120.xml\n",
      "Image:D:\\DrowsinessDetection\\Tensorflow\\workspace\\data\\images\\122.jpg -> Annotation:D:/DrowsinessDetection/Tensorflow/workspace/data/labels\\122.xml\n",
      "Image:D:\\DrowsinessDetection\\Tensorflow\\workspace\\data\\images\\123.jpg -> Annotation:D:/DrowsinessDetection/Tensorflow/workspace/data/labels\\123.xml\n",
      "Image:D:\\DrowsinessDetection\\Tensorflow\\workspace\\data\\images\\124.jpg -> Annotation:D:/DrowsinessDetection/Tensorflow/workspace/data/labels\\124.xml\n",
      "Image:D:\\DrowsinessDetection\\Tensorflow\\workspace\\data\\images\\125.jpg -> Annotation:D:/DrowsinessDetection/Tensorflow/workspace/data/labels\\125.xml\n",
      "Image:D:\\DrowsinessDetection\\Tensorflow\\workspace\\data\\images\\126.jpg -> Annotation:D:/DrowsinessDetection/Tensorflow/workspace/data/labels\\126.xml\n",
      "Image:D:\\DrowsinessDetection\\Tensorflow\\workspace\\data\\images\\128.jpg -> Annotation:D:/DrowsinessDetection/Tensorflow/workspace/data/labels\\128.xml\n",
      "Image:D:\\DrowsinessDetection\\Tensorflow\\workspace\\data\\images\\129.jpg -> Annotation:D:/DrowsinessDetection/Tensorflow/workspace/data/labels\\129.xml\n",
      "Image:D:\\DrowsinessDetection\\Tensorflow\\workspace\\data\\images\\130.jpg -> Annotation:D:/DrowsinessDetection/Tensorflow/workspace/data/labels\\130.xml\n",
      "Image:D:\\DrowsinessDetection\\Tensorflow\\workspace\\data\\images\\132.jpg -> Annotation:D:/DrowsinessDetection/Tensorflow/workspace/data/labels\\132.xml\n",
      "Image:D:\\DrowsinessDetection\\Tensorflow\\workspace\\data\\images\\133.jpg -> Annotation:D:/DrowsinessDetection/Tensorflow/workspace/data/labels\\133.xml\n",
      "Image:D:\\DrowsinessDetection\\Tensorflow\\workspace\\data\\images\\135.jpg -> Annotation:D:/DrowsinessDetection/Tensorflow/workspace/data/labels\\135.xml\n",
      "Image:D:\\DrowsinessDetection\\Tensorflow\\workspace\\data\\images\\136.jpg -> Annotation:D:/DrowsinessDetection/Tensorflow/workspace/data/labels\\136.xml\n",
      "Image:D:\\DrowsinessDetection\\Tensorflow\\workspace\\data\\images\\137.jpg -> Annotation:D:/DrowsinessDetection/Tensorflow/workspace/data/labels\\137.xml\n",
      "Image:D:\\DrowsinessDetection\\Tensorflow\\workspace\\data\\images\\138.jpg -> Annotation:D:/DrowsinessDetection/Tensorflow/workspace/data/labels\\138.xml\n",
      "Image:D:\\DrowsinessDetection\\Tensorflow\\workspace\\data\\images\\139.jpg -> Annotation:D:/DrowsinessDetection/Tensorflow/workspace/data/labels\\139.xml\n",
      "Image:D:\\DrowsinessDetection\\Tensorflow\\workspace\\data\\images\\141.jpg -> Annotation:D:/DrowsinessDetection/Tensorflow/workspace/data/labels\\141.xml\n",
      "Image:D:\\DrowsinessDetection\\Tensorflow\\workspace\\data\\images\\142.jpg -> Annotation:D:/DrowsinessDetection/Tensorflow/workspace/data/labels\\142.xml\n",
      "Image:D:\\DrowsinessDetection\\Tensorflow\\workspace\\data\\images\\143.jpg -> Annotation:D:/DrowsinessDetection/Tensorflow/workspace/data/labels\\143.xml\n",
      "Image:D:\\DrowsinessDetection\\Tensorflow\\workspace\\data\\images\\144.jpg -> Annotation:D:/DrowsinessDetection/Tensorflow/workspace/data/labels\\144.xml\n",
      "Image:D:\\DrowsinessDetection\\Tensorflow\\workspace\\data\\images\\145.jpg -> Annotation:D:/DrowsinessDetection/Tensorflow/workspace/data/labels\\145.xml\n",
      "Image:D:\\DrowsinessDetection\\Tensorflow\\workspace\\data\\images\\146.jpg -> Annotation:D:/DrowsinessDetection/Tensorflow/workspace/data/labels\\146.xml\n",
      "Image:D:\\DrowsinessDetection\\Tensorflow\\workspace\\data\\images\\147.jpg -> Annotation:D:/DrowsinessDetection/Tensorflow/workspace/data/labels\\147.xml\n",
      "Image:D:\\DrowsinessDetection\\Tensorflow\\workspace\\data\\images\\148.jpg -> Annotation:D:/DrowsinessDetection/Tensorflow/workspace/data/labels\\148.xml\n",
      "Image:D:\\DrowsinessDetection\\Tensorflow\\workspace\\data\\images\\149.jpg -> Annotation:D:/DrowsinessDetection/Tensorflow/workspace/data/labels\\149.xml\n",
      "Image:D:\\DrowsinessDetection\\Tensorflow\\workspace\\data\\images\\150.jpg -> Annotation:D:/DrowsinessDetection/Tensorflow/workspace/data/labels\\150.xml\n",
      "Image:D:\\DrowsinessDetection\\Tensorflow\\workspace\\data\\images\\151.jpg -> Annotation:D:/DrowsinessDetection/Tensorflow/workspace/data/labels\\151.xml\n",
      "Image:D:\\DrowsinessDetection\\Tensorflow\\workspace\\data\\images\\152.jpg -> Annotation:D:/DrowsinessDetection/Tensorflow/workspace/data/labels\\152.xml\n",
      "Cancel creation.\n",
      "Image:D:\\DrowsinessDetection\\Tensorflow\\workspace\\data\\images\\152.jpg -> Annotation:D:/DrowsinessDetection/Tensorflow/workspace/data/labels\\152.xml\n",
      "Image:D:\\DrowsinessDetection\\Tensorflow\\workspace\\data\\images\\153.jpg -> Annotation:D:/DrowsinessDetection/Tensorflow/workspace/data/labels\\153.xml\n",
      "Image:D:\\DrowsinessDetection\\Tensorflow\\workspace\\data\\images\\154.jpg -> Annotation:D:/DrowsinessDetection/Tensorflow/workspace/data/labels\\154.xml\n",
      "Image:D:\\DrowsinessDetection\\Tensorflow\\workspace\\data\\images\\155.jpg -> Annotation:D:/DrowsinessDetection/Tensorflow/workspace/data/labels\\155.xml\n",
      "Image:D:\\DrowsinessDetection\\Tensorflow\\workspace\\data\\images\\156.jpg -> Annotation:D:/DrowsinessDetection/Tensorflow/workspace/data/labels\\156.xml\n",
      "Image:D:\\DrowsinessDetection\\Tensorflow\\workspace\\data\\images\\157.jpg -> Annotation:D:/DrowsinessDetection/Tensorflow/workspace/data/labels\\157.xml\n",
      "Image:D:\\DrowsinessDetection\\Tensorflow\\workspace\\data\\images\\158.jpg -> Annotation:D:/DrowsinessDetection/Tensorflow/workspace/data/labels\\158.xml\n",
      "Image:D:\\DrowsinessDetection\\Tensorflow\\workspace\\data\\images\\159.jpg -> Annotation:D:/DrowsinessDetection/Tensorflow/workspace/data/labels\\159.xml\n",
      "Image:D:\\DrowsinessDetection\\Tensorflow\\workspace\\data\\images\\160.jpg -> Annotation:D:/DrowsinessDetection/Tensorflow/workspace/data/labels\\160.xml\n",
      "Image:D:\\DrowsinessDetection\\Tensorflow\\workspace\\data\\images\\161.jpg -> Annotation:D:/DrowsinessDetection/Tensorflow/workspace/data/labels\\161.xml\n",
      "Image:D:\\DrowsinessDetection\\Tensorflow\\workspace\\data\\images\\162.jpg -> Annotation:D:/DrowsinessDetection/Tensorflow/workspace/data/labels\\162.xml\n",
      "Image:D:\\DrowsinessDetection\\Tensorflow\\workspace\\data\\images\\163.jpg -> Annotation:D:/DrowsinessDetection/Tensorflow/workspace/data/labels\\163.xml\n",
      "Image:D:\\DrowsinessDetection\\Tensorflow\\workspace\\data\\images\\164.jpg -> Annotation:D:/DrowsinessDetection/Tensorflow/workspace/data/labels\\164.xml\n",
      "Image:D:\\DrowsinessDetection\\Tensorflow\\workspace\\data\\images\\165.jpg -> Annotation:D:/DrowsinessDetection/Tensorflow/workspace/data/labels\\165.xml\n",
      "Image:D:\\DrowsinessDetection\\Tensorflow\\workspace\\data\\images\\166.jpg -> Annotation:D:/DrowsinessDetection/Tensorflow/workspace/data/labels\\166.xml\n",
      "Image:D:\\DrowsinessDetection\\Tensorflow\\workspace\\data\\images\\167.jpg -> Annotation:D:/DrowsinessDetection/Tensorflow/workspace/data/labels\\167.xml\n",
      "Image:D:\\DrowsinessDetection\\Tensorflow\\workspace\\data\\images\\168.jpg -> Annotation:D:/DrowsinessDetection/Tensorflow/workspace/data/labels\\168.xml\n",
      "Image:D:\\DrowsinessDetection\\Tensorflow\\workspace\\data\\images\\169.jpg -> Annotation:D:/DrowsinessDetection/Tensorflow/workspace/data/labels\\169.xml\n",
      "Image:D:\\DrowsinessDetection\\Tensorflow\\workspace\\data\\images\\170.jpg -> Annotation:D:/DrowsinessDetection/Tensorflow/workspace/data/labels\\170.xml\n",
      "Image:D:\\DrowsinessDetection\\Tensorflow\\workspace\\data\\images\\171.jpg -> Annotation:D:/DrowsinessDetection/Tensorflow/workspace/data/labels\\171.xml\n",
      "Image:D:\\DrowsinessDetection\\Tensorflow\\workspace\\data\\images\\172.jpg -> Annotation:D:/DrowsinessDetection/Tensorflow/workspace/data/labels\\172.xml\n",
      "Image:D:\\DrowsinessDetection\\Tensorflow\\workspace\\data\\images\\173.jpg -> Annotation:D:/DrowsinessDetection/Tensorflow/workspace/data/labels\\173.xml\n",
      "Image:D:\\DrowsinessDetection\\Tensorflow\\workspace\\data\\images\\174.jpg -> Annotation:D:/DrowsinessDetection/Tensorflow/workspace/data/labels\\174.xml\n",
      "Image:D:\\DrowsinessDetection\\Tensorflow\\workspace\\data\\images\\175.jpg -> Annotation:D:/DrowsinessDetection/Tensorflow/workspace/data/labels\\175.xml\n",
      "Image:D:\\DrowsinessDetection\\Tensorflow\\workspace\\data\\images\\176.jpg -> Annotation:D:/DrowsinessDetection/Tensorflow/workspace/data/labels\\176.xml\n",
      "Image:D:\\DrowsinessDetection\\Tensorflow\\workspace\\data\\images\\177.jpg -> Annotation:D:/DrowsinessDetection/Tensorflow/workspace/data/labels\\177.xml\n",
      "Image:D:\\DrowsinessDetection\\Tensorflow\\workspace\\data\\images\\178.jpg -> Annotation:D:/DrowsinessDetection/Tensorflow/workspace/data/labels\\178.xml\n",
      "Image:D:\\DrowsinessDetection\\Tensorflow\\workspace\\data\\images\\179.jpg -> Annotation:D:/DrowsinessDetection/Tensorflow/workspace/data/labels\\179.xml\n",
      "Image:D:\\DrowsinessDetection\\Tensorflow\\workspace\\data\\images\\180.jpg -> Annotation:D:/DrowsinessDetection/Tensorflow/workspace/data/labels\\180.xml\n",
      "Image:D:\\DrowsinessDetection\\Tensorflow\\workspace\\data\\images\\181.jpg -> Annotation:D:/DrowsinessDetection/Tensorflow/workspace/data/labels\\181.xml\n",
      "Image:D:\\DrowsinessDetection\\Tensorflow\\workspace\\data\\images\\182.jpg -> Annotation:D:/DrowsinessDetection/Tensorflow/workspace/data/labels\\182.xml\n",
      "Image:D:\\DrowsinessDetection\\Tensorflow\\workspace\\data\\images\\183.jpg -> Annotation:D:/DrowsinessDetection/Tensorflow/workspace/data/labels\\183.xml\n",
      "Image:D:\\DrowsinessDetection\\Tensorflow\\workspace\\data\\images\\184.jpg -> Annotation:D:/DrowsinessDetection/Tensorflow/workspace/data/labels\\184.xml\n",
      "Image:D:\\DrowsinessDetection\\Tensorflow\\workspace\\data\\images\\185.jpg -> Annotation:D:/DrowsinessDetection/Tensorflow/workspace/data/labels\\185.xml\n",
      "Image:D:\\DrowsinessDetection\\Tensorflow\\workspace\\data\\images\\186.jpg -> Annotation:D:/DrowsinessDetection/Tensorflow/workspace/data/labels\\186.xml\n",
      "Image:D:\\DrowsinessDetection\\Tensorflow\\workspace\\data\\images\\187.jpg -> Annotation:D:/DrowsinessDetection/Tensorflow/workspace/data/labels\\187.xml\n",
      "Image:D:\\DrowsinessDetection\\Tensorflow\\workspace\\data\\images\\190.jpg -> Annotation:D:/DrowsinessDetection/Tensorflow/workspace/data/labels\\190.xml\n",
      "Image:D:\\DrowsinessDetection\\Tensorflow\\workspace\\data\\images\\191.jpg -> Annotation:D:/DrowsinessDetection/Tensorflow/workspace/data/labels\\191.xml\n",
      "Image:D:\\DrowsinessDetection\\Tensorflow\\workspace\\data\\images\\192.jpg -> Annotation:D:/DrowsinessDetection/Tensorflow/workspace/data/labels\\192.xml\n",
      "Image:D:\\DrowsinessDetection\\Tensorflow\\workspace\\data\\images\\193.jpg -> Annotation:D:/DrowsinessDetection/Tensorflow/workspace/data/labels\\193.xml\n",
      "Image:D:\\DrowsinessDetection\\Tensorflow\\workspace\\data\\images\\194.jpg -> Annotation:D:/DrowsinessDetection/Tensorflow/workspace/data/labels\\194.xml\n",
      "Image:D:\\DrowsinessDetection\\Tensorflow\\workspace\\data\\images\\195.jpg -> Annotation:D:/DrowsinessDetection/Tensorflow/workspace/data/labels\\195.xml\n",
      "Image:D:\\DrowsinessDetection\\Tensorflow\\workspace\\data\\images\\196.jpg -> Annotation:D:/DrowsinessDetection/Tensorflow/workspace/data/labels\\196.xml\n",
      "Image:D:\\DrowsinessDetection\\Tensorflow\\workspace\\data\\images\\197.jpg -> Annotation:D:/DrowsinessDetection/Tensorflow/workspace/data/labels\\197.xml\n",
      "Image:D:\\DrowsinessDetection\\Tensorflow\\workspace\\data\\images\\198.jpg -> Annotation:D:/DrowsinessDetection/Tensorflow/workspace/data/labels\\198.xml\n",
      "Image:D:\\DrowsinessDetection\\Tensorflow\\workspace\\data\\images\\199.jpg -> Annotation:D:/DrowsinessDetection/Tensorflow/workspace/data/labels\\199.xml\n",
      "Image:D:\\DrowsinessDetection\\Tensorflow\\workspace\\data\\images\\200.jpg -> Annotation:D:/DrowsinessDetection/Tensorflow/workspace/data/labels\\200.xml\n",
      "Image:D:\\DrowsinessDetection\\Tensorflow\\workspace\\data\\images\\201.jpg -> Annotation:D:/DrowsinessDetection/Tensorflow/workspace/data/labels\\201.xml\n",
      "Cancel creation.\n",
      "Image:D:\\DrowsinessDetection\\Tensorflow\\workspace\\data\\images\\202.jpg -> Annotation:D:/DrowsinessDetection/Tensorflow/workspace/data/labels\\202.xml\n",
      "Image:D:\\DrowsinessDetection\\Tensorflow\\workspace\\data\\images\\203.jpg -> Annotation:D:/DrowsinessDetection/Tensorflow/workspace/data/labels\\203.xml\n",
      "Image:D:\\DrowsinessDetection\\Tensorflow\\workspace\\data\\images\\204.jpg -> Annotation:D:/DrowsinessDetection/Tensorflow/workspace/data/labels\\204.xml\n",
      "Image:D:\\DrowsinessDetection\\Tensorflow\\workspace\\data\\images\\205.jpg -> Annotation:D:/DrowsinessDetection/Tensorflow/workspace/data/labels\\205.xml\n",
      "Image:D:\\DrowsinessDetection\\Tensorflow\\workspace\\data\\images\\206.jpg -> Annotation:D:/DrowsinessDetection/Tensorflow/workspace/data/labels\\206.xml\n",
      "Image:D:\\DrowsinessDetection\\Tensorflow\\workspace\\data\\images\\207.jpg -> Annotation:D:/DrowsinessDetection/Tensorflow/workspace/data/labels\\207.xml\n",
      "Image:D:\\DrowsinessDetection\\Tensorflow\\workspace\\data\\images\\208.jpg -> Annotation:D:/DrowsinessDetection/Tensorflow/workspace/data/labels\\208.xml\n",
      "Image:D:\\DrowsinessDetection\\Tensorflow\\workspace\\data\\images\\209.jpg -> Annotation:D:/DrowsinessDetection/Tensorflow/workspace/data/labels\\209.xml\n",
      "Image:D:\\DrowsinessDetection\\Tensorflow\\workspace\\data\\images\\210.jpg -> Annotation:D:/DrowsinessDetection/Tensorflow/workspace/data/labels\\210.xml\n",
      "Image:D:\\DrowsinessDetection\\Tensorflow\\workspace\\data\\images\\211.jpg -> Annotation:D:/DrowsinessDetection/Tensorflow/workspace/data/labels\\211.xml\n",
      "Image:D:\\DrowsinessDetection\\Tensorflow\\workspace\\data\\images\\212.jpg -> Annotation:D:/DrowsinessDetection/Tensorflow/workspace/data/labels\\212.xml\n",
      "Image:D:\\DrowsinessDetection\\Tensorflow\\workspace\\data\\images\\213.jpg -> Annotation:D:/DrowsinessDetection/Tensorflow/workspace/data/labels\\213.xml\n",
      "Image:D:\\DrowsinessDetection\\Tensorflow\\workspace\\data\\images\\214.jpg -> Annotation:D:/DrowsinessDetection/Tensorflow/workspace/data/labels\\214.xml\n",
      "Image:D:\\DrowsinessDetection\\Tensorflow\\workspace\\data\\images\\215.jpg -> Annotation:D:/DrowsinessDetection/Tensorflow/workspace/data/labels\\215.xml\n",
      "Image:D:\\DrowsinessDetection\\Tensorflow\\workspace\\data\\images\\216.jpg -> Annotation:D:/DrowsinessDetection/Tensorflow/workspace/data/labels\\216.xml\n",
      "Image:D:\\DrowsinessDetection\\Tensorflow\\workspace\\data\\images\\217.jpg -> Annotation:D:/DrowsinessDetection/Tensorflow/workspace/data/labels\\217.xml\n",
      "Image:D:\\DrowsinessDetection\\Tensorflow\\workspace\\data\\images\\218.jpg -> Annotation:D:/DrowsinessDetection/Tensorflow/workspace/data/labels\\218.xml\n",
      "Image:D:\\DrowsinessDetection\\Tensorflow\\workspace\\data\\images\\219.jpg -> Annotation:D:/DrowsinessDetection/Tensorflow/workspace/data/labels\\219.xml\n",
      "Image:D:\\DrowsinessDetection\\Tensorflow\\workspace\\data\\images\\220.jpg -> Annotation:D:/DrowsinessDetection/Tensorflow/workspace/data/labels\\220.xml\n",
      "Image:D:\\DrowsinessDetection\\Tensorflow\\workspace\\data\\images\\221.jpg -> Annotation:D:/DrowsinessDetection/Tensorflow/workspace/data/labels\\221.xml\n",
      "Image:D:\\DrowsinessDetection\\Tensorflow\\workspace\\data\\images\\222.jpg -> Annotation:D:/DrowsinessDetection/Tensorflow/workspace/data/labels\\222.xml\n",
      "Image:D:\\DrowsinessDetection\\Tensorflow\\workspace\\data\\images\\223.jpg -> Annotation:D:/DrowsinessDetection/Tensorflow/workspace/data/labels\\223.xml\n",
      "Image:D:\\DrowsinessDetection\\Tensorflow\\workspace\\data\\images\\224.jpg -> Annotation:D:/DrowsinessDetection/Tensorflow/workspace/data/labels\\224.xml\n",
      "Image:D:\\DrowsinessDetection\\Tensorflow\\workspace\\data\\images\\225.jpg -> Annotation:D:/DrowsinessDetection/Tensorflow/workspace/data/labels\\225.xml\n",
      "Image:D:\\DrowsinessDetection\\Tensorflow\\workspace\\data\\images\\226.jpg -> Annotation:D:/DrowsinessDetection/Tensorflow/workspace/data/labels\\226.xml\n",
      "Image:D:\\DrowsinessDetection\\Tensorflow\\workspace\\data\\images\\227.jpg -> Annotation:D:/DrowsinessDetection/Tensorflow/workspace/data/labels\\227.xml\n",
      "Image:D:\\DrowsinessDetection\\Tensorflow\\workspace\\data\\images\\228.jpg -> Annotation:D:/DrowsinessDetection/Tensorflow/workspace/data/labels\\228.xml\n",
      "Image:D:\\DrowsinessDetection\\Tensorflow\\workspace\\data\\images\\229.jpg -> Annotation:D:/DrowsinessDetection/Tensorflow/workspace/data/labels\\229.xml\n",
      "Image:D:\\DrowsinessDetection\\Tensorflow\\workspace\\data\\images\\230.jpg -> Annotation:D:/DrowsinessDetection/Tensorflow/workspace/data/labels\\230.xml\n",
      "Image:D:\\DrowsinessDetection\\Tensorflow\\workspace\\data\\images\\231.jpg -> Annotation:D:/DrowsinessDetection/Tensorflow/workspace/data/labels\\231.xml\n",
      "Image:D:\\DrowsinessDetection\\Tensorflow\\workspace\\data\\images\\232.jpg -> Annotation:D:/DrowsinessDetection/Tensorflow/workspace/data/labels\\232.xml\n",
      "Image:D:\\DrowsinessDetection\\Tensorflow\\workspace\\data\\images\\234.jpg -> Annotation:D:/DrowsinessDetection/Tensorflow/workspace/data/labels\\234.xml\n",
      "Image:D:\\DrowsinessDetection\\Tensorflow\\workspace\\data\\images\\235.jpg -> Annotation:D:/DrowsinessDetection/Tensorflow/workspace/data/labels\\235.xml\n",
      "Image:D:\\DrowsinessDetection\\Tensorflow\\workspace\\data\\images\\236.jpg -> Annotation:D:/DrowsinessDetection/Tensorflow/workspace/data/labels\\236.xml\n",
      "Image:D:\\DrowsinessDetection\\Tensorflow\\workspace\\data\\images\\237.jpg -> Annotation:D:/DrowsinessDetection/Tensorflow/workspace/data/labels\\237.xml\n",
      "Image:D:\\DrowsinessDetection\\Tensorflow\\workspace\\data\\images\\238.jpg -> Annotation:D:/DrowsinessDetection/Tensorflow/workspace/data/labels\\238.xml\n",
      "Image:D:\\DrowsinessDetection\\Tensorflow\\workspace\\data\\images\\241.jpg -> Annotation:D:/DrowsinessDetection/Tensorflow/workspace/data/labels\\241.xml\n",
      "Image:D:\\DrowsinessDetection\\Tensorflow\\workspace\\data\\images\\242.jpg -> Annotation:D:/DrowsinessDetection/Tensorflow/workspace/data/labels\\242.xml\n",
      "Image:D:\\DrowsinessDetection\\Tensorflow\\workspace\\data\\images\\243.jpg -> Annotation:D:/DrowsinessDetection/Tensorflow/workspace/data/labels\\243.xml\n",
      "Image:D:\\DrowsinessDetection\\Tensorflow\\workspace\\data\\images\\244.jpg -> Annotation:D:/DrowsinessDetection/Tensorflow/workspace/data/labels\\244.xml\n",
      "Image:D:\\DrowsinessDetection\\Tensorflow\\workspace\\data\\images\\245.jpg -> Annotation:D:/DrowsinessDetection/Tensorflow/workspace/data/labels\\245.xml\n",
      "Image:D:\\DrowsinessDetection\\Tensorflow\\workspace\\data\\images\\246.jpg -> Annotation:D:/DrowsinessDetection/Tensorflow/workspace/data/labels\\246.xml\n",
      "Image:D:\\DrowsinessDetection\\Tensorflow\\workspace\\data\\images\\247.jpg -> Annotation:D:/DrowsinessDetection/Tensorflow/workspace/data/labels\\247.xml\n",
      "Image:D:\\DrowsinessDetection\\Tensorflow\\workspace\\data\\images\\249.jpg -> Annotation:D:/DrowsinessDetection/Tensorflow/workspace/data/labels\\249.xml\n",
      "Image:D:\\DrowsinessDetection\\Tensorflow\\workspace\\data\\images\\250.jpg -> Annotation:D:/DrowsinessDetection/Tensorflow/workspace/data/labels\\250.xml\n",
      "Image:D:\\DrowsinessDetection\\Tensorflow\\workspace\\data\\images\\251.jpg -> Annotation:D:/DrowsinessDetection/Tensorflow/workspace/data/labels\\251.xml\n",
      "Image:D:\\DrowsinessDetection\\Tensorflow\\workspace\\data\\images\\252.jpg -> Annotation:D:/DrowsinessDetection/Tensorflow/workspace/data/labels\\252.xml\n",
      "Image:D:\\DrowsinessDetection\\Tensorflow\\workspace\\data\\images\\253.jpg -> Annotation:D:/DrowsinessDetection/Tensorflow/workspace/data/labels\\253.xml\n",
      "Image:D:\\DrowsinessDetection\\Tensorflow\\workspace\\data\\images\\254.jpg -> Annotation:D:/DrowsinessDetection/Tensorflow/workspace/data/labels\\254.xml\n",
      "Image:D:\\DrowsinessDetection\\Tensorflow\\workspace\\data\\images\\255.jpg -> Annotation:D:/DrowsinessDetection/Tensorflow/workspace/data/labels\\255.xml\n",
      "Image:D:\\DrowsinessDetection\\Tensorflow\\workspace\\data\\images\\256.jpg -> Annotation:D:/DrowsinessDetection/Tensorflow/workspace/data/labels\\256.xml\n",
      "Image:D:\\DrowsinessDetection\\Tensorflow\\workspace\\data\\images\\257.jpg -> Annotation:D:/DrowsinessDetection/Tensorflow/workspace/data/labels\\257.xml\n",
      "Cancel creation.\n",
      "Image:D:\\DrowsinessDetection\\Tensorflow\\workspace\\data\\images\\258.jpg -> Annotation:D:/DrowsinessDetection/Tensorflow/workspace/data/labels\\258.xml\n",
      "Image:D:\\DrowsinessDetection\\Tensorflow\\workspace\\data\\images\\259.jpg -> Annotation:D:/DrowsinessDetection/Tensorflow/workspace/data/labels\\259.xml\n",
      "Image:D:\\DrowsinessDetection\\Tensorflow\\workspace\\data\\images\\260.jpg -> Annotation:D:/DrowsinessDetection/Tensorflow/workspace/data/labels\\260.xml\n",
      "Image:D:\\DrowsinessDetection\\Tensorflow\\workspace\\data\\images\\261.jpg -> Annotation:D:/DrowsinessDetection/Tensorflow/workspace/data/labels\\261.xml\n",
      "Image:D:\\DrowsinessDetection\\Tensorflow\\workspace\\data\\images\\262.jpg -> Annotation:D:/DrowsinessDetection/Tensorflow/workspace/data/labels\\262.xml\n",
      "Image:D:\\DrowsinessDetection\\Tensorflow\\workspace\\data\\images\\263.jpg -> Annotation:D:/DrowsinessDetection/Tensorflow/workspace/data/labels\\263.xml\n",
      "Image:D:\\DrowsinessDetection\\Tensorflow\\workspace\\data\\images\\264.jpg -> Annotation:D:/DrowsinessDetection/Tensorflow/workspace/data/labels\\264.xml\n",
      "Image:D:\\DrowsinessDetection\\Tensorflow\\workspace\\data\\images\\265.jpg -> Annotation:D:/DrowsinessDetection/Tensorflow/workspace/data/labels\\265.xml\n",
      "Image:D:\\DrowsinessDetection\\Tensorflow\\workspace\\data\\images\\266.jpg -> Annotation:D:/DrowsinessDetection/Tensorflow/workspace/data/labels\\266.xml\n",
      "Image:D:\\DrowsinessDetection\\Tensorflow\\workspace\\data\\images\\267.jpg -> Annotation:D:/DrowsinessDetection/Tensorflow/workspace/data/labels\\267.xml\n",
      "Image:D:\\DrowsinessDetection\\Tensorflow\\workspace\\data\\images\\268.jpg -> Annotation:D:/DrowsinessDetection/Tensorflow/workspace/data/labels\\268.xml\n",
      "Image:D:\\DrowsinessDetection\\Tensorflow\\workspace\\data\\images\\269.jpg -> Annotation:D:/DrowsinessDetection/Tensorflow/workspace/data/labels\\269.xml\n",
      "Image:D:\\DrowsinessDetection\\Tensorflow\\workspace\\data\\images\\270.jpg -> Annotation:D:/DrowsinessDetection/Tensorflow/workspace/data/labels\\270.xml\n",
      "Image:D:\\DrowsinessDetection\\Tensorflow\\workspace\\data\\images\\271.jpg -> Annotation:D:/DrowsinessDetection/Tensorflow/workspace/data/labels\\271.xml\n",
      "Image:D:\\DrowsinessDetection\\Tensorflow\\workspace\\data\\images\\272.jpg -> Annotation:D:/DrowsinessDetection/Tensorflow/workspace/data/labels\\272.xml\n",
      "Cancel creation.\n",
      "Image:D:\\DrowsinessDetection\\Tensorflow\\workspace\\data\\images\\273.jpg -> Annotation:D:/DrowsinessDetection/Tensorflow/workspace/data/labels\\273.xml\n",
      "Image:D:\\DrowsinessDetection\\Tensorflow\\workspace\\data\\images\\274.jpg -> Annotation:D:/DrowsinessDetection/Tensorflow/workspace/data/labels\\274.xml\n",
      "Image:D:\\DrowsinessDetection\\Tensorflow\\workspace\\data\\images\\275.jpg -> Annotation:D:/DrowsinessDetection/Tensorflow/workspace/data/labels\\275.xml\n",
      "Image:D:\\DrowsinessDetection\\Tensorflow\\workspace\\data\\images\\276.jpg -> Annotation:D:/DrowsinessDetection/Tensorflow/workspace/data/labels\\276.xml\n",
      "Image:D:\\DrowsinessDetection\\Tensorflow\\workspace\\data\\images\\277.jpg -> Annotation:D:/DrowsinessDetection/Tensorflow/workspace/data/labels\\277.xml\n",
      "Image:D:\\DrowsinessDetection\\Tensorflow\\workspace\\data\\images\\278.jpg -> Annotation:D:/DrowsinessDetection/Tensorflow/workspace/data/labels\\278.xml\n",
      "Image:D:\\DrowsinessDetection\\Tensorflow\\workspace\\data\\images\\279.jpg -> Annotation:D:/DrowsinessDetection/Tensorflow/workspace/data/labels\\279.xml\n",
      "Image:D:\\DrowsinessDetection\\Tensorflow\\workspace\\data\\images\\280.jpg -> Annotation:D:/DrowsinessDetection/Tensorflow/workspace/data/labels\\280.xml\n",
      "Image:D:\\DrowsinessDetection\\Tensorflow\\workspace\\data\\images\\281.jpg -> Annotation:D:/DrowsinessDetection/Tensorflow/workspace/data/labels\\281.xml\n"
     ]
    }
   ],
   "source": [
    "!cd Tensorflow/labelImg && python labelImg.py"
   ]
  },
  {
   "cell_type": "markdown",
   "metadata": {
    "tags": []
   },
   "source": [
    "# 2 Review Dataset and Build Image Loading Function"
   ]
  },
  {
   "cell_type": "markdown",
   "metadata": {},
   "source": [
    "### 2.1 Create TF and Dependencies"
   ]
  },
  {
   "cell_type": "code",
   "execution_count": 5,
   "metadata": {
    "tags": []
   },
   "outputs": [],
   "source": [
    "import tensorflow as tf\n",
    "import xml\n",
    "import numpy as np\n",
    "from matplotlib import pyplot as plt"
   ]
  },
  {
   "cell_type": "markdown",
   "metadata": {},
   "source": [
    "### 2.2 Limit GPU Memory Growth"
   ]
  },
  {
   "cell_type": "code",
   "execution_count": 6,
   "metadata": {
    "tags": []
   },
   "outputs": [],
   "source": [
    "# Avoid OOM errors by setting GPU Memory Consumption Growth\n",
    "gpus = tf.config.experimental.list_physical_devices('GPU')\n",
    "for gpu in gpus: \n",
    "    tf.config.experimental.set_memory_growth(gpu, True)"
   ]
  },
  {
   "cell_type": "code",
   "execution_count": 7,
   "metadata": {
    "tags": []
   },
   "outputs": [],
   "source": [
    "tf.config.experimental.set_memory_growth(gpu, True)"
   ]
  },
  {
   "cell_type": "code",
   "execution_count": 8,
   "metadata": {
    "tags": []
   },
   "outputs": [
    {
     "data": {
      "text/plain": [
       "[PhysicalDevice(name='/physical_device:GPU:0', device_type='GPU')]"
      ]
     },
     "execution_count": 8,
     "metadata": {},
     "output_type": "execute_result"
    }
   ],
   "source": [
    "tf.config.list_physical_devices('GPU')"
   ]
  },
  {
   "cell_type": "markdown",
   "metadata": {},
   "source": [
    "# 3. Partition Unaugmented Data"
   ]
  },
  {
   "cell_type": "markdown",
   "metadata": {},
   "source": [
    "### 3.1 MANUALLY SPLT DATA INTO TRAIN TEST AND VAL"
   ]
  },
  {
   "cell_type": "code",
   "execution_count": 2,
   "metadata": {
    "tags": []
   },
   "outputs": [
    {
     "data": {
      "text/plain": [
       "5400.0"
      ]
     },
     "execution_count": 2,
     "metadata": {},
     "output_type": "execute_result"
    }
   ],
   "source": [
    "6000*.9 # 5400 to train"
   ]
  },
  {
   "cell_type": "code",
   "execution_count": 4,
   "metadata": {
    "tags": []
   },
   "outputs": [
    {
     "data": {
      "text/plain": [
       "600.0"
      ]
     },
     "execution_count": 4,
     "metadata": {},
     "output_type": "execute_result"
    }
   ],
   "source": [
    "6000*.1 # 600 to test"
   ]
  },
  {
   "cell_type": "markdown",
   "metadata": {},
   "source": [
    "### 3.2 Move the Matching Labels"
   ]
  },
  {
   "cell_type": "code",
   "execution_count": 12,
   "metadata": {
    "jupyter": {
     "source_hidden": true
    },
    "tags": []
   },
   "outputs": [],
   "source": [
    "for folder in ['train','test']:\n",
    "    for file in os.listdir(os.path.join('Tensorflow/workspace/data', folder, 'images')):\n",
    "        \n",
    "        filename = file.split('.')[0]+'.xml'\n",
    "        existing_filepath = os.path.join('Tensorflow/workspace/data','labels', filename)\n",
    "        if os.path.exists(existing_filepath): \n",
    "            new_filepath = os.path.join('Tensorflow/workspace/data',folder,'labels',filename)\n",
    "            os.replace(existing_filepath, new_filepath)    "
   ]
  },
  {
   "cell_type": "markdown",
   "metadata": {},
   "source": [
    "# Optional: Delete this part"
   ]
  },
  {
   "cell_type": "code",
   "execution_count": 32,
   "metadata": {
    "collapsed": true,
    "jupyter": {
     "outputs_hidden": true
    },
    "tags": []
   },
   "outputs": [
    {
     "name": "stdout",
     "output_type": "stream",
     "text": [
      "Collecting Augmentor\n",
      "  Downloading Augmentor-0.2.10-py2.py3-none-any.whl (38 kB)\n",
      "Requirement already satisfied: tqdm>=4.9.0 in c:\\users\\nipa\\anaconda3\\lib\\site-packages (from Augmentor) (4.64.0)\n",
      "Requirement already satisfied: future>=0.16.0 in c:\\users\\nipa\\anaconda3\\lib\\site-packages (from Augmentor) (0.18.2)\n",
      "Requirement already satisfied: Pillow>=5.2.0 in c:\\users\\nipa\\anaconda3\\lib\\site-packages (from Augmentor) (9.0.1)\n",
      "Requirement already satisfied: numpy>=1.11.0 in c:\\users\\nipa\\anaconda3\\lib\\site-packages (from Augmentor) (1.21.5)\n",
      "Requirement already satisfied: colorama in c:\\users\\nipa\\anaconda3\\lib\\site-packages (from tqdm>=4.9.0->Augmentor) (0.4.4)\n",
      "Installing collected packages: Augmentor\n",
      "Successfully installed Augmentor-0.2.10\n"
     ]
    }
   ],
   "source": [
    "!pip install Augmentor"
   ]
  },
  {
   "cell_type": "code",
   "execution_count": 95,
   "metadata": {},
   "outputs": [],
   "source": [
    "import Augmentor"
   ]
  },
  {
   "cell_type": "code",
   "execution_count": 104,
   "metadata": {},
   "outputs": [
    {
     "name": "stdout",
     "output_type": "stream",
     "text": [
      "Initialised with 10 image(s) found.\n",
      "Output directory set to Tensorflow/workspace/images/data/images\\output."
     ]
    }
   ],
   "source": [
    "p = Augmentor.Pipeline('Tensorflow/workspace/images/data/images')"
   ]
  },
  {
   "cell_type": "code",
   "execution_count": 101,
   "metadata": {},
   "outputs": [],
   "source": [
    "p.rotate90(probability=0.5)\n",
    "p.flip_left_right(probability=0.8)\n",
    "p.flip_top_bottom(probability=0.3)\n",
    "p.resize(probability=1.0, width=120, height=120)"
   ]
  },
  {
   "cell_type": "code",
   "execution_count": null,
   "metadata": {},
   "outputs": [],
   "source": [
    "p.sample(10)"
   ]
  },
  {
   "cell_type": "markdown",
   "metadata": {
    "tags": []
   },
   "source": [
    "# 4. Setup Paths for Training and Evaluation"
   ]
  },
  {
   "cell_type": "markdown",
   "metadata": {},
   "source": [
    "### 4.1 Setup"
   ]
  },
  {
   "cell_type": "code",
   "execution_count": 3,
   "metadata": {
    "tags": []
   },
   "outputs": [],
   "source": [
    "WORKSPACE_PATH = 'Tensorflow/workspace'\n",
    "SCRIPTS_PATH = 'Tensorflow/scripts'\n",
    "APIMODEL_PATH = 'Tensorflow/models'\n",
    "ANNOTATION_PATH = WORKSPACE_PATH+'/annotations'\n",
    "IMAGE_PATH = WORKSPACE_PATH+'/images'\n",
    "MODEL_PATH = WORKSPACE_PATH+'/models'\n",
    "PRETRAINED_MODEL_PATH = WORKSPACE_PATH+'/pre-trained-models'\n",
    "CONFIG_PATH = MODEL_PATH+'/my_ssd_mobnet/pipeline.config'\n",
    "CHECKPOINT_PATH = MODEL_PATH+'/my_ssd_mobnet/'"
   ]
  },
  {
   "cell_type": "markdown",
   "metadata": {
    "tags": []
   },
   "source": [
    "### 4.2 Create Label Map"
   ]
  },
  {
   "cell_type": "code",
   "execution_count": 48,
   "metadata": {
    "tags": []
   },
   "outputs": [],
   "source": [
    "labels = [{'name':'awake', 'id':1}, {'name':'drowsy', 'id':2}]\n",
    "\n",
    "with open(ANNOTATION_PATH + '\\label_map.pbtxt', 'w') as f:\n",
    "    for label in labels:\n",
    "        f.write('item { \\n')\n",
    "        f.write('\\tname:\\'{}\\'\\n'.format(label['name']))\n",
    "        f.write('\\tid:{}\\n'.format(label['id']))\n",
    "        f.write('}\\n')"
   ]
  },
  {
   "cell_type": "markdown",
   "metadata": {
    "tags": []
   },
   "source": [
    "### 4.3 Create TF records"
   ]
  },
  {
   "cell_type": "code",
   "execution_count": 15,
   "metadata": {
    "tags": []
   },
   "outputs": [
    {
     "name": "stdout",
     "output_type": "stream",
     "text": [
      "Successfully created the TFRecord file: Tensorflow/workspace/annotations/train.record\n"
     ]
    }
   ],
   "source": [
    "!python {SCRIPTS_PATH + '/generate_tfrecord.py'} -x {IMAGE_PATH + '/train'} -l {ANNOTATION_PATH + '/label_map.pbtxt'} -o {ANNOTATION_PATH + '/train.record'}"
   ]
  },
  {
   "cell_type": "code",
   "execution_count": 16,
   "metadata": {
    "tags": []
   },
   "outputs": [
    {
     "name": "stdout",
     "output_type": "stream",
     "text": [
      "Successfully created the TFRecord file: Tensorflow/workspace/annotations/test.record\n"
     ]
    }
   ],
   "source": [
    "!python {SCRIPTS_PATH + '/generate_tfrecord.py'} -x{IMAGE_PATH + '/test'} -l {ANNOTATION_PATH + '/label_map.pbtxt'} -o {ANNOTATION_PATH + '/test.record'}"
   ]
  },
  {
   "cell_type": "markdown",
   "metadata": {
    "tags": []
   },
   "source": [
    "### 4.4 Download TF Models Pretrained Models from Tensorflow Model Zoo"
   ]
  },
  {
   "cell_type": "code",
   "execution_count": 17,
   "metadata": {
    "tags": []
   },
   "outputs": [
    {
     "name": "stderr",
     "output_type": "stream",
     "text": [
      "fatal: destination path 'models' already exists and is not an empty directory.\n"
     ]
    }
   ],
   "source": [
    "!cd Tensorflow && git clone https://github.com/tensorflow/models"
   ]
  },
  {
   "cell_type": "code",
   "execution_count": 6,
   "metadata": {
    "tags": []
   },
   "outputs": [],
   "source": [
    "# !pip install wget"
   ]
  },
  {
   "cell_type": "code",
   "execution_count": 7,
   "metadata": {
    "tags": []
   },
   "outputs": [],
   "source": [
    "# import wget"
   ]
  },
  {
   "cell_type": "code",
   "execution_count": 8,
   "metadata": {
    "tags": []
   },
   "outputs": [],
   "source": [
    "# wget.download('http://download.tensorflow.org/models/object_detection/tf2/20200711/ssd_mobilenet_v2_fpnlite_320x320_coco17_tpu-8.tar.gz')\n",
    "# !mv ssd_mobilenet_v2_fpnlite_320x320_coco17_tpu-8.tar.gz {PRETRAINED_MODEL_PATH}\n",
    "# !cd {PRETRAINED_MODEL_PATH} && tar -zxvf ssd_mobilenet_v2_fpnlite_320x320_coco17_tpu-8.tar.gz"
   ]
  },
  {
   "cell_type": "markdown",
   "metadata": {
    "tags": []
   },
   "source": [
    "### 4.5 Copy Model Config to Training Folder"
   ]
  },
  {
   "cell_type": "code",
   "execution_count": 4,
   "metadata": {
    "tags": []
   },
   "outputs": [],
   "source": [
    "CUSTOM_MODEL_NAME = 'my_ssd_mobnet'"
   ]
  },
  {
   "cell_type": "code",
   "execution_count": 5,
   "metadata": {
    "tags": []
   },
   "outputs": [
    {
     "name": "stderr",
     "output_type": "stream",
     "text": [
      "A subdirectory or file Tensorflow\\workspace\\models\\my_ssd_mobnet already exists.\n"
     ]
    }
   ],
   "source": [
    "!mkdir {'Tensorflow\\workspace\\models\\\\'+CUSTOM_MODEL_NAME}\n",
    "!cp {PRETRAINED_MODEL_PATH+'/ssd_mobilenet_v2_fpnlite_320x320_coco17_tpu-8/pipeline.config'} {MODEL_PATH+'/'+CUSTOM_MODEL_NAME}"
   ]
  },
  {
   "cell_type": "markdown",
   "metadata": {
    "tags": []
   },
   "source": [
    "### 4.6 Update Config For Transfer Learning"
   ]
  },
  {
   "cell_type": "code",
   "execution_count": 6,
   "metadata": {
    "tags": []
   },
   "outputs": [],
   "source": [
    "import tensorflow as tf\n",
    "from object_detection.utils import config_util\n",
    "from object_detection.protos import pipeline_pb2\n",
    "from google.protobuf import text_format"
   ]
  },
  {
   "cell_type": "code",
   "execution_count": 7,
   "metadata": {
    "tags": []
   },
   "outputs": [],
   "source": [
    "CONFIG_PATH = MODEL_PATH+'/'+CUSTOM_MODEL_NAME+'/pipeline.config'"
   ]
  },
  {
   "cell_type": "code",
   "execution_count": 8,
   "metadata": {
    "tags": []
   },
   "outputs": [],
   "source": [
    "config = config_util.get_configs_from_pipeline_file(CONFIG_PATH)"
   ]
  },
  {
   "cell_type": "code",
   "execution_count": 9,
   "metadata": {
    "tags": []
   },
   "outputs": [
    {
     "data": {
      "text/plain": [
       "{'model': ssd {\n",
       "   num_classes: 90\n",
       "   image_resizer {\n",
       "     fixed_shape_resizer {\n",
       "       height: 320\n",
       "       width: 320\n",
       "     }\n",
       "   }\n",
       "   feature_extractor {\n",
       "     type: \"ssd_mobilenet_v2_fpn_keras\"\n",
       "     depth_multiplier: 1.0\n",
       "     min_depth: 16\n",
       "     conv_hyperparams {\n",
       "       regularizer {\n",
       "         l2_regularizer {\n",
       "           weight: 4e-05\n",
       "         }\n",
       "       }\n",
       "       initializer {\n",
       "         random_normal_initializer {\n",
       "           mean: 0.0\n",
       "           stddev: 0.01\n",
       "         }\n",
       "       }\n",
       "       activation: RELU_6\n",
       "       batch_norm {\n",
       "         decay: 0.997\n",
       "         scale: true\n",
       "         epsilon: 0.001\n",
       "       }\n",
       "     }\n",
       "     use_depthwise: true\n",
       "     override_base_feature_extractor_hyperparams: true\n",
       "     fpn {\n",
       "       min_level: 3\n",
       "       max_level: 7\n",
       "       additional_layer_depth: 128\n",
       "     }\n",
       "   }\n",
       "   box_coder {\n",
       "     faster_rcnn_box_coder {\n",
       "       y_scale: 10.0\n",
       "       x_scale: 10.0\n",
       "       height_scale: 5.0\n",
       "       width_scale: 5.0\n",
       "     }\n",
       "   }\n",
       "   matcher {\n",
       "     argmax_matcher {\n",
       "       matched_threshold: 0.5\n",
       "       unmatched_threshold: 0.5\n",
       "       ignore_thresholds: false\n",
       "       negatives_lower_than_unmatched: true\n",
       "       force_match_for_each_row: true\n",
       "       use_matmul_gather: true\n",
       "     }\n",
       "   }\n",
       "   similarity_calculator {\n",
       "     iou_similarity {\n",
       "     }\n",
       "   }\n",
       "   box_predictor {\n",
       "     weight_shared_convolutional_box_predictor {\n",
       "       conv_hyperparams {\n",
       "         regularizer {\n",
       "           l2_regularizer {\n",
       "             weight: 4e-05\n",
       "           }\n",
       "         }\n",
       "         initializer {\n",
       "           random_normal_initializer {\n",
       "             mean: 0.0\n",
       "             stddev: 0.01\n",
       "           }\n",
       "         }\n",
       "         activation: RELU_6\n",
       "         batch_norm {\n",
       "           decay: 0.997\n",
       "           scale: true\n",
       "           epsilon: 0.001\n",
       "         }\n",
       "       }\n",
       "       depth: 128\n",
       "       num_layers_before_predictor: 4\n",
       "       kernel_size: 3\n",
       "       class_prediction_bias_init: -4.6\n",
       "       share_prediction_tower: true\n",
       "       use_depthwise: true\n",
       "     }\n",
       "   }\n",
       "   anchor_generator {\n",
       "     multiscale_anchor_generator {\n",
       "       min_level: 3\n",
       "       max_level: 7\n",
       "       anchor_scale: 4.0\n",
       "       aspect_ratios: 1.0\n",
       "       aspect_ratios: 2.0\n",
       "       aspect_ratios: 0.5\n",
       "       scales_per_octave: 2\n",
       "     }\n",
       "   }\n",
       "   post_processing {\n",
       "     batch_non_max_suppression {\n",
       "       score_threshold: 1e-08\n",
       "       iou_threshold: 0.6\n",
       "       max_detections_per_class: 100\n",
       "       max_total_detections: 100\n",
       "       use_static_shapes: false\n",
       "     }\n",
       "     score_converter: SIGMOID\n",
       "   }\n",
       "   normalize_loss_by_num_matches: true\n",
       "   loss {\n",
       "     localization_loss {\n",
       "       weighted_smooth_l1 {\n",
       "       }\n",
       "     }\n",
       "     classification_loss {\n",
       "       weighted_sigmoid_focal {\n",
       "         gamma: 2.0\n",
       "         alpha: 0.25\n",
       "       }\n",
       "     }\n",
       "     classification_weight: 1.0\n",
       "     localization_weight: 1.0\n",
       "   }\n",
       "   encode_background_as_zeros: true\n",
       "   normalize_loc_loss_by_codesize: true\n",
       "   inplace_batchnorm_update: true\n",
       "   freeze_batchnorm: false\n",
       " },\n",
       " 'train_config': batch_size: 128\n",
       " data_augmentation_options {\n",
       "   random_horizontal_flip {\n",
       "   }\n",
       " }\n",
       " data_augmentation_options {\n",
       "   random_crop_image {\n",
       "     min_object_covered: 0.0\n",
       "     min_aspect_ratio: 0.75\n",
       "     max_aspect_ratio: 3.0\n",
       "     min_area: 0.75\n",
       "     max_area: 1.0\n",
       "     overlap_thresh: 0.0\n",
       "   }\n",
       " }\n",
       " sync_replicas: true\n",
       " optimizer {\n",
       "   momentum_optimizer {\n",
       "     learning_rate {\n",
       "       cosine_decay_learning_rate {\n",
       "         learning_rate_base: 0.08\n",
       "         total_steps: 50000\n",
       "         warmup_learning_rate: 0.026666\n",
       "         warmup_steps: 1000\n",
       "       }\n",
       "     }\n",
       "     momentum_optimizer_value: 0.9\n",
       "   }\n",
       "   use_moving_average: false\n",
       " }\n",
       " fine_tune_checkpoint: \"PATH_TO_BE_CONFIGURED\"\n",
       " num_steps: 50000\n",
       " startup_delay_steps: 0.0\n",
       " replicas_to_aggregate: 8\n",
       " max_number_of_boxes: 100\n",
       " unpad_groundtruth_tensors: false\n",
       " fine_tune_checkpoint_type: \"classification\"\n",
       " fine_tune_checkpoint_version: V2,\n",
       " 'train_input_config': label_map_path: \"PATH_TO_BE_CONFIGURED\"\n",
       " tf_record_input_reader {\n",
       "   input_path: \"PATH_TO_BE_CONFIGURED\"\n",
       " },\n",
       " 'eval_config': metrics_set: \"coco_detection_metrics\"\n",
       " use_moving_averages: false,\n",
       " 'eval_input_configs': [label_map_path: \"PATH_TO_BE_CONFIGURED\"\n",
       " shuffle: false\n",
       " num_epochs: 1\n",
       " tf_record_input_reader {\n",
       "   input_path: \"PATH_TO_BE_CONFIGURED\"\n",
       " }\n",
       " ],\n",
       " 'eval_input_config': label_map_path: \"PATH_TO_BE_CONFIGURED\"\n",
       " shuffle: false\n",
       " num_epochs: 1\n",
       " tf_record_input_reader {\n",
       "   input_path: \"PATH_TO_BE_CONFIGURED\"\n",
       " }}"
      ]
     },
     "execution_count": 9,
     "metadata": {},
     "output_type": "execute_result"
    }
   ],
   "source": [
    "config"
   ]
  },
  {
   "cell_type": "code",
   "execution_count": 10,
   "metadata": {
    "tags": []
   },
   "outputs": [],
   "source": [
    "pipeline_config = pipeline_pb2.TrainEvalPipelineConfig()\n",
    "with tf.io.gfile.GFile(CONFIG_PATH, \"r\") as f:                                                                                                                                                                                                                     \n",
    "    proto_str = f.read()                                                                                                                                                                                                                                          \n",
    "    text_format.Merge(proto_str, pipeline_config)  "
   ]
  },
  {
   "cell_type": "code",
   "execution_count": 11,
   "metadata": {
    "tags": []
   },
   "outputs": [],
   "source": [
    "pipeline_config.model.ssd.num_classes = 2\n",
    "pipeline_config.train_config.batch_size = 4\n",
    "pipeline_config.train_config.fine_tune_checkpoint = PRETRAINED_MODEL_PATH+'/ssd_mobilenet_v2_fpnlite_320x320_coco17_tpu-8/checkpoint/ckpt-0'\n",
    "pipeline_config.train_config.fine_tune_checkpoint_type = \"detection\"\n",
    "pipeline_config.train_input_reader.label_map_path= ANNOTATION_PATH + '/label_map.pbtxt'\n",
    "pipeline_config.train_input_reader.tf_record_input_reader.input_path[:] = [ANNOTATION_PATH + '/train.record']\n",
    "pipeline_config.eval_input_reader[0].label_map_path = ANNOTATION_PATH + '/label_map.pbtxt'\n",
    "pipeline_config.eval_input_reader[0].tf_record_input_reader.input_path[:] = [ANNOTATION_PATH + '/test.record']"
   ]
  },
  {
   "cell_type": "code",
   "execution_count": 12,
   "metadata": {
    "tags": []
   },
   "outputs": [],
   "source": [
    "config_text = text_format.MessageToString(pipeline_config)                                                                                                                                                                                                        \n",
    "with tf.io.gfile.GFile(CONFIG_PATH, \"wb\") as f:                                                                                                                                                                                                                     \n",
    "    f.write(config_text)   "
   ]
  },
  {
   "cell_type": "code",
   "execution_count": 13,
   "metadata": {
    "tags": []
   },
   "outputs": [
    {
     "data": {
      "text/plain": [
       "model {\n",
       "  ssd {\n",
       "    num_classes: 2\n",
       "    image_resizer {\n",
       "      fixed_shape_resizer {\n",
       "        height: 320\n",
       "        width: 320\n",
       "      }\n",
       "    }\n",
       "    feature_extractor {\n",
       "      type: \"ssd_mobilenet_v2_fpn_keras\"\n",
       "      depth_multiplier: 1.0\n",
       "      min_depth: 16\n",
       "      conv_hyperparams {\n",
       "        regularizer {\n",
       "          l2_regularizer {\n",
       "            weight: 4e-05\n",
       "          }\n",
       "        }\n",
       "        initializer {\n",
       "          random_normal_initializer {\n",
       "            mean: 0.0\n",
       "            stddev: 0.01\n",
       "          }\n",
       "        }\n",
       "        activation: RELU_6\n",
       "        batch_norm {\n",
       "          decay: 0.997\n",
       "          scale: true\n",
       "          epsilon: 0.001\n",
       "        }\n",
       "      }\n",
       "      use_depthwise: true\n",
       "      override_base_feature_extractor_hyperparams: true\n",
       "      fpn {\n",
       "        min_level: 3\n",
       "        max_level: 7\n",
       "        additional_layer_depth: 128\n",
       "      }\n",
       "    }\n",
       "    box_coder {\n",
       "      faster_rcnn_box_coder {\n",
       "        y_scale: 10.0\n",
       "        x_scale: 10.0\n",
       "        height_scale: 5.0\n",
       "        width_scale: 5.0\n",
       "      }\n",
       "    }\n",
       "    matcher {\n",
       "      argmax_matcher {\n",
       "        matched_threshold: 0.5\n",
       "        unmatched_threshold: 0.5\n",
       "        ignore_thresholds: false\n",
       "        negatives_lower_than_unmatched: true\n",
       "        force_match_for_each_row: true\n",
       "        use_matmul_gather: true\n",
       "      }\n",
       "    }\n",
       "    similarity_calculator {\n",
       "      iou_similarity {\n",
       "      }\n",
       "    }\n",
       "    box_predictor {\n",
       "      weight_shared_convolutional_box_predictor {\n",
       "        conv_hyperparams {\n",
       "          regularizer {\n",
       "            l2_regularizer {\n",
       "              weight: 4e-05\n",
       "            }\n",
       "          }\n",
       "          initializer {\n",
       "            random_normal_initializer {\n",
       "              mean: 0.0\n",
       "              stddev: 0.01\n",
       "            }\n",
       "          }\n",
       "          activation: RELU_6\n",
       "          batch_norm {\n",
       "            decay: 0.997\n",
       "            scale: true\n",
       "            epsilon: 0.001\n",
       "          }\n",
       "        }\n",
       "        depth: 128\n",
       "        num_layers_before_predictor: 4\n",
       "        kernel_size: 3\n",
       "        class_prediction_bias_init: -4.6\n",
       "        share_prediction_tower: true\n",
       "        use_depthwise: true\n",
       "      }\n",
       "    }\n",
       "    anchor_generator {\n",
       "      multiscale_anchor_generator {\n",
       "        min_level: 3\n",
       "        max_level: 7\n",
       "        anchor_scale: 4.0\n",
       "        aspect_ratios: 1.0\n",
       "        aspect_ratios: 2.0\n",
       "        aspect_ratios: 0.5\n",
       "        scales_per_octave: 2\n",
       "      }\n",
       "    }\n",
       "    post_processing {\n",
       "      batch_non_max_suppression {\n",
       "        score_threshold: 1e-08\n",
       "        iou_threshold: 0.6\n",
       "        max_detections_per_class: 100\n",
       "        max_total_detections: 100\n",
       "        use_static_shapes: false\n",
       "      }\n",
       "      score_converter: SIGMOID\n",
       "    }\n",
       "    normalize_loss_by_num_matches: true\n",
       "    loss {\n",
       "      localization_loss {\n",
       "        weighted_smooth_l1 {\n",
       "        }\n",
       "      }\n",
       "      classification_loss {\n",
       "        weighted_sigmoid_focal {\n",
       "          gamma: 2.0\n",
       "          alpha: 0.25\n",
       "        }\n",
       "      }\n",
       "      classification_weight: 1.0\n",
       "      localization_weight: 1.0\n",
       "    }\n",
       "    encode_background_as_zeros: true\n",
       "    normalize_loc_loss_by_codesize: true\n",
       "    inplace_batchnorm_update: true\n",
       "    freeze_batchnorm: false\n",
       "  }\n",
       "}\n",
       "train_config {\n",
       "  batch_size: 4\n",
       "  data_augmentation_options {\n",
       "    random_horizontal_flip {\n",
       "    }\n",
       "  }\n",
       "  data_augmentation_options {\n",
       "    random_crop_image {\n",
       "      min_object_covered: 0.0\n",
       "      min_aspect_ratio: 0.75\n",
       "      max_aspect_ratio: 3.0\n",
       "      min_area: 0.75\n",
       "      max_area: 1.0\n",
       "      overlap_thresh: 0.0\n",
       "    }\n",
       "  }\n",
       "  sync_replicas: true\n",
       "  optimizer {\n",
       "    momentum_optimizer {\n",
       "      learning_rate {\n",
       "        cosine_decay_learning_rate {\n",
       "          learning_rate_base: 0.08\n",
       "          total_steps: 50000\n",
       "          warmup_learning_rate: 0.026666\n",
       "          warmup_steps: 1000\n",
       "        }\n",
       "      }\n",
       "      momentum_optimizer_value: 0.9\n",
       "    }\n",
       "    use_moving_average: false\n",
       "  }\n",
       "  fine_tune_checkpoint: \"Tensorflow/workspace/pre-trained-models/ssd_mobilenet_v2_fpnlite_320x320_coco17_tpu-8/checkpoint/ckpt-0\"\n",
       "  num_steps: 50000\n",
       "  startup_delay_steps: 0.0\n",
       "  replicas_to_aggregate: 8\n",
       "  max_number_of_boxes: 100\n",
       "  unpad_groundtruth_tensors: false\n",
       "  fine_tune_checkpoint_type: \"detection\"\n",
       "  fine_tune_checkpoint_version: V2\n",
       "}\n",
       "train_input_reader {\n",
       "  label_map_path: \"Tensorflow/workspace/annotations/label_map.pbtxt\"\n",
       "  tf_record_input_reader {\n",
       "    input_path: \"Tensorflow/workspace/annotations/train.record\"\n",
       "  }\n",
       "}\n",
       "eval_config {\n",
       "  metrics_set: \"coco_detection_metrics\"\n",
       "  use_moving_averages: false\n",
       "}\n",
       "eval_input_reader {\n",
       "  label_map_path: \"Tensorflow/workspace/annotations/label_map.pbtxt\"\n",
       "  shuffle: false\n",
       "  num_epochs: 1\n",
       "  tf_record_input_reader {\n",
       "    input_path: \"Tensorflow/workspace/annotations/test.record\"\n",
       "  }\n",
       "}"
      ]
     },
     "execution_count": 13,
     "metadata": {},
     "output_type": "execute_result"
    }
   ],
   "source": [
    "pipeline_config"
   ]
  },
  {
   "cell_type": "markdown",
   "metadata": {
    "tags": []
   },
   "source": [
    "# 5. Train the model"
   ]
  },
  {
   "cell_type": "code",
   "execution_count": 31,
   "metadata": {
    "tags": []
   },
   "outputs": [
    {
     "name": "stdout",
     "output_type": "stream",
     "text": [
      "python Tensorflow/models/research/object_detection/model_main_tf2.py --model_dir=Tensorflow/workspace/models/my_ssd_mobnet --pipeline_config_path=Tensorflow/workspace/models/my_ssd_mobnet/pipeline.config --num_train_steps=5000\n"
     ]
    }
   ],
   "source": [
    "print(\"\"\"python {}/research/object_detection/model_main_tf2.py --model_dir={}/{} --pipeline_config_path={}/{}/pipeline.config --num_train_steps=5000\"\"\".format(APIMODEL_PATH, MODEL_PATH,CUSTOM_MODEL_NAME,MODEL_PATH,CUSTOM_MODEL_NAME))"
   ]
  },
  {
   "cell_type": "markdown",
   "metadata": {
    "tags": []
   },
   "source": [
    "# 6. Evaluate the model"
   ]
  },
  {
   "cell_type": "code",
   "execution_count": 32,
   "metadata": {
    "tags": []
   },
   "outputs": [
    {
     "name": "stdout",
     "output_type": "stream",
     "text": [
      "python Tensorflow/models/research/object_detection/model_main_tf2.py --model_dir=Tensorflow/workspace/models/my_ssd_mobnet --pipeline_config_path=Tensorflow/workspace/models/my_ssd_mobnet/pipeline.config --checkpoint_dir=Tensorflow/workspace/models/my_ssd_mobnet\n"
     ]
    }
   ],
   "source": [
    "print(\"\"\"python {}/research/object_detection/model_main_tf2.py --model_dir={}/{} --pipeline_config_path={}/{}/pipeline.config --checkpoint_dir={}/{}\"\"\".format(APIMODEL_PATH, MODEL_PATH,CUSTOM_MODEL_NAME,MODEL_PATH,CUSTOM_MODEL_NAME,MODEL_PATH,CUSTOM_MODEL_NAME))"
   ]
  },
  {
   "cell_type": "markdown",
   "metadata": {
    "tags": []
   },
   "source": [
    "# 7. Load Train Model From Checkpoint"
   ]
  },
  {
   "cell_type": "markdown",
   "metadata": {},
   "source": [
    "### 7.1 Import object_detection and deps"
   ]
  },
  {
   "cell_type": "code",
   "execution_count": 14,
   "metadata": {
    "tags": []
   },
   "outputs": [],
   "source": [
    "import os\n",
    "from object_detection.utils import label_map_util\n",
    "from object_detection.utils import visualization_utils as viz_utils\n",
    "from object_detection.builders import model_builder"
   ]
  },
  {
   "cell_type": "markdown",
   "metadata": {},
   "source": [
    "### 7.2 Load pipeline config and build a detection model"
   ]
  },
  {
   "cell_type": "code",
   "execution_count": 15,
   "metadata": {
    "tags": []
   },
   "outputs": [],
   "source": [
    "configs = config_util.get_configs_from_pipeline_file(CONFIG_PATH)\n",
    "detection_model = model_builder.build(model_config=configs['model'], is_training=False)"
   ]
  },
  {
   "cell_type": "markdown",
   "metadata": {},
   "source": [
    "### 7.3 Restore checkpoint"
   ]
  },
  {
   "cell_type": "code",
   "execution_count": 16,
   "metadata": {
    "tags": []
   },
   "outputs": [
    {
     "data": {
      "text/plain": [
       "<tensorflow.python.training.tracking.util.CheckpointLoadStatus at 0x29787e43370>"
      ]
     },
     "execution_count": 16,
     "metadata": {},
     "output_type": "execute_result"
    }
   ],
   "source": [
    "ckpt = tf.compat.v2.train.Checkpoint(model=detection_model)\n",
    "ckpt.restore(os.path.join(CHECKPOINT_PATH, 'ckpt-6')).expect_partial()"
   ]
  },
  {
   "cell_type": "code",
   "execution_count": 17,
   "metadata": {},
   "outputs": [],
   "source": [
    "@tf.function\n",
    "def detect_fn(image):\n",
    "    image, shapes = detection_model.preprocess(image)\n",
    "    prediction_dict = detection_model.predict(image, shapes)\n",
    "    detections = detection_model.postprocess(prediction_dict, shapes)\n",
    "    return detections"
   ]
  },
  {
   "cell_type": "markdown",
   "metadata": {
    "tags": []
   },
   "source": [
    "# 8. Detect from An Image"
   ]
  },
  {
   "cell_type": "code",
   "execution_count": 18,
   "metadata": {
    "tags": []
   },
   "outputs": [],
   "source": [
    "# import dependecies\n",
    "import cv2 \n",
    "import numpy as np\n",
    "from matplotlib import pyplot as plt\n",
    "%matplotlib inline"
   ]
  },
  {
   "cell_type": "code",
   "execution_count": 19,
   "metadata": {
    "tags": []
   },
   "outputs": [],
   "source": [
    "category_index = label_map_util.create_category_index_from_labelmap(ANNOTATION_PATH+'/label_map.pbtxt')"
   ]
  },
  {
   "cell_type": "code",
   "execution_count": 20,
   "metadata": {
    "tags": []
   },
   "outputs": [
    {
     "data": {
      "text/plain": [
       "{1: {'id': 1, 'name': 'awake'}, 2: {'id': 2, 'name': 'drowsy'}}"
      ]
     },
     "execution_count": 20,
     "metadata": {},
     "output_type": "execute_result"
    }
   ],
   "source": [
    "category_index"
   ]
  },
  {
   "cell_type": "code",
   "execution_count": 21,
   "metadata": {
    "tags": []
   },
   "outputs": [],
   "source": [
    "IMAGE_PATH = os.path.join(IMAGE_PATH, 'test', '104.jpg')"
   ]
  },
  {
   "cell_type": "code",
   "execution_count": 22,
   "metadata": {
    "tags": []
   },
   "outputs": [
    {
     "data": {
      "text/plain": [
       "'Tensorflow/workspace/images\\\\test\\\\104.jpg'"
      ]
     },
     "execution_count": 22,
     "metadata": {},
     "output_type": "execute_result"
    }
   ],
   "source": [
    "IMAGE_PATH"
   ]
  },
  {
   "cell_type": "code",
   "execution_count": 23,
   "metadata": {
    "tags": []
   },
   "outputs": [
    {
     "data": {
      "image/png": "[encoded data removed]",
      "text/plain": [
       "<Figure size 432x288 with 1 Axes>"
      ]
     },
     "metadata": {
      "needs_background": "light"
     },
     "output_type": "display_data"
    }
   ],
   "source": [
    "img = cv2.imread(IMAGE_PATH)\n",
    "image_np = np.array(img)\n",
    "\n",
    "input_tensor = tf.convert_to_tensor(np.expand_dims(image_np, 0), dtype=tf.float32)\n",
    "detections = detect_fn(input_tensor)\n",
    "\n",
    "num_detections = int(detections.pop('num_detections'))\n",
    "detections = {key: value[0, :num_detections].numpy()\n",
    "              for key, value in detections.items()}\n",
    "detections['num_detections'] = num_detections\n",
    "\n",
    "# detection_classes should be ints.\n",
    "detections['detection_classes'] = detections['detection_classes'].astype(np.int64)\n",
    "\n",
    "label_id_offset = 1\n",
    "image_np_with_detections = image_np.copy()\n",
    "\n",
    "viz_utils.visualize_boxes_and_labels_on_image_array(\n",
    "            image_np_with_detections,\n",
    "            detections['detection_boxes'],\n",
    "            detections['detection_classes']+label_id_offset,\n",
    "            detections['detection_scores'],\n",
    "            category_index,\n",
    "            use_normalized_coordinates=True,\n",
    "            max_boxes_to_draw=1,\n",
    "            min_score_thresh=.5,\n",
    "            agnostic_mode=False)\n",
    "\n",
    "plt.imshow(cv2.cvtColor(image_np_with_detections, cv2.COLOR_BGR2RGB))\n",
    "plt.show()"
   ]
  },
  {
   "cell_type": "markdown",
   "metadata": {
    "tags": []
   },
   "source": [
    "# 9. Detect in Real-Time"
   ]
  },
  {
   "cell_type": "code",
   "execution_count": 24,
   "metadata": {
    "tags": []
   },
   "outputs": [],
   "source": [
    "# Setup capture\n",
    "cap = cv2.VideoCapture(0)\n",
    "width = int(cap.get(cv2.CAP_PROP_FRAME_WIDTH))\n",
    "height = int(cap.get(cv2.CAP_PROP_FRAME_HEIGHT))"
   ]
  },
  {
   "cell_type": "code",
   "execution_count": 25,
   "metadata": {
    "tags": []
   },
   "outputs": [
    {
     "ename": "KeyboardInterrupt",
     "evalue": "",
     "output_type": "error",
     "traceback": [
      "\u001b[1;31m---------------------------------------------------------------------------\u001b[0m",
      "\u001b[1;31mKeyboardInterrupt\u001b[0m                         Traceback (most recent call last)",
      "Input \u001b[1;32mIn [25]\u001b[0m, in \u001b[0;36m<cell line: 2>\u001b[1;34m()\u001b[0m\n\u001b[0;32m     19\u001b[0m viz_utils\u001b[38;5;241m.\u001b[39mvisualize_boxes_and_labels_on_image_array(\n\u001b[0;32m     20\u001b[0m             image_np_with_detections,\n\u001b[0;32m     21\u001b[0m             detections[\u001b[38;5;124m'\u001b[39m\u001b[38;5;124mdetection_boxes\u001b[39m\u001b[38;5;124m'\u001b[39m],\n\u001b[1;32m   (...)\u001b[0m\n\u001b[0;32m     27\u001b[0m             min_score_thresh\u001b[38;5;241m=\u001b[39m\u001b[38;5;241m.5\u001b[39m,\n\u001b[0;32m     28\u001b[0m             agnostic_mode\u001b[38;5;241m=\u001b[39m\u001b[38;5;28;01mFalse\u001b[39;00m)\n\u001b[0;32m     30\u001b[0m cv2\u001b[38;5;241m.\u001b[39mimshow(\u001b[38;5;124m'\u001b[39m\u001b[38;5;124mobject detection\u001b[39m\u001b[38;5;124m'\u001b[39m,  cv2\u001b[38;5;241m.\u001b[39mresize(image_np_with_detections, (\u001b[38;5;241m800\u001b[39m, \u001b[38;5;241m600\u001b[39m)))\n\u001b[1;32m---> 32\u001b[0m \u001b[38;5;28;01mif\u001b[39;00m \u001b[43mcv2\u001b[49m\u001b[38;5;241;43m.\u001b[39;49m\u001b[43mwaitKey\u001b[49m\u001b[43m(\u001b[49m\u001b[38;5;241;43m1\u001b[39;49m\u001b[43m)\u001b[49m \u001b[38;5;241m&\u001b[39m \u001b[38;5;241m0xFF\u001b[39m \u001b[38;5;241m==\u001b[39m \u001b[38;5;28mord\u001b[39m(\u001b[38;5;124m'\u001b[39m\u001b[38;5;124mq\u001b[39m\u001b[38;5;124m'\u001b[39m):\n\u001b[0;32m     33\u001b[0m     cap\u001b[38;5;241m.\u001b[39mrelease()\n\u001b[0;32m     34\u001b[0m     \u001b[38;5;28;01mbreak\u001b[39;00m\n",
      "\u001b[1;31mKeyboardInterrupt\u001b[0m: "
     ]
    }
   ],
   "source": [
    "while True: \n",
    "    ret, frame = cap.read()\n",
    "    image_np = np.array(frame)\n",
    "    \n",
    "    input_tensor = tf.convert_to_tensor(np.expand_dims(image_np, 0), dtype=tf.float32)\n",
    "    detections = detect_fn(input_tensor)\n",
    "    \n",
    "    num_detections = int(detections.pop('num_detections'))\n",
    "    detections = {key: value[0, :num_detections].numpy()\n",
    "                  for key, value in detections.items()}\n",
    "    detections['num_detections'] = num_detections\n",
    "\n",
    "    # detection_classes should be ints.\n",
    "    detections['detection_classes'] = detections['detection_classes'].astype(np.int64)\n",
    "\n",
    "    label_id_offset = 1\n",
    "    image_np_with_detections = image_np.copy()\n",
    "\n",
    "    viz_utils.visualize_boxes_and_labels_on_image_array(\n",
    "                image_np_with_detections,\n",
    "                detections['detection_boxes'],\n",
    "                detections['detection_classes']+label_id_offset,\n",
    "                detections['detection_scores'],\n",
    "                category_index,\n",
    "                use_normalized_coordinates=True,\n",
    "                max_boxes_to_draw=5,\n",
    "                min_score_thresh=.5,\n",
    "                agnostic_mode=False)\n",
    "\n",
    "    cv2.imshow('object detection',  cv2.resize(image_np_with_detections, (800, 600)))\n",
    "    \n",
    "    if cv2.waitKey(1) & 0xFF == ord('q'):\n",
    "        cap.release()\n",
    "        break"
   ]
  },
  {
   "cell_type": "code",
   "execution_count": null,
   "metadata": {},
   "outputs": [],
   "source": []
  }
 ],
 "metadata": {
  "kernelspec": {
   "display_name": "Python 3 (ipykernel)",
   "language": "python",
   "name": "python3"
  },
  "language_info": {
   "codemirror_mode": {
    "name": "ipython",
    "version": 3
   },
   "file_extension": ".py",
   "mimetype": "text/x-python",
   "name": "python",
   "nbconvert_exporter": "python",
   "pygments_lexer": "ipython3",
   "version": "3.9.12"
  }
 },
 "nbformat": 4,
 "nbformat_minor": 4
}
